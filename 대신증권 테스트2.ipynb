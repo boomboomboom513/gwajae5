{
 "cells": [
  {
   "cell_type": "code",
   "execution_count": 5,
   "metadata": {},
   "outputs": [],
   "source": [
    "import win32com.client\n",
    "import pandas as pd\n",
    "import numpy as np\n",
    "import datetime as dt\n",
    "import time"
   ]
  },
  {
   "cell_type": "code",
   "execution_count": 6,
   "metadata": {},
   "outputs": [
    {
     "name": "stdout",
     "output_type": "stream",
     "text": [
      "0\n"
     ]
    }
   ],
   "source": [
    "# 대신증권 API 연결 확인. 1 출력시 연결 성공, 0 출력시 연결 실패\n",
    "instCpCybos = win32com.client.Dispatch('CpUtil.CpCybos')\n",
    "print(instCpCybos.IsConnect)"
   ]
  },
  {
   "cell_type": "code",
   "execution_count": 12,
   "metadata": {},
   "outputs": [
    {
     "name": "stdout",
     "output_type": "stream",
     "text": [
      "3984\n"
     ]
    }
   ],
   "source": [
    "# 증권시장에서 상장되어 있는 종목의 갯수 출력 -> 새로운 종목이 상장되거나 폐지됨에 따라 값이 달라진다.\n",
    "instCpStockCode = win32com.client.Dispatch('CpUtil.CpStockCode')\n",
    "print(instCpStockCode.GetCount())"
   ]
  },
  {
   "attachments": {},
   "cell_type": "markdown",
   "metadata": {},
   "source": [
    "## 데이터 수집"
   ]
  },
  {
   "cell_type": "code",
   "execution_count": 13,
   "metadata": {},
   "outputs": [
    {
     "data": {
      "text/html": [
       "<div>\n",
       "<style scoped>\n",
       "    .dataframe tbody tr th:only-of-type {\n",
       "        vertical-align: middle;\n",
       "    }\n",
       "\n",
       "    .dataframe tbody tr th {\n",
       "        vertical-align: top;\n",
       "    }\n",
       "\n",
       "    .dataframe thead th {\n",
       "        text-align: right;\n",
       "    }\n",
       "</style>\n",
       "<table border=\"1\" class=\"dataframe\">\n",
       "  <thead>\n",
       "    <tr style=\"text-align: right;\">\n",
       "      <th></th>\n",
       "      <th>종목코드</th>\n",
       "      <th>종목명</th>\n",
       "    </tr>\n",
       "  </thead>\n",
       "  <tbody>\n",
       "    <tr>\n",
       "      <th>0</th>\n",
       "      <td>A000020</td>\n",
       "      <td>동화약품</td>\n",
       "    </tr>\n",
       "    <tr>\n",
       "      <th>1</th>\n",
       "      <td>A000040</td>\n",
       "      <td>KR모터스</td>\n",
       "    </tr>\n",
       "    <tr>\n",
       "      <th>2</th>\n",
       "      <td>A000050</td>\n",
       "      <td>경방</td>\n",
       "    </tr>\n",
       "    <tr>\n",
       "      <th>3</th>\n",
       "      <td>A000070</td>\n",
       "      <td>삼양홀딩스</td>\n",
       "    </tr>\n",
       "    <tr>\n",
       "      <th>4</th>\n",
       "      <td>A000075</td>\n",
       "      <td>삼양홀딩스우</td>\n",
       "    </tr>\n",
       "    <tr>\n",
       "      <th>...</th>\n",
       "      <td>...</td>\n",
       "      <td>...</td>\n",
       "    </tr>\n",
       "    <tr>\n",
       "      <th>3979</th>\n",
       "      <td>J52J724</td>\n",
       "      <td>미래J724하나금융콜</td>\n",
       "    </tr>\n",
       "    <tr>\n",
       "      <th>3980</th>\n",
       "      <td>J52J725</td>\n",
       "      <td>미래J725아모레콜</td>\n",
       "    </tr>\n",
       "    <tr>\n",
       "      <th>3981</th>\n",
       "      <td>J52J728</td>\n",
       "      <td>미래J728아모레콜</td>\n",
       "    </tr>\n",
       "    <tr>\n",
       "      <th>3982</th>\n",
       "      <td>J52J729</td>\n",
       "      <td>미래J729LG생건콜</td>\n",
       "    </tr>\n",
       "    <tr>\n",
       "      <th>3983</th>\n",
       "      <td>J52J731</td>\n",
       "      <td>미래J731LG생건콜</td>\n",
       "    </tr>\n",
       "  </tbody>\n",
       "</table>\n",
       "<p>3984 rows × 2 columns</p>\n",
       "</div>"
      ],
      "text/plain": [
       "         종목코드          종목명\n",
       "0     A000020         동화약품\n",
       "1     A000040        KR모터스\n",
       "2     A000050           경방\n",
       "3     A000070        삼양홀딩스\n",
       "4     A000075       삼양홀딩스우\n",
       "...       ...          ...\n",
       "3979  J52J724  미래J724하나금융콜\n",
       "3980  J52J725   미래J725아모레콜\n",
       "3981  J52J728   미래J728아모레콜\n",
       "3982  J52J729  미래J729LG생건콜\n",
       "3983  J52J731  미래J731LG생건콜\n",
       "\n",
       "[3984 rows x 2 columns]"
      ]
     },
     "execution_count": 13,
     "metadata": {},
     "output_type": "execute_result"
    }
   ],
   "source": [
    "# 대신증권 기준으로 정렬된 상장된(주식거래가 가능한) 종목을 전부 가져오기\n",
    "\n",
    "code = [] # 종목코드\n",
    "name = [] # 종목명\n",
    "\n",
    "for i in range(0, instCpStockCode.GetCount()):\n",
    "    code.append(instCpStockCode.GetData(0, i))\n",
    "    name.append(instCpStockCode.GetData(1, i))\n",
    "\n",
    "codeNameList = pd.DataFrame({\n",
    "      '종목코드':code\n",
    "    , '종목명':name\n",
    "})\n",
    "codeNameList"
   ]
  },
  {
   "cell_type": "code",
   "execution_count": 14,
   "metadata": {},
   "outputs": [
    {
     "data": {
      "text/html": [
       "<div>\n",
       "<style scoped>\n",
       "    .dataframe tbody tr th:only-of-type {\n",
       "        vertical-align: middle;\n",
       "    }\n",
       "\n",
       "    .dataframe tbody tr th {\n",
       "        vertical-align: top;\n",
       "    }\n",
       "\n",
       "    .dataframe thead th {\n",
       "        text-align: right;\n",
       "    }\n",
       "</style>\n",
       "<table border=\"1\" class=\"dataframe\">\n",
       "  <thead>\n",
       "    <tr style=\"text-align: right;\">\n",
       "      <th></th>\n",
       "      <th>종목코드</th>\n",
       "      <th>종목명</th>\n",
       "    </tr>\n",
       "  </thead>\n",
       "  <tbody>\n",
       "    <tr>\n",
       "      <th>0</th>\n",
       "      <td>A108860</td>\n",
       "      <td>셀바스AI</td>\n",
       "    </tr>\n",
       "    <tr>\n",
       "      <th>1</th>\n",
       "      <td>A079970</td>\n",
       "      <td>투비소프트</td>\n",
       "    </tr>\n",
       "    <tr>\n",
       "      <th>2</th>\n",
       "      <td>A300080</td>\n",
       "      <td>플리토</td>\n",
       "    </tr>\n",
       "    <tr>\n",
       "      <th>3</th>\n",
       "      <td>A338220</td>\n",
       "      <td>뷰노</td>\n",
       "    </tr>\n",
       "    <tr>\n",
       "      <th>4</th>\n",
       "      <td>A347860</td>\n",
       "      <td>알체라</td>\n",
       "    </tr>\n",
       "  </tbody>\n",
       "</table>\n",
       "</div>"
      ],
      "text/plain": [
       "      종목코드    종목명\n",
       "0  A108860  셀바스AI\n",
       "1  A079970  투비소프트\n",
       "2  A300080    플리토\n",
       "3  A338220     뷰노\n",
       "4  A347860    알체라"
      ]
     },
     "execution_count": 14,
     "metadata": {},
     "output_type": "execute_result"
    }
   ],
   "source": [
    "# 사용자가 원하는 종목의 종목 코드만 데이터프레임으로 출력\n",
    "\n",
    "jongmokSearchList = ['셀바스AI', '투비소프트', '플리토','뷰노','알체라'] # 여기에 원하는 종목명 입력\n",
    "jongmokSearchCode = []\n",
    "jongmokSearchName = []\n",
    "\n",
    "for jName in jongmokSearchList:\n",
    "    jongmokSearchCode.append(codeNameList[codeNameList['종목명'] == jName]['종목코드'].iloc[0])\n",
    "    jongmokSearchName.append(codeNameList[codeNameList['종목명'] == jName]['종목명'].iloc[0])\n",
    "\n",
    "jongmokSearchResult = pd.DataFrame({\n",
    "      '종목코드':jongmokSearchCode\n",
    "    , '종목명':jongmokSearchName\n",
    "})\n",
    "jongmokSearchResult"
   ]
  },
  {
   "cell_type": "code",
   "execution_count": 16,
   "metadata": {},
   "outputs": [],
   "source": [
    "instStockChart = win32com.client.Dispatch('CpSysDib.CpSvr7254')"
   ]
  },
  {
   "cell_type": "code",
   "execution_count": 18,
   "metadata": {},
   "outputs": [
    {
     "ename": "com_error",
     "evalue": "(-2147352567, '예외가 발생했습니다.', (0, None, 'U-CYBOS가 서버에 접속되어 있지 않습니다.', None, 0, -2147483638), None)",
     "output_type": "error",
     "traceback": [
      "\u001b[1;31m---------------------------------------------------------------------------\u001b[0m",
      "\u001b[1;31mcom_error\u001b[0m                                 Traceback (most recent call last)",
      "Cell \u001b[1;32mIn[18], line 12\u001b[0m\n\u001b[0;32m      9\u001b[0m instStockChart\u001b[39m.\u001b[39mSetInputValue(\u001b[39m5\u001b[39m, \u001b[39m0\u001b[39m)\n\u001b[0;32m     10\u001b[0m instStockChart\u001b[39m.\u001b[39mSetInputValue(\u001b[39m6\u001b[39m, \u001b[39mord\u001b[39m(\u001b[39m'\u001b[39m\u001b[39m1\u001b[39m\u001b[39m'\u001b[39m))\n\u001b[1;32m---> 12\u001b[0m instStockChart\u001b[39m.\u001b[39;49mBlockRequest()\n\u001b[0;32m     14\u001b[0m num \u001b[39m=\u001b[39m instStockChart\u001b[39m.\u001b[39mGetHeaderValue(\u001b[39m1\u001b[39m)\n\u001b[0;32m     15\u001b[0m \u001b[39mprint\u001b[39m(\u001b[39m'\u001b[39m\u001b[39m데이터 개수 : \u001b[39m\u001b[39m'\u001b[39m\u001b[39m+\u001b[39m\u001b[39mstr\u001b[39m(num))\n",
      "File \u001b[1;32m<COMObject CpSysDib.CpSvr7254>:2\u001b[0m, in \u001b[0;36mBlockRequest\u001b[1;34m(self)\u001b[0m\n",
      "\u001b[1;31mcom_error\u001b[0m: (-2147352567, '예외가 발생했습니다.', (0, None, 'U-CYBOS가 서버에 접속되어 있지 않습니다.', None, 0, -2147483638), None)"
     ]
    }
   ],
   "source": [
    "Listed = {}\n",
    "pdListed = []\n",
    "\n",
    "instStockChart.SetInputValue(0, 'A108860')\n",
    "instStockChart.SetInputValue(1, 0)\n",
    "instStockChart.SetInputValue(2, '20230101')\n",
    "instStockChart.SetInputValue(3, '20230201')\n",
    "instStockChart.SetInputValue(4, ord('0'))\n",
    "instStockChart.SetInputValue(5, 0)\n",
    "instStockChart.SetInputValue(6, ord('1'))\n",
    "\n",
    "instStockChart.BlockRequest()\n",
    "\n",
    "num = instStockChart.GetHeaderValue(1)\n",
    "print('데이터 개수 : '+str(num))\n",
    "\n",
    "Listed['종목코드'] = jongmokSearchResult['종목코드'].iloc[0]# 종목코드\n",
    "Listed['종목명'] = jongmokSearchResult['종목명'].iloc[0]    # 종목명\n",
    "Listed['날짜'] = instStockChart.GetDataValue(0, 11)        # 날짜\n",
    "Listed['개인'] = instStockChart.GetDataValue(1, 16)        # 개인\n",
    "Listed['외국인'] = instStockChart.GetDataValue(2, 16)      # 외국인\n",
    "Listed['기관계'] = instStockChart.GetDataValue(3, 16)      # 기관계\n",
    "Listed['금융투자'] = instStockChart.GetDataValue(4, 16)    # 금융투자\n",
    "Listed['보험'] = instStockChart.GetDataValue(5, 16)        # 보험\n",
    "Listed['투신'] = instStockChart.GetDataValue(6, 16)        # 투신\n",
    "Listed['은행'] = instStockChart.GetDataValue(7, 16)        # 은행\n",
    "Listed['기타금융'] = instStockChart.GetDataValue(8, 16)    # 기타금융\n",
    "Listed['연기금'] = instStockChart.GetDataValue(9, 16)      # 연기금\n",
    "Listed['기타법인'] = instStockChart.GetDataValue(10, 16)   # 기타법인\n",
    "Listed['기타외인'] = instStockChart.GetDataValue(11, 16)   # 기타외인\n",
    "Listed['사모펀드'] = instStockChart.GetDataValue(12, 16)   # 사모펀드\n",
    "Listed['국가지자체'] = instStockChart.GetDataValue(13, 16) # 국가지자체\n",
    "\n",
    "pdListed.append(Listed)\n",
    "\n",
    "dataDf1 = pd.DataFrame(pdListed)\n",
    "\n",
    "dataDf1"
   ]
  },
  {
   "cell_type": "code",
   "execution_count": 19,
   "metadata": {},
   "outputs": [],
   "source": [
    "def getjusik(jusikCode, jusikName, start, end):\n",
    "    pdListed = []\n",
    "\n",
    "    instStockChart.SetInputValue(0, jusikCode)\n",
    "    instStockChart.SetInputValue(1, 0)\n",
    "    instStockChart.SetInputValue(2, start)\n",
    "    instStockChart.SetInputValue(3, end)\n",
    "    instStockChart.SetInputValue(4, ord('0'))\n",
    "    instStockChart.SetInputValue(5, 0)\n",
    "    instStockChart.SetInputValue(6, ord('1'))\n",
    "\n",
    "    instStockChart.BlockRequest()\n",
    "\n",
    "    num = instStockChart.GetHeaderValue(1)\n",
    "                                                            \n",
    "    for i in range(num):\n",
    "        Listed = {}\n",
    "        Listed['종목코드'] = jusikCode                             # 종목코드\n",
    "        Listed['종목명'] = jusikName                               # 종목명\n",
    "        Listed['날짜'] = instStockChart.GetDataValue(0, i)        # 날짜\n",
    "        Listed['개인'] = instStockChart.GetDataValue(1, i)        # 개인\n",
    "        Listed['외국인'] = instStockChart.GetDataValue(2, i)      # 외국인\n",
    "        Listed['기관계'] = instStockChart.GetDataValue(3, i)      # 기관계\n",
    "        Listed['금융투자'] = instStockChart.GetDataValue(4, i)    # 금융투자\n",
    "        Listed['보험'] = instStockChart.GetDataValue(5, i)        # 보험\n",
    "        Listed['투신'] = instStockChart.GetDataValue(6, i)        # 투신\n",
    "        Listed['은행'] = instStockChart.GetDataValue(7, i)        # 은행\n",
    "        Listed['기타금융'] = instStockChart.GetDataValue(8, i)    # 기타금융\n",
    "        Listed['연기금'] = instStockChart.GetDataValue(9, i)      # 연기금\n",
    "        Listed['기타법인'] = instStockChart.GetDataValue(10, i)   # 기타법인\n",
    "        Listed['기타외인'] = instStockChart.GetDataValue(11, i)   # 기타외인\n",
    "        Listed['사모펀드'] = instStockChart.GetDataValue(12, i)   # 사모펀드\n",
    "\n",
    "        pdListed.append(Listed)\n",
    "\n",
    "    dataDf = pd.DataFrame(pdListed)\n",
    "    return dataDf"
   ]
  },
  {
   "cell_type": "code",
   "execution_count": 10,
   "metadata": {},
   "outputs": [
    {
     "name": "stdout",
     "output_type": "stream",
     "text": [
      "셀바스AI 종목의 투자주체별 데이터 요청 수신성공 및 csv로 저장 성공!\n",
      "투비소프트 종목의 투자주체별 데이터 요청 수신성공 및 csv로 저장 성공!\n",
      "플리토 종목의 투자주체별 데이터 요청 수신성공 및 csv로 저장 성공!\n",
      "뷰노 종목의 투자주체별 데이터 요청 수신성공 및 csv로 저장 성공!\n",
      "알체라 종목의 투자주체별 데이터 요청 수신성공 및 csv로 저장 성공!\n",
      "수신요청 종료\n"
     ]
    }
   ],
   "source": [
    "a = dt.datetime(2023,6,21)\n",
    "b = dt.datetime.now()\n",
    "number = b-a\n",
    "\n",
    "for j in range(0, jongmokSearchResult.shape[0]):\n",
    "    frame = []\n",
    "    for i in range(0, number.days, 2):\n",
    "        c = a + dt.timedelta(days=i)\n",
    "        d = a + dt.timedelta(days=i+1)\n",
    "        result = getjusik(jongmokSearchResult['종목코드'].iloc[j], jongmokSearchResult['종목명'].iloc[j], c.strftime('%Y%m%d'), d.strftime('%Y%m%d'))\n",
    "        frame.append(result)\n",
    "        time.sleep(0.3)\n",
    "    hapdata = pd.concat(frame)\n",
    "    hapdata.to_csv('../주식 현재가 조회/'+jongmokSearchResult['종목명'].iloc[j]+' 주식 데이터(투자주체별).csv', encoding='euc-kr', index=False)\n",
    "    print(jongmokSearchResult['종목명'].iloc[j]+' 종목의 투자주체별 데이터 요청 수신성공 및 csv로 저장 성공!')\n",
    "\n",
    "print('수신요청 종료')"
   ]
  },
  {
   "cell_type": "code",
   "execution_count": 1,
   "metadata": {},
   "outputs": [
    {
     "ename": "ModuleNotFoundError",
     "evalue": "No module named 'talib'",
     "output_type": "error",
     "traceback": [
      "\u001b[1;31m---------------------------------------------------------------------------\u001b[0m",
      "\u001b[1;31mModuleNotFoundError\u001b[0m                       Traceback (most recent call last)",
      "Cell \u001b[1;32mIn[1], line 2\u001b[0m\n\u001b[0;32m      1\u001b[0m \u001b[39mimport\u001b[39;00m \u001b[39mnumpy\u001b[39;00m \u001b[39mas\u001b[39;00m \u001b[39mnp\u001b[39;00m\n\u001b[1;32m----> 2\u001b[0m \u001b[39mimport\u001b[39;00m \u001b[39mtalib\u001b[39;00m\u001b[39m.\u001b[39;00m\u001b[39mabstract\u001b[39;00m \u001b[39mas\u001b[39;00m \u001b[39mta\u001b[39;00m\n",
      "\u001b[1;31mModuleNotFoundError\u001b[0m: No module named 'talib'"
     ]
    }
   ],
   "source": [
    "import numpy as np\n",
    "import talib.abstract as ta"
   ]
  },
  {
   "cell_type": "code",
   "execution_count": null,
   "metadata": {},
   "outputs": [],
   "source": []
  },
  {
   "cell_type": "code",
   "execution_count": null,
   "metadata": {},
   "outputs": [],
   "source": []
  }
 ],
 "metadata": {
  "kernelspec": {
   "display_name": "dl-dev-gpu",
   "language": "python",
   "name": "python3"
  },
  "language_info": {
   "codemirror_mode": {
    "name": "ipython",
    "version": 3
   },
   "file_extension": ".py",
   "mimetype": "text/x-python",
   "name": "python",
   "nbconvert_exporter": "python",
   "pygments_lexer": "ipython3",
   "version": "3.10.4"
  },
  "orig_nbformat": 4
 },
 "nbformat": 4,
 "nbformat_minor": 2
}
