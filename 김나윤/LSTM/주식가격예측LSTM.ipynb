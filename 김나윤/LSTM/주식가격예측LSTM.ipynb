{
 "cells": [
  {
   "cell_type": "code",
   "execution_count": 2,
   "metadata": {},
   "outputs": [],
   "source": [
    "import numpy as np # linear algebra\n",
    "import pandas as pd # data processing, CSV file I/O (e.g. pd.read_csv)\n",
    "import matplotlib.pyplot as plt\n",
    "import seaborn as sns"
   ]
  },
  {
   "cell_type": "code",
   "execution_count": 3,
   "metadata": {},
   "outputs": [],
   "source": [
    "data = pd.read_csv('../Data/삼성바이오로직스 주식 데이터.csv',encoding='cp949', parse_dates = [\"날짜\"])"
   ]
  },
  {
   "cell_type": "code",
   "execution_count": 4,
   "metadata": {},
   "outputs": [
    {
     "name": "stdout",
     "output_type": "stream",
     "text": [
      "<class 'pandas.core.frame.DataFrame'>\n",
      "RangeIndex: 190339 entries, 0 to 190338\n",
      "Data columns (total 12 columns):\n",
      " #   Column    Non-Null Count   Dtype         \n",
      "---  ------    --------------   -----         \n",
      " 0   종목코드      190339 non-null  object        \n",
      " 1   종목명       190339 non-null  object        \n",
      " 2   날짜        190339 non-null  datetime64[ns]\n",
      " 3   시간        190339 non-null  int64         \n",
      " 4   시가        190339 non-null  float64       \n",
      " 5   고가        190339 non-null  float64       \n",
      " 6   저가        190339 non-null  float64       \n",
      " 7   종가        190339 non-null  float64       \n",
      " 8   거래량       190339 non-null  float64       \n",
      " 9   거래대금      190339 non-null  float64       \n",
      " 10  누적체결매도수량  190339 non-null  float64       \n",
      " 11  누적체결매수수량  190339 non-null  float64       \n",
      "dtypes: datetime64[ns](1), float64(8), int64(1), object(2)\n",
      "memory usage: 17.4+ MB\n"
     ]
    }
   ],
   "source": [
    "data.info()"
   ]
  },
  {
   "cell_type": "code",
   "execution_count": 48,
   "metadata": {},
   "outputs": [
    {
     "data": {
      "text/plain": [
       "0     1970-01-01 00:00:00.020220623\n",
       "1     1970-01-01 00:00:00.020220624\n",
       "2     1970-01-01 00:00:00.020220627\n",
       "3     1970-01-01 00:00:00.020220628\n",
       "4     1970-01-01 00:00:00.020220629\n",
       "                   ...             \n",
       "244   1970-01-01 00:00:00.020230619\n",
       "245   1970-01-01 00:00:00.020230620\n",
       "246   1970-01-01 00:00:00.020230621\n",
       "247   1970-01-01 00:00:00.020230622\n",
       "248   1970-01-01 00:00:00.020230623\n",
       "Name: 날짜, Length: 249, dtype: datetime64[ns]"
      ]
     },
     "execution_count": 48,
     "metadata": {},
     "output_type": "execute_result"
    }
   ],
   "source": [
    "# # 날짜 - 날짜형으로 변경\n",
    "# data['날짜'] = pd.to_datetime(data['날짜'])\n",
    "# data['날짜']"
   ]
  },
  {
   "cell_type": "code",
   "execution_count": 5,
   "metadata": {},
   "outputs": [],
   "source": [
    "data.drop('종목코드', axis=1, inplace=True) \n",
    "data.drop('종목명', axis=1, inplace=True) "
   ]
  },
  {
   "cell_type": "code",
   "execution_count": 7,
   "metadata": {},
   "outputs": [
    {
     "data": {
      "text/html": [
       "<div>\n",
       "<style scoped>\n",
       "    .dataframe tbody tr th:only-of-type {\n",
       "        vertical-align: middle;\n",
       "    }\n",
       "\n",
       "    .dataframe tbody tr th {\n",
       "        vertical-align: top;\n",
       "    }\n",
       "\n",
       "    .dataframe thead th {\n",
       "        text-align: right;\n",
       "    }\n",
       "</style>\n",
       "<table border=\"1\" class=\"dataframe\">\n",
       "  <thead>\n",
       "    <tr style=\"text-align: right;\">\n",
       "      <th></th>\n",
       "      <th>날짜</th>\n",
       "      <th>시간</th>\n",
       "      <th>시가</th>\n",
       "      <th>고가</th>\n",
       "      <th>저가</th>\n",
       "      <th>종가</th>\n",
       "      <th>거래량</th>\n",
       "      <th>거래대금</th>\n",
       "      <th>누적체결매도수량</th>\n",
       "      <th>누적체결매수수량</th>\n",
       "    </tr>\n",
       "  </thead>\n",
       "  <tbody>\n",
       "    <tr>\n",
       "      <th>0</th>\n",
       "      <td>2021-06-16</td>\n",
       "      <td>901</td>\n",
       "      <td>829181.0</td>\n",
       "      <td>829181.0</td>\n",
       "      <td>828192.0</td>\n",
       "      <td>828192.0</td>\n",
       "      <td>324.0</td>\n",
       "      <td>820.0</td>\n",
       "      <td>0.0</td>\n",
       "      <td>0.0</td>\n",
       "    </tr>\n",
       "    <tr>\n",
       "      <th>1</th>\n",
       "      <td>2021-06-16</td>\n",
       "      <td>902</td>\n",
       "      <td>828192.0</td>\n",
       "      <td>828192.0</td>\n",
       "      <td>825228.0</td>\n",
       "      <td>826216.0</td>\n",
       "      <td>820.0</td>\n",
       "      <td>940.0</td>\n",
       "      <td>0.0</td>\n",
       "      <td>0.0</td>\n",
       "    </tr>\n",
       "    <tr>\n",
       "      <th>2</th>\n",
       "      <td>2021-06-16</td>\n",
       "      <td>903</td>\n",
       "      <td>825228.0</td>\n",
       "      <td>827204.0</td>\n",
       "      <td>825228.0</td>\n",
       "      <td>826216.0</td>\n",
       "      <td>1528.0</td>\n",
       "      <td>1233.0</td>\n",
       "      <td>0.0</td>\n",
       "      <td>0.0</td>\n",
       "    </tr>\n",
       "    <tr>\n",
       "      <th>3</th>\n",
       "      <td>2021-06-16</td>\n",
       "      <td>904</td>\n",
       "      <td>826216.0</td>\n",
       "      <td>826216.0</td>\n",
       "      <td>824239.0</td>\n",
       "      <td>824239.0</td>\n",
       "      <td>2019.0</td>\n",
       "      <td>1354.0</td>\n",
       "      <td>0.0</td>\n",
       "      <td>0.0</td>\n",
       "    </tr>\n",
       "    <tr>\n",
       "      <th>4</th>\n",
       "      <td>2021-06-16</td>\n",
       "      <td>905</td>\n",
       "      <td>824239.0</td>\n",
       "      <td>824239.0</td>\n",
       "      <td>822263.0</td>\n",
       "      <td>823251.0</td>\n",
       "      <td>2687.0</td>\n",
       "      <td>1584.0</td>\n",
       "      <td>0.0</td>\n",
       "      <td>0.0</td>\n",
       "    </tr>\n",
       "  </tbody>\n",
       "</table>\n",
       "</div>"
      ],
      "text/plain": [
       "          날짜   시간        시가        고가        저가        종가     거래량    거래대금  \\\n",
       "0 2021-06-16  901  829181.0  829181.0  828192.0  828192.0   324.0   820.0   \n",
       "1 2021-06-16  902  828192.0  828192.0  825228.0  826216.0   820.0   940.0   \n",
       "2 2021-06-16  903  825228.0  827204.0  825228.0  826216.0  1528.0  1233.0   \n",
       "3 2021-06-16  904  826216.0  826216.0  824239.0  824239.0  2019.0  1354.0   \n",
       "4 2021-06-16  905  824239.0  824239.0  822263.0  823251.0  2687.0  1584.0   \n",
       "\n",
       "   누적체결매도수량  누적체결매수수량  \n",
       "0       0.0       0.0  \n",
       "1       0.0       0.0  \n",
       "2       0.0       0.0  \n",
       "3       0.0       0.0  \n",
       "4       0.0       0.0  "
      ]
     },
     "execution_count": 7,
     "metadata": {},
     "output_type": "execute_result"
    }
   ],
   "source": [
    "data.head()"
   ]
  },
  {
   "cell_type": "code",
   "execution_count": 8,
   "metadata": {},
   "outputs": [
    {
     "data": {
      "text/plain": [
       "(Timestamp('2021-06-16 00:00:00'), Timestamp('2023-06-23 00:00:00'))"
      ]
     },
     "execution_count": 8,
     "metadata": {},
     "output_type": "execute_result"
    }
   ],
   "source": [
    "data['날짜'].min(), data['날짜'].max()"
   ]
  },
  {
   "cell_type": "code",
   "execution_count": 9,
   "metadata": {},
   "outputs": [],
   "source": [
    "data['Year'] = data['날짜'].dt.year\n",
    "data['Month'] = data['날짜'].dt.month\n",
    "data['Day'] = data['날짜'].dt.day\n",
    "data.drop('날짜', axis = 1, inplace=True)"
   ]
  },
  {
   "cell_type": "code",
   "execution_count": 10,
   "metadata": {},
   "outputs": [
    {
     "data": {
      "text/plain": [
       "Index(['시간', '시가', '고가', '저가', '종가', '거래량', '거래대금', '누적체결매도수량', '누적체결매수수량',\n",
       "       'Year', 'Month', 'Day'],\n",
       "      dtype='object')"
      ]
     },
     "execution_count": 10,
     "metadata": {},
     "output_type": "execute_result"
    }
   ],
   "source": [
    "data.columns"
   ]
  },
  {
   "cell_type": "code",
   "execution_count": 11,
   "metadata": {},
   "outputs": [
    {
     "data": {
      "text/plain": [
       "시간            int64\n",
       "시가          float64\n",
       "고가          float64\n",
       "저가          float64\n",
       "종가          float64\n",
       "거래량         float64\n",
       "거래대금        float64\n",
       "누적체결매도수량    float64\n",
       "누적체결매수수량    float64\n",
       "Year          int64\n",
       "Month         int64\n",
       "Day           int64\n",
       "dtype: object"
      ]
     },
     "execution_count": 11,
     "metadata": {},
     "output_type": "execute_result"
    }
   ],
   "source": [
    "data.dtypes"
   ]
  },
  {
   "cell_type": "code",
   "execution_count": 12,
   "metadata": {},
   "outputs": [
    {
     "data": {
      "text/plain": [
       "array([[0.        , 0.41176593, 0.39003113, ..., 0.        , 0.45454545,\n",
       "        0.5       ],\n",
       "       [0.00137174, 0.40882266, 0.38709649, ..., 0.        , 0.45454545,\n",
       "        0.5       ],\n",
       "       [0.00274348, 0.40000179, 0.38416481, ..., 0.        , 0.45454545,\n",
       "        0.5       ],\n",
       "       ...,\n",
       "       [0.84773663, 0.16719491, 0.14617711, ..., 1.        , 0.45454545,\n",
       "        0.73333333],\n",
       "       [0.84910837, 0.16719491, 0.14617711, ..., 1.        , 0.45454545,\n",
       "        0.73333333],\n",
       "       [0.86282579, 0.16719491, 0.14617711, ..., 1.        , 0.45454545,\n",
       "        0.73333333]])"
      ]
     },
     "execution_count": 12,
     "metadata": {},
     "output_type": "execute_result"
    }
   ],
   "source": [
    "from sklearn.preprocessing import MinMaxScaler\n",
    "\n",
    "scaler = MinMaxScaler()\n",
    "# 스케일을 적용할 column을 정의합니다.\n",
    "scale_cols = ['시간', '시가', '고가', '저가', '종가', '거래량', '거래대금', '누적체결매도수량', '누적체결매수수량',\n",
    "       'Year', 'Month', 'Day']\n",
    "# 스케일 후 columns\n",
    "scaled = scaler.fit_transform(data[scale_cols])\n",
    "scaled"
   ]
  },
  {
   "cell_type": "code",
   "execution_count": 13,
   "metadata": {},
   "outputs": [],
   "source": [
    "df = pd.DataFrame(scaled, columns=scale_cols)"
   ]
  },
  {
   "cell_type": "code",
   "execution_count": 14,
   "metadata": {},
   "outputs": [
    {
     "name": "stdout",
     "output_type": "stream",
     "text": [
      "<class 'pandas.core.frame.DataFrame'>\n",
      "RangeIndex: 190339 entries, 0 to 190338\n",
      "Data columns (total 12 columns):\n",
      " #   Column    Non-Null Count   Dtype  \n",
      "---  ------    --------------   -----  \n",
      " 0   시간        190339 non-null  float64\n",
      " 1   시가        190339 non-null  float64\n",
      " 2   고가        190339 non-null  float64\n",
      " 3   저가        190339 non-null  float64\n",
      " 4   종가        190339 non-null  float64\n",
      " 5   거래량       190339 non-null  float64\n",
      " 6   거래대금      190339 non-null  float64\n",
      " 7   누적체결매도수량  190339 non-null  float64\n",
      " 8   누적체결매수수량  190339 non-null  float64\n",
      " 9   Year      190339 non-null  float64\n",
      " 10  Month     190339 non-null  float64\n",
      " 11  Day       190339 non-null  float64\n",
      "dtypes: float64(12)\n",
      "memory usage: 17.4 MB\n"
     ]
    }
   ],
   "source": [
    "df.info()"
   ]
  },
  {
   "attachments": {},
   "cell_type": "markdown",
   "metadata": {},
   "source": [
    "train/test 분리"
   ]
  },
  {
   "cell_type": "code",
   "execution_count": 15,
   "metadata": {},
   "outputs": [
    {
     "name": "stderr",
     "output_type": "stream",
     "text": [
      "C:\\Users\\USER\\AppData\\Local\\Temp\\ipykernel_9160\\3628187252.py:3: FutureWarning: In a future version of pandas all arguments of DataFrame.drop except for the argument 'labels' will be keyword-only.\n",
      "  x_train, x_test, y_train, y_test = train_test_split(df.drop('종가', 1), df['종가'], test_size=0.2, random_state=0, shuffle=False)\n"
     ]
    }
   ],
   "source": [
    "from sklearn.model_selection import train_test_split\n",
    "\n",
    "x_train, x_test, y_train, y_test = train_test_split(df.drop('종가', 1), df['종가'], test_size=0.2, random_state=0, shuffle=False)"
   ]
  },
  {
   "attachments": {},
   "cell_type": "markdown",
   "metadata": {},
   "source": [
    "시퀀스 데이터셋 구성"
   ]
  },
  {
   "cell_type": "code",
   "execution_count": 16,
   "metadata": {},
   "outputs": [],
   "source": [
    "import tensorflow as tf"
   ]
  },
  {
   "cell_type": "code",
   "execution_count": 17,
   "metadata": {},
   "outputs": [],
   "source": [
    "def windowed_dataset(series, window_size, batch_size, shuffle):\n",
    "    series = tf.expand_dims(series, axis=-1)\n",
    "    ds = tf.data.Dataset.from_tensor_slices(series)\n",
    "    ds = ds.window(window_size + 1, shift=1, drop_remainder=True)\n",
    "    ds = ds.flat_map(lambda w: w.batch(window_size + 1))\n",
    "    if shuffle:\n",
    "        ds = ds.shuffle(1000)\n",
    "    ds = ds.map(lambda w: (w[:-1], w[-1]))\n",
    "    return ds.batch(batch_size).prefetch(1)"
   ]
  },
  {
   "cell_type": "code",
   "execution_count": 18,
   "metadata": {},
   "outputs": [],
   "source": [
    "# 하이퍼 파라미터\n",
    "WINDOW_SIZE=20\n",
    "BATCH_SIZE=32"
   ]
  },
  {
   "cell_type": "code",
   "execution_count": 19,
   "metadata": {},
   "outputs": [],
   "source": [
    "# trian_data는 학습용 데이터셋, test_data는 검증용 데이터셋 입니다.\n",
    "train_data = windowed_dataset(y_train, WINDOW_SIZE, BATCH_SIZE, True)\n",
    "test_data = windowed_dataset(y_test, WINDOW_SIZE, BATCH_SIZE, False)"
   ]
  },
  {
   "cell_type": "code",
   "execution_count": 20,
   "metadata": {},
   "outputs": [
    {
     "name": "stdout",
     "output_type": "stream",
     "text": [
      "데이터셋(X) 구성(batch_size, window_size, feature갯수): (32, 20, 1)\n",
      "데이터셋(Y) 구성(batch_size, window_size, feature갯수): (32, 1)\n"
     ]
    }
   ],
   "source": [
    "# 아래의 코드로 데이터셋의 구성을 확인해 볼 수 있습니다.\n",
    "# X: (batch_size, window_size, feature)\n",
    "# Y: (batch_size, feature)\n",
    "for data in train_data.take(1):\n",
    "    print(f'데이터셋(X) 구성(batch_size, window_size, feature갯수): {data[0].shape}')\n",
    "    print(f'데이터셋(Y) 구성(batch_size, window_size, feature갯수): {data[1].shape}')"
   ]
  },
  {
   "cell_type": "code",
   "execution_count": 21,
   "metadata": {},
   "outputs": [],
   "source": [
    "from tensorflow.keras.models import Sequential\n",
    "from tensorflow.keras.layers import Dense, LSTM, Conv1D, Lambda\n",
    "from tensorflow.keras.losses import Huber\n",
    "from tensorflow.keras.optimizers import Adam\n",
    "from tensorflow.keras.callbacks import EarlyStopping, ModelCheckpoint\n",
    "\n",
    "\n",
    "model = Sequential([\n",
    "    # 1차원 feature map 생성\n",
    "    Conv1D(filters=32, kernel_size=5,\n",
    "           padding=\"causal\",\n",
    "           activation=\"relu\",\n",
    "           input_shape=[WINDOW_SIZE, 1]),\n",
    "    # LSTM\n",
    "    LSTM(16, activation='tanh'),\n",
    "    Dense(16, activation=\"relu\"),\n",
    "    Dense(1),\n",
    "])"
   ]
  },
  {
   "cell_type": "code",
   "execution_count": 22,
   "metadata": {},
   "outputs": [],
   "source": [
    "# Sequence 학습에 비교적 좋은 퍼포먼스를 내는 Huber()를 사용합니다.\n",
    "loss = Huber()\n",
    "optimizer = Adam(0.0005)\n",
    "model.compile(loss=Huber(), optimizer=optimizer, metrics=['mse'])"
   ]
  },
  {
   "cell_type": "code",
   "execution_count": 24,
   "metadata": {},
   "outputs": [],
   "source": [
    "import os"
   ]
  },
  {
   "cell_type": "code",
   "execution_count": 25,
   "metadata": {},
   "outputs": [],
   "source": [
    "# earlystopping은 10번 epoch통안 val_loss 개선이 없다면 학습을 멈춥니다.\n",
    "earlystopping = EarlyStopping(monitor='val_loss', patience=10)\n",
    "# val_loss 기준 체크포인터도 생성합니다.\n",
    "filename = os.path.join('tmp', 'ckeckpointer.ckpt')\n",
    "checkpoint = ModelCheckpoint(filename, \n",
    "                             save_weights_only=True, \n",
    "                             save_best_only=True, \n",
    "                             monitor='val_loss', \n",
    "                             verbose=1)"
   ]
  },
  {
   "cell_type": "code",
   "execution_count": 26,
   "metadata": {},
   "outputs": [
    {
     "name": "stdout",
     "output_type": "stream",
     "text": [
      "Epoch 1/50\n",
      "   4757/Unknown - 27s 4ms/step - loss: 3.1316e-04 - mse: 6.2631e-04\n",
      "Epoch 1: val_loss improved from inf to 0.00001, saving model to tmp\\ckeckpointer.ckpt\n",
      "4758/4758 [==============================] - 30s 4ms/step - loss: 3.1311e-04 - mse: 6.2622e-04 - val_loss: 6.9947e-06 - val_mse: 1.3989e-05\n",
      "Epoch 2/50\n",
      "4755/4758 [============================>.] - ETA: 0s - loss: 1.1960e-05 - mse: 2.3921e-05\n",
      "Epoch 2: val_loss improved from 0.00001 to 0.00000, saving model to tmp\\ckeckpointer.ckpt\n",
      "4758/4758 [==============================] - 18s 4ms/step - loss: 1.1956e-05 - mse: 2.3912e-05 - val_loss: 4.4210e-06 - val_mse: 8.8420e-06\n",
      "Epoch 3/50\n",
      "4751/4758 [============================>.] - ETA: 0s - loss: 1.0233e-05 - mse: 2.0465e-05\n",
      "Epoch 3: val_loss did not improve from 0.00000\n",
      "4758/4758 [==============================] - 18s 4ms/step - loss: 1.0230e-05 - mse: 2.0460e-05 - val_loss: 4.5907e-06 - val_mse: 9.1815e-06\n",
      "Epoch 4/50\n",
      "4758/4758 [==============================] - ETA: 0s - loss: 8.8311e-06 - mse: 1.7662e-05\n",
      "Epoch 4: val_loss improved from 0.00000 to 0.00000, saving model to tmp\\ckeckpointer.ckpt\n",
      "4758/4758 [==============================] - 18s 4ms/step - loss: 8.8311e-06 - mse: 1.7662e-05 - val_loss: 4.2875e-06 - val_mse: 8.5749e-06\n",
      "Epoch 5/50\n",
      "4758/4758 [==============================] - ETA: 0s - loss: 7.9075e-06 - mse: 1.5815e-05\n",
      "Epoch 5: val_loss improved from 0.00000 to 0.00000, saving model to tmp\\ckeckpointer.ckpt\n",
      "4758/4758 [==============================] - 18s 4ms/step - loss: 7.9075e-06 - mse: 1.5815e-05 - val_loss: 3.9245e-06 - val_mse: 7.8491e-06\n",
      "Epoch 6/50\n",
      "4749/4758 [============================>.] - ETA: 0s - loss: 7.0688e-06 - mse: 1.4138e-05\n",
      "Epoch 6: val_loss improved from 0.00000 to 0.00000, saving model to tmp\\ckeckpointer.ckpt\n",
      "4758/4758 [==============================] - 19s 4ms/step - loss: 7.0619e-06 - mse: 1.4124e-05 - val_loss: 3.3258e-06 - val_mse: 6.6516e-06\n",
      "Epoch 7/50\n",
      "4746/4758 [============================>.] - ETA: 0s - loss: 6.3839e-06 - mse: 1.2768e-05\n",
      "Epoch 7: val_loss did not improve from 0.00000\n",
      "4758/4758 [==============================] - 18s 4ms/step - loss: 6.3790e-06 - mse: 1.2758e-05 - val_loss: 4.9309e-06 - val_mse: 9.8617e-06\n",
      "Epoch 8/50\n",
      "4748/4758 [============================>.] - ETA: 0s - loss: 6.0640e-06 - mse: 1.2128e-05\n",
      "Epoch 8: val_loss improved from 0.00000 to 0.00000, saving model to tmp\\ckeckpointer.ckpt\n",
      "4758/4758 [==============================] - 18s 4ms/step - loss: 6.0592e-06 - mse: 1.2118e-05 - val_loss: 2.8737e-06 - val_mse: 5.7474e-06\n",
      "Epoch 9/50\n",
      "4757/4758 [============================>.] - ETA: 0s - loss: 5.7799e-06 - mse: 1.1560e-05\n",
      "Epoch 9: val_loss did not improve from 0.00000\n",
      "4758/4758 [==============================] - 19s 4ms/step - loss: 5.7794e-06 - mse: 1.1559e-05 - val_loss: 3.9657e-06 - val_mse: 7.9314e-06\n",
      "Epoch 10/50\n",
      "4749/4758 [============================>.] - ETA: 0s - loss: 5.7738e-06 - mse: 1.1548e-05\n",
      "Epoch 10: val_loss did not improve from 0.00000\n",
      "4758/4758 [==============================] - 18s 4ms/step - loss: 5.7682e-06 - mse: 1.1536e-05 - val_loss: 3.3724e-06 - val_mse: 6.7448e-06\n",
      "Epoch 11/50\n",
      "4751/4758 [============================>.] - ETA: 0s - loss: 5.7551e-06 - mse: 1.1510e-05\n",
      "Epoch 11: val_loss did not improve from 0.00000\n",
      "4758/4758 [==============================] - 18s 4ms/step - loss: 5.7615e-06 - mse: 1.1523e-05 - val_loss: 3.5993e-06 - val_mse: 7.1987e-06\n",
      "Epoch 12/50\n",
      "4754/4758 [============================>.] - ETA: 0s - loss: 5.7524e-06 - mse: 1.1505e-05\n",
      "Epoch 12: val_loss did not improve from 0.00000\n",
      "4758/4758 [==============================] - 18s 4ms/step - loss: 5.7501e-06 - mse: 1.1500e-05 - val_loss: 2.8777e-06 - val_mse: 5.7553e-06\n",
      "Epoch 13/50\n",
      "4752/4758 [============================>.] - ETA: 0s - loss: 5.7543e-06 - mse: 1.1509e-05\n",
      "Epoch 13: val_loss did not improve from 0.00000\n",
      "4758/4758 [==============================] - 18s 4ms/step - loss: 5.7506e-06 - mse: 1.1501e-05 - val_loss: 2.8880e-06 - val_mse: 5.7760e-06\n",
      "Epoch 14/50\n",
      "4750/4758 [============================>.] - ETA: 0s - loss: 5.6438e-06 - mse: 1.1288e-05\n",
      "Epoch 14: val_loss improved from 0.00000 to 0.00000, saving model to tmp\\ckeckpointer.ckpt\n",
      "4758/4758 [==============================] - 17s 4ms/step - loss: 5.6404e-06 - mse: 1.1281e-05 - val_loss: 2.8283e-06 - val_mse: 5.6566e-06\n",
      "Epoch 15/50\n",
      "4747/4758 [============================>.] - ETA: 0s - loss: 5.6508e-06 - mse: 1.1302e-05\n",
      "Epoch 15: val_loss did not improve from 0.00000\n",
      "4758/4758 [==============================] - 18s 4ms/step - loss: 5.6544e-06 - mse: 1.1309e-05 - val_loss: 3.5217e-06 - val_mse: 7.0434e-06\n",
      "Epoch 16/50\n",
      "4749/4758 [============================>.] - ETA: 0s - loss: 5.5983e-06 - mse: 1.1197e-05\n",
      "Epoch 16: val_loss did not improve from 0.00000\n",
      "4758/4758 [==============================] - 18s 4ms/step - loss: 5.5934e-06 - mse: 1.1187e-05 - val_loss: 3.5772e-06 - val_mse: 7.1543e-06\n",
      "Epoch 17/50\n",
      "4752/4758 [============================>.] - ETA: 0s - loss: 5.7033e-06 - mse: 1.1407e-05\n",
      "Epoch 17: val_loss did not improve from 0.00000\n",
      "4758/4758 [==============================] - 18s 4ms/step - loss: 5.6990e-06 - mse: 1.1398e-05 - val_loss: 3.4459e-06 - val_mse: 6.8918e-06\n",
      "Epoch 18/50\n",
      "4751/4758 [============================>.] - ETA: 0s - loss: 5.6677e-06 - mse: 1.1335e-05\n",
      "Epoch 18: val_loss did not improve from 0.00000\n",
      "4758/4758 [==============================] - 18s 4ms/step - loss: 5.6638e-06 - mse: 1.1328e-05 - val_loss: 2.8387e-06 - val_mse: 5.6774e-06\n",
      "Epoch 19/50\n",
      "4755/4758 [============================>.] - ETA: 0s - loss: 5.5903e-06 - mse: 1.1181e-05\n",
      "Epoch 19: val_loss did not improve from 0.00000\n",
      "4758/4758 [==============================] - 18s 4ms/step - loss: 5.5886e-06 - mse: 1.1177e-05 - val_loss: 2.8354e-06 - val_mse: 5.6709e-06\n",
      "Epoch 20/50\n",
      "4751/4758 [============================>.] - ETA: 0s - loss: 5.5430e-06 - mse: 1.1086e-05\n",
      "Epoch 20: val_loss did not improve from 0.00000\n",
      "4758/4758 [==============================] - 18s 4ms/step - loss: 5.5493e-06 - mse: 1.1099e-05 - val_loss: 2.8715e-06 - val_mse: 5.7429e-06\n",
      "Epoch 21/50\n",
      "4745/4758 [============================>.] - ETA: 0s - loss: 5.5739e-06 - mse: 1.1148e-05\n",
      "Epoch 21: val_loss did not improve from 0.00000\n",
      "4758/4758 [==============================] - 18s 4ms/step - loss: 5.5677e-06 - mse: 1.1135e-05 - val_loss: 3.7475e-06 - val_mse: 7.4951e-06\n",
      "Epoch 22/50\n",
      "4751/4758 [============================>.] - ETA: 0s - loss: 5.5538e-06 - mse: 1.1108e-05\n",
      "Epoch 22: val_loss did not improve from 0.00000\n",
      "4758/4758 [==============================] - 18s 4ms/step - loss: 5.5498e-06 - mse: 1.1100e-05 - val_loss: 3.0245e-06 - val_mse: 6.0490e-06\n",
      "Epoch 23/50\n",
      "4745/4758 [============================>.] - ETA: 0s - loss: 5.5293e-06 - mse: 1.1059e-05\n",
      "Epoch 23: val_loss did not improve from 0.00000\n",
      "4758/4758 [==============================] - 18s 4ms/step - loss: 5.5224e-06 - mse: 1.1045e-05 - val_loss: 3.1679e-06 - val_mse: 6.3358e-06\n",
      "Epoch 24/50\n",
      "4756/4758 [============================>.] - ETA: 0s - loss: 5.5587e-06 - mse: 1.1117e-05\n",
      "Epoch 24: val_loss did not improve from 0.00000\n",
      "4758/4758 [==============================] - 18s 4ms/step - loss: 5.5580e-06 - mse: 1.1116e-05 - val_loss: 3.2376e-06 - val_mse: 6.4752e-06\n"
     ]
    }
   ],
   "source": [
    "history = model.fit(train_data, \n",
    "                    validation_data=(test_data), \n",
    "                    epochs=50, \n",
    "                    callbacks=[checkpoint, earlystopping])"
   ]
  },
  {
   "cell_type": "code",
   "execution_count": 27,
   "metadata": {},
   "outputs": [
    {
     "data": {
      "text/plain": [
       "<tensorflow.python.training.tracking.util.CheckpointLoadStatus at 0x2ac3ee8cb50>"
      ]
     },
     "execution_count": 27,
     "metadata": {},
     "output_type": "execute_result"
    }
   ],
   "source": [
    "model.load_weights(filename)"
   ]
  },
  {
   "cell_type": "code",
   "execution_count": 28,
   "metadata": {},
   "outputs": [
    {
     "name": "stdout",
     "output_type": "stream",
     "text": [
      "1189/1189 [==============================] - 2s 2ms/step\n"
     ]
    }
   ],
   "source": [
    "pred = model.predict(test_data)"
   ]
  },
  {
   "cell_type": "code",
   "execution_count": 29,
   "metadata": {},
   "outputs": [
    {
     "data": {
      "text/plain": [
       "(38048, 1)"
      ]
     },
     "execution_count": 29,
     "metadata": {},
     "output_type": "execute_result"
    }
   ],
   "source": [
    "pred.shape"
   ]
  },
  {
   "cell_type": "code",
   "execution_count": 30,
   "metadata": {},
   "outputs": [
    {
     "data": {
      "image/png": "[encoded data removed]",
      "text/plain": [
       "<Figure size 1200x900 with 1 Axes>"
      ]
     },
     "metadata": {},
     "output_type": "display_data"
    }
   ],
   "source": [
    "plt.figure(figsize=(12, 9))\n",
    "plt.plot(np.asarray(y_test)[20:], label='actual')\n",
    "plt.plot(pred, label='prediction')\n",
    "plt.legend()\n",
    "plt.show()"
   ]
  }
 ],
 "metadata": {
  "kernelspec": {
   "display_name": "dl-dev-cpu",
   "language": "python",
   "name": "python3"
  },
  "language_info": {
   "codemirror_mode": {
    "name": "ipython",
    "version": 3
   },
   "file_extension": ".py",
   "mimetype": "text/x-python",
   "name": "python",
   "nbconvert_exporter": "python",
   "pygments_lexer": "ipython3",
   "version": "3.10.11"
  },
  "orig_nbformat": 4
 },
 "nbformat": 4,
 "nbformat_minor": 2
}
