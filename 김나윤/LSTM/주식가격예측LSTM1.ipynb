{
 "cells": [
  {
   "attachments": {},
   "cell_type": "markdown",
   "metadata": {},
   "source": [
    "https://colab.research.google.com/github/teddylee777/machine-learning/blob/master/04-TensorFlow2.0/01-%EC%82%BC%EC%84%B1%EC%A0%84%EC%9E%90-%EC%A3%BC%EA%B0%80%EC%98%88%EC%B8%A1/02-LSTM-stock-forecasting-with-LSTM-financedatareader.ipynb#scrollTo=qnaiLGuDbiJe"
   ]
  },
  {
   "attachments": {},
   "cell_type": "markdown",
   "metadata": {},
   "source": [
    "https://woochan-autobiography.tistory.com/871"
   ]
  },
  {
   "cell_type": "code",
   "execution_count": 2,
   "metadata": {},
   "outputs": [],
   "source": [
    "import numpy as np # linear algebra\n",
    "import pandas as pd # data processing, CSV file I/O (e.g. pd.read_csv)\n",
    "import matplotlib.pyplot as plt\n",
    "import seaborn as sns"
   ]
  },
  {
   "cell_type": "code",
   "execution_count": 4,
   "metadata": {},
   "outputs": [],
   "source": [
    "data = pd.read_csv('삼성바이오로직스 주식 데이터.csv',encoding='cp949', parse_dates = [\"날짜\"])\n",
    "data1 = pd.read_csv('삼성바이오로직스 주식 데이터(투자주체별).csv',encoding='cp949', parse_dates = [\"날짜\"])"
   ]
  },
  {
   "cell_type": "code",
   "execution_count": 16,
   "metadata": {},
   "outputs": [
    {
     "name": "stdout",
     "output_type": "stream",
     "text": [
      "<class 'pandas.core.frame.DataFrame'>\n",
      "RangeIndex: 249 entries, 0 to 248\n",
      "Data columns (total 13 columns):\n",
      " #   Column  Non-Null Count  Dtype         \n",
      "---  ------  --------------  -----         \n",
      " 0   날짜      249 non-null    datetime64[ns]\n",
      " 1   개인      249 non-null    int64         \n",
      " 2   외국인     249 non-null    int64         \n",
      " 3   기관계     249 non-null    int64         \n",
      " 4   금융투자    249 non-null    int64         \n",
      " 5   보험      249 non-null    int64         \n",
      " 6   투신      249 non-null    int64         \n",
      " 7   은행      249 non-null    int64         \n",
      " 8   기타금융    249 non-null    int64         \n",
      " 9   연기금     249 non-null    int64         \n",
      " 10  기타법인    249 non-null    int64         \n",
      " 11  기타외인    249 non-null    int64         \n",
      " 12  사모펀드    249 non-null    int64         \n",
      "dtypes: datetime64[ns](1), int64(12)\n",
      "memory usage: 25.4 KB\n"
     ]
    }
   ],
   "source": [
    "data1.info()"
   ]
  },
  {
   "cell_type": "code",
   "execution_count": null,
   "metadata": {},
   "outputs": [
    {
     "data": {
      "text/plain": [
       "(Index(['종목코드', '종목명', '날짜', '시간', '시가', '고가', '저가', '종가', '거래량', '거래대금',\n",
       "        '누적체결매도수량', '누적체결매수수량'],\n",
       "       dtype='object'),\n",
       " Index(['종목코드', '종목명', '날짜', '개인', '외국인', '기관계', '금융투자', '보험', '투신', '은행',\n",
       "        '기타금융', '연기금', '기타법인', '기타외인', '사모펀드'],\n",
       "       dtype='object'))"
      ]
     },
     "execution_count": 69,
     "metadata": {},
     "output_type": "execute_result"
    }
   ],
   "source": [
    "data.columns, data1.columns"
   ]
  },
  {
   "cell_type": "code",
   "execution_count": 5,
   "metadata": {},
   "outputs": [],
   "source": [
    "data.drop('종목코드', axis=1, inplace=True) \n",
    "data.drop('종목명', axis=1, inplace=True) \n",
    "data1.drop('종목코드', axis=1, inplace=True) \n",
    "data1.drop('종목명', axis=1, inplace=True) "
   ]
  },
  {
   "cell_type": "code",
   "execution_count": 6,
   "metadata": {},
   "outputs": [],
   "source": [
    "m_data = pd.merge(data, data1)\n",
    "m_data.drop('누적체결매도수량', axis=1, inplace=True)\n",
    "m_data.drop('누적체결매수수량', axis=1, inplace=True)"
   ]
  },
  {
   "cell_type": "code",
   "execution_count": null,
   "metadata": {},
   "outputs": [],
   "source": []
  },
  {
   "cell_type": "code",
   "execution_count": null,
   "metadata": {},
   "outputs": [],
   "source": []
  },
  {
   "attachments": {},
   "cell_type": "markdown",
   "metadata": {},
   "source": [
    "투자주체별 합치고 종가 삭제하고"
   ]
  },
  {
   "cell_type": "code",
   "execution_count": 17,
   "metadata": {},
   "outputs": [],
   "source": [
    "# 날짜 - 날짜형으로 변경\n",
    "m_data['날짜'] = pd.to_datetime(data['날짜'])"
   ]
  },
  {
   "cell_type": "code",
   "execution_count": 18,
   "metadata": {},
   "outputs": [],
   "source": [
    "m_data['Year'] = m_data['날짜'].dt.year\n",
    "m_data['Month'] = m_data['날짜'].dt.month\n",
    "m_data['Day'] = m_data['날짜'].dt.day\n",
    "\n",
    "m_data.drop('날짜', axis = 1, inplace=True)"
   ]
  },
  {
   "cell_type": "code",
   "execution_count": 19,
   "metadata": {},
   "outputs": [
    {
     "data": {
      "text/plain": [
       "Index(['시간', '시가', '고가', '저가', '종가', '거래량', '거래대금', '개인', '외국인', '기관계', '금융투자',\n",
       "       '보험', '투신', '은행', '기타금융', '연기금', '기타법인', '기타외인', '사모펀드', 'Year',\n",
       "       'Month', 'Day'],\n",
       "      dtype='object')"
      ]
     },
     "execution_count": 19,
     "metadata": {},
     "output_type": "execute_result"
    }
   ],
   "source": [
    "m_data.columns"
   ]
  },
  {
   "cell_type": "code",
   "execution_count": 21,
   "metadata": {},
   "outputs": [
    {
     "data": {
      "text/plain": [
       "array([[0.        , 0.40883978, 0.41111111, ..., 0.        , 0.45454545,\n",
       "        0.5       ],\n",
       "       [0.00137174, 0.4198895 , 0.41666667, ..., 0.        , 0.45454545,\n",
       "        0.5       ],\n",
       "       [0.00274348, 0.40331492, 0.43333333, ..., 0.        , 0.45454545,\n",
       "        0.5       ],\n",
       "       ...,\n",
       "       [0.84773663, 0.03314917, 0.02777778, ..., 1.        , 0.45454545,\n",
       "        0.63333333],\n",
       "       [0.84910837, 0.03314917, 0.02777778, ..., 1.        , 0.45454545,\n",
       "        0.63333333],\n",
       "       [0.86282579, 0.03314917, 0.02777778, ..., 1.        , 0.45454545,\n",
       "        0.63333333]])"
      ]
     },
     "execution_count": 21,
     "metadata": {},
     "output_type": "execute_result"
    }
   ],
   "source": [
    "from sklearn.preprocessing import MinMaxScaler\n",
    "\n",
    "scaler = MinMaxScaler()\n",
    "# 스케일을 적용할 column을 정의합니다.\n",
    "scale_cols = ['시간', '시가', '고가', '저가', '종가', '거래량', '거래대금',\n",
    "       '개인', '외국인', '기관계', '금융투자', '보험', '투신', '은행', '기타금융', '연기금', '기타법인',\n",
    "       '기타외인', '사모펀드', 'Year', 'Month', 'Day']\n",
    "# 스케일 후 columns\n",
    "scaled = scaler.fit_transform(m_data[scale_cols])\n",
    "scaled"
   ]
  },
  {
   "cell_type": "code",
   "execution_count": 22,
   "metadata": {},
   "outputs": [],
   "source": [
    "df = pd.DataFrame(scaled, columns=scale_cols)"
   ]
  },
  {
   "cell_type": "code",
   "execution_count": 23,
   "metadata": {},
   "outputs": [
    {
     "name": "stdout",
     "output_type": "stream",
     "text": [
      "<class 'pandas.core.frame.DataFrame'>\n",
      "RangeIndex: 94786 entries, 0 to 94785\n",
      "Data columns (total 22 columns):\n",
      " #   Column  Non-Null Count  Dtype  \n",
      "---  ------  --------------  -----  \n",
      " 0   시간      94786 non-null  float64\n",
      " 1   시가      94786 non-null  float64\n",
      " 2   고가      94786 non-null  float64\n",
      " 3   저가      94786 non-null  float64\n",
      " 4   종가      94786 non-null  float64\n",
      " 5   거래량     94786 non-null  float64\n",
      " 6   거래대금    94786 non-null  float64\n",
      " 7   개인      94786 non-null  float64\n",
      " 8   외국인     94786 non-null  float64\n",
      " 9   기관계     94786 non-null  float64\n",
      " 10  금융투자    94786 non-null  float64\n",
      " 11  보험      94786 non-null  float64\n",
      " 12  투신      94786 non-null  float64\n",
      " 13  은행      94786 non-null  float64\n",
      " 14  기타금융    94786 non-null  float64\n",
      " 15  연기금     94786 non-null  float64\n",
      " 16  기타법인    94786 non-null  float64\n",
      " 17  기타외인    94786 non-null  float64\n",
      " 18  사모펀드    94786 non-null  float64\n",
      " 19  Year    94786 non-null  float64\n",
      " 20  Month   94786 non-null  float64\n",
      " 21  Day     94786 non-null  float64\n",
      "dtypes: float64(22)\n",
      "memory usage: 15.9 MB\n"
     ]
    }
   ],
   "source": [
    "df.info()"
   ]
  },
  {
   "attachments": {},
   "cell_type": "markdown",
   "metadata": {},
   "source": [
    "train/test 분리"
   ]
  },
  {
   "cell_type": "code",
   "execution_count": 24,
   "metadata": {},
   "outputs": [
    {
     "name": "stderr",
     "output_type": "stream",
     "text": [
      "C:\\Users\\USER\\AppData\\Local\\Temp\\ipykernel_7680\\3628187252.py:3: FutureWarning: In a future version of pandas all arguments of DataFrame.drop except for the argument 'labels' will be keyword-only.\n",
      "  x_train, x_test, y_train, y_test = train_test_split(df.drop('종가', 1), df['종가'], test_size=0.2, random_state=0, shuffle=False)\n"
     ]
    }
   ],
   "source": [
    "from sklearn.model_selection import train_test_split\n",
    "\n",
    "x_train, x_test, y_train, y_test = train_test_split(df.drop('종가', 1), df['종가'], test_size=0.2, random_state=0, shuffle=False)"
   ]
  },
  {
   "cell_type": "code",
   "execution_count": 25,
   "metadata": {},
   "outputs": [
    {
     "data": {
      "text/plain": [
       "Index(['시간', '시가', '고가', '저가', '거래량', '거래대금', '개인', '외국인', '기관계', '금융투자', '보험',\n",
       "       '투신', '은행', '기타금융', '연기금', '기타법인', '기타외인', '사모펀드', 'Year', 'Month',\n",
       "       'Day'],\n",
       "      dtype='object')"
      ]
     },
     "execution_count": 25,
     "metadata": {},
     "output_type": "execute_result"
    }
   ],
   "source": [
    "x_test.columns"
   ]
  },
  {
   "cell_type": "code",
   "execution_count": 47,
   "metadata": {},
   "outputs": [
    {
     "name": "stdout",
     "output_type": "stream",
     "text": [
      "<class 'pandas.core.frame.DataFrame'>\n",
      "Int64Index: 75828 entries, 0 to 75827\n",
      "Data columns (total 21 columns):\n",
      " #   Column  Non-Null Count  Dtype  \n",
      "---  ------  --------------  -----  \n",
      " 0   시간      75828 non-null  float64\n",
      " 1   시가      75828 non-null  float64\n",
      " 2   고가      75828 non-null  float64\n",
      " 3   저가      75828 non-null  float64\n",
      " 4   거래량     75828 non-null  float64\n",
      " 5   거래대금    75828 non-null  float64\n",
      " 6   개인      75828 non-null  float64\n",
      " 7   외국인     75828 non-null  float64\n",
      " 8   기관계     75828 non-null  float64\n",
      " 9   금융투자    75828 non-null  float64\n",
      " 10  보험      75828 non-null  float64\n",
      " 11  투신      75828 non-null  float64\n",
      " 12  은행      75828 non-null  float64\n",
      " 13  기타금융    75828 non-null  float64\n",
      " 14  연기금     75828 non-null  float64\n",
      " 15  기타법인    75828 non-null  float64\n",
      " 16  기타외인    75828 non-null  float64\n",
      " 17  사모펀드    75828 non-null  float64\n",
      " 18  Year    75828 non-null  float64\n",
      " 19  Month   75828 non-null  float64\n",
      " 20  Day     75828 non-null  float64\n",
      "dtypes: float64(21)\n",
      "memory usage: 12.7 MB\n"
     ]
    }
   ],
   "source": [
    "x_train.info()"
   ]
  },
  {
   "attachments": {},
   "cell_type": "markdown",
   "metadata": {},
   "source": [
    "시퀀스 데이터셋 구성"
   ]
  },
  {
   "cell_type": "code",
   "execution_count": 27,
   "metadata": {},
   "outputs": [],
   "source": [
    "import tensorflow as tf"
   ]
  },
  {
   "cell_type": "code",
   "execution_count": 28,
   "metadata": {},
   "outputs": [],
   "source": [
    "def windowed_dataset(series, window_size, batch_size, shuffle):\n",
    "    series = tf.expand_dims(series, axis=-1)\n",
    "    ds = tf.data.Dataset.from_tensor_slices(series)\n",
    "    ds = ds.window(window_size + 1, shift=1, drop_remainder=True)\n",
    "    ds = ds.flat_map(lambda w: w.batch(window_size + 1))\n",
    "    if shuffle:\n",
    "        ds = ds.shuffle(1000)\n",
    "    ds = ds.map(lambda w: (w[:-1], w[-1]))\n",
    "    return ds.batch(batch_size).prefetch(1)"
   ]
  },
  {
   "cell_type": "code",
   "execution_count": 29,
   "metadata": {},
   "outputs": [],
   "source": [
    "# 하이퍼 파라미터\n",
    "WINDOW_SIZE=20\n",
    "BATCH_SIZE=32"
   ]
  },
  {
   "cell_type": "code",
   "execution_count": 30,
   "metadata": {},
   "outputs": [],
   "source": [
    "# trian_data는 학습용 데이터셋, test_data는 검증용 데이터셋 입니다.\n",
    "train_data = windowed_dataset(y_train, WINDOW_SIZE, BATCH_SIZE, True)\n",
    "test_data = windowed_dataset(y_test, WINDOW_SIZE, BATCH_SIZE, False)"
   ]
  },
  {
   "cell_type": "code",
   "execution_count": 31,
   "metadata": {},
   "outputs": [
    {
     "name": "stdout",
     "output_type": "stream",
     "text": [
      "데이터셋(X) 구성(batch_size, window_size, feature갯수): (32, 20, 1)\n",
      "데이터셋(Y) 구성(batch_size, window_size, feature갯수): (32, 1)\n"
     ]
    }
   ],
   "source": [
    "# 아래의 코드로 데이터셋의 구성을 확인해 볼 수 있습니다.\n",
    "# X: (batch_size, window_size, feature)\n",
    "# Y: (batch_size, feature)\n",
    "for data in train_data.take(1):\n",
    "    print(f'데이터셋(X) 구성(batch_size, window_size, feature갯수): {data[0].shape}')\n",
    "    print(f'데이터셋(Y) 구성(batch_size, window_size, feature갯수): {data[1].shape}')"
   ]
  },
  {
   "cell_type": "code",
   "execution_count": 32,
   "metadata": {},
   "outputs": [],
   "source": [
    "from tensorflow.keras.models import Sequential\n",
    "from tensorflow.keras.layers import Dense, LSTM, Conv1D, Lambda\n",
    "from tensorflow.keras.losses import Huber\n",
    "from tensorflow.keras.optimizers import Adam\n",
    "from tensorflow.keras.callbacks import EarlyStopping, ModelCheckpoint\n",
    "\n",
    "\n",
    "model = Sequential([\n",
    "    # 1차원 feature map 생성\n",
    "    Conv1D(filters=32, kernel_size=5,\n",
    "           padding=\"causal\",\n",
    "           activation=\"relu\",\n",
    "           input_shape=[WINDOW_SIZE, 1]),\n",
    "    # LSTM\n",
    "    LSTM(16, activation='tanh'),\n",
    "    Dense(16, activation=\"relu\"),\n",
    "    Dense(1),\n",
    "])"
   ]
  },
  {
   "cell_type": "code",
   "execution_count": 33,
   "metadata": {},
   "outputs": [],
   "source": [
    "# Sequence 학습에 비교적 좋은 퍼포먼스를 내는 Huber()를 사용합니다.\n",
    "loss = Huber()\n",
    "optimizer = Adam(0.0005)\n",
    "model.compile(loss=Huber(), optimizer=optimizer, metrics=['mse'])"
   ]
  },
  {
   "cell_type": "code",
   "execution_count": 34,
   "metadata": {},
   "outputs": [],
   "source": [
    "import os"
   ]
  },
  {
   "cell_type": "code",
   "execution_count": 35,
   "metadata": {},
   "outputs": [],
   "source": [
    "# earlystopping은 10번 epoch통안 val_loss 개선이 없다면 학습을 멈춥니다.\n",
    "earlystopping = EarlyStopping(monitor='val_loss', patience=10)\n",
    "# val_loss 기준 체크포인터도 생성합니다.\n",
    "filename = os.path.join('tmp', 'ckeckpointer.ckpt')\n",
    "checkpoint = ModelCheckpoint(filename, \n",
    "                             save_weights_only=True, \n",
    "                             save_best_only=True, \n",
    "                             monitor='val_loss', \n",
    "                             verbose=1)"
   ]
  },
  {
   "cell_type": "code",
   "execution_count": 36,
   "metadata": {},
   "outputs": [
    {
     "data": {
      "text/plain": [
       "<PrefetchDataset element_spec=(TensorSpec(shape=(None, None, 1), dtype=tf.float64, name=None), TensorSpec(shape=(None, 1), dtype=tf.float64, name=None))>"
      ]
     },
     "execution_count": 36,
     "metadata": {},
     "output_type": "execute_result"
    }
   ],
   "source": [
    "test_data "
   ]
  },
  {
   "cell_type": "code",
   "execution_count": 37,
   "metadata": {},
   "outputs": [
    {
     "name": "stdout",
     "output_type": "stream",
     "text": [
      "Epoch 1/50\n"
     ]
    },
    {
     "name": "stdout",
     "output_type": "stream",
     "text": [
      "   2365/Unknown - 12s 4ms/step - loss: 3.8384e-04 - mse: 7.6768e-04\n",
      "Epoch 1: val_loss improved from inf to 0.00002, saving model to tmp\\ckeckpointer.ckpt\n",
      "2369/2369 [==============================] - 14s 4ms/step - loss: 3.8324e-04 - mse: 7.6647e-04 - val_loss: 1.6288e-05 - val_mse: 3.2575e-05\n",
      "Epoch 2/50\n",
      "2355/2369 [============================>.] - ETA: 0s - loss: 2.3750e-05 - mse: 4.7499e-05\n",
      "Epoch 2: val_loss improved from 0.00002 to 0.00001, saving model to tmp\\ckeckpointer.ckpt\n",
      "2369/2369 [==============================] - 10s 4ms/step - loss: 2.3705e-05 - mse: 4.7409e-05 - val_loss: 1.1760e-05 - val_mse: 2.3521e-05\n",
      "Epoch 3/50\n",
      "2368/2369 [============================>.] - ETA: 0s - loss: 2.0304e-05 - mse: 4.0608e-05\n",
      "Epoch 3: val_loss improved from 0.00001 to 0.00001, saving model to tmp\\ckeckpointer.ckpt\n",
      "2369/2369 [==============================] - 9s 4ms/step - loss: 2.0299e-05 - mse: 4.0599e-05 - val_loss: 1.0646e-05 - val_mse: 2.1292e-05\n",
      "Epoch 4/50\n",
      "2359/2369 [============================>.] - ETA: 0s - loss: 1.8236e-05 - mse: 3.6472e-05\n",
      "Epoch 4: val_loss did not improve from 0.00001\n",
      "2369/2369 [==============================] - 9s 4ms/step - loss: 1.8221e-05 - mse: 3.6441e-05 - val_loss: 1.2550e-05 - val_mse: 2.5100e-05\n",
      "Epoch 5/50\n",
      "2362/2369 [============================>.] - ETA: 0s - loss: 1.6675e-05 - mse: 3.3349e-05\n",
      "Epoch 5: val_loss did not improve from 0.00001\n",
      "2369/2369 [==============================] - 9s 4ms/step - loss: 1.6661e-05 - mse: 3.3323e-05 - val_loss: 1.1301e-05 - val_mse: 2.2601e-05\n",
      "Epoch 6/50\n",
      "2365/2369 [============================>.] - ETA: 0s - loss: 1.6373e-05 - mse: 3.2746e-05\n",
      "Epoch 6: val_loss did not improve from 0.00001\n",
      "2369/2369 [==============================] - 9s 4ms/step - loss: 1.6365e-05 - mse: 3.2730e-05 - val_loss: 1.5652e-05 - val_mse: 3.1304e-05\n",
      "Epoch 7/50\n",
      "2360/2369 [============================>.] - ETA: 0s - loss: 1.6079e-05 - mse: 3.2158e-05\n",
      "Epoch 7: val_loss improved from 0.00001 to 0.00001, saving model to tmp\\ckeckpointer.ckpt\n",
      "2369/2369 [==============================] - 9s 4ms/step - loss: 1.6072e-05 - mse: 3.2144e-05 - val_loss: 1.0107e-05 - val_mse: 2.0214e-05\n",
      "Epoch 8/50\n",
      "2368/2369 [============================>.] - ETA: 0s - loss: 1.5715e-05 - mse: 3.1431e-05\n",
      "Epoch 8: val_loss improved from 0.00001 to 0.00001, saving model to tmp\\ckeckpointer.ckpt\n",
      "2369/2369 [==============================] - 9s 4ms/step - loss: 1.5717e-05 - mse: 3.1434e-05 - val_loss: 9.2472e-06 - val_mse: 1.8494e-05\n",
      "Epoch 9/50\n",
      "2368/2369 [============================>.] - ETA: 0s - loss: 1.5018e-05 - mse: 3.0036e-05\n",
      "Epoch 9: val_loss did not improve from 0.00001\n",
      "2369/2369 [==============================] - 10s 4ms/step - loss: 1.5020e-05 - mse: 3.0040e-05 - val_loss: 9.2967e-06 - val_mse: 1.8593e-05\n",
      "Epoch 10/50\n",
      "2354/2369 [============================>.] - ETA: 0s - loss: 1.4891e-05 - mse: 2.9782e-05\n",
      "Epoch 10: val_loss improved from 0.00001 to 0.00001, saving model to tmp\\ckeckpointer.ckpt\n",
      "2369/2369 [==============================] - 9s 4ms/step - loss: 1.4875e-05 - mse: 2.9750e-05 - val_loss: 9.1712e-06 - val_mse: 1.8342e-05\n",
      "Epoch 11/50\n",
      "2357/2369 [============================>.] - ETA: 0s - loss: 1.4998e-05 - mse: 2.9995e-05\n",
      "Epoch 11: val_loss did not improve from 0.00001\n",
      "2369/2369 [==============================] - 10s 4ms/step - loss: 1.5000e-05 - mse: 3.0000e-05 - val_loss: 1.2739e-05 - val_mse: 2.5477e-05\n",
      "Epoch 12/50\n",
      "2369/2369 [==============================] - ETA: 0s - loss: 1.4808e-05 - mse: 2.9616e-05\n",
      "Epoch 12: val_loss did not improve from 0.00001\n",
      "2369/2369 [==============================] - 10s 4ms/step - loss: 1.4808e-05 - mse: 2.9616e-05 - val_loss: 9.4953e-06 - val_mse: 1.8991e-05\n",
      "Epoch 13/50\n",
      "2368/2369 [============================>.] - ETA: 0s - loss: 1.4663e-05 - mse: 2.9326e-05\n",
      "Epoch 13: val_loss did not improve from 0.00001\n",
      "2369/2369 [==============================] - 9s 4ms/step - loss: 1.4661e-05 - mse: 2.9323e-05 - val_loss: 1.0502e-05 - val_mse: 2.1004e-05\n",
      "Epoch 14/50\n",
      "2367/2369 [============================>.] - ETA: 0s - loss: 1.4868e-05 - mse: 2.9735e-05\n",
      "Epoch 14: val_loss did not improve from 0.00001\n",
      "2369/2369 [==============================] - 9s 4ms/step - loss: 1.4867e-05 - mse: 2.9734e-05 - val_loss: 9.2535e-06 - val_mse: 1.8507e-05\n",
      "Epoch 15/50\n",
      "2364/2369 [============================>.] - ETA: 0s - loss: 1.4582e-05 - mse: 2.9164e-05\n",
      "Epoch 15: val_loss improved from 0.00001 to 0.00001, saving model to tmp\\ckeckpointer.ckpt\n",
      "2369/2369 [==============================] - 9s 4ms/step - loss: 1.4576e-05 - mse: 2.9151e-05 - val_loss: 9.0444e-06 - val_mse: 1.8089e-05\n",
      "Epoch 16/50\n",
      "2364/2369 [============================>.] - ETA: 0s - loss: 1.4680e-05 - mse: 2.9360e-05\n",
      "Epoch 16: val_loss did not improve from 0.00001\n",
      "2369/2369 [==============================] - 9s 4ms/step - loss: 1.4674e-05 - mse: 2.9348e-05 - val_loss: 1.0939e-05 - val_mse: 2.1877e-05\n",
      "Epoch 17/50\n",
      "2355/2369 [============================>.] - ETA: 0s - loss: 1.4465e-05 - mse: 2.8930e-05\n",
      "Epoch 17: val_loss did not improve from 0.00001\n",
      "2369/2369 [==============================] - 9s 4ms/step - loss: 1.4452e-05 - mse: 2.8905e-05 - val_loss: 1.2975e-05 - val_mse: 2.5951e-05\n",
      "Epoch 18/50\n",
      "2358/2369 [============================>.] - ETA: 0s - loss: 1.4717e-05 - mse: 2.9433e-05\n",
      "Epoch 18: val_loss did not improve from 0.00001\n",
      "2369/2369 [==============================] - 9s 4ms/step - loss: 1.4711e-05 - mse: 2.9423e-05 - val_loss: 9.5328e-06 - val_mse: 1.9066e-05\n",
      "Epoch 19/50\n",
      "2365/2369 [============================>.] - ETA: 0s - loss: 1.4440e-05 - mse: 2.8881e-05\n",
      "Epoch 19: val_loss improved from 0.00001 to 0.00001, saving model to tmp\\ckeckpointer.ckpt\n",
      "2369/2369 [==============================] - 10s 4ms/step - loss: 1.4441e-05 - mse: 2.8881e-05 - val_loss: 9.0344e-06 - val_mse: 1.8069e-05\n",
      "Epoch 20/50\n",
      "2359/2369 [============================>.] - ETA: 0s - loss: 1.4361e-05 - mse: 2.8722e-05\n",
      "Epoch 20: val_loss did not improve from 0.00001\n",
      "2369/2369 [==============================] - 11s 5ms/step - loss: 1.4357e-05 - mse: 2.8714e-05 - val_loss: 1.1720e-05 - val_mse: 2.3440e-05\n",
      "Epoch 21/50\n",
      "2367/2369 [============================>.] - ETA: 0s - loss: 1.4272e-05 - mse: 2.8543e-05\n",
      "Epoch 21: val_loss did not improve from 0.00001\n",
      "2369/2369 [==============================] - 11s 5ms/step - loss: 1.4269e-05 - mse: 2.8537e-05 - val_loss: 9.2254e-06 - val_mse: 1.8451e-05\n",
      "Epoch 22/50\n",
      "2363/2369 [============================>.] - ETA: 0s - loss: 1.4174e-05 - mse: 2.8349e-05\n",
      "Epoch 22: val_loss did not improve from 0.00001\n",
      "2369/2369 [==============================] - 11s 4ms/step - loss: 1.4166e-05 - mse: 2.8331e-05 - val_loss: 9.9248e-06 - val_mse: 1.9850e-05\n",
      "Epoch 23/50\n",
      "2358/2369 [============================>.] - ETA: 0s - loss: 1.4352e-05 - mse: 2.8704e-05\n",
      "Epoch 23: val_loss did not improve from 0.00001\n",
      "2369/2369 [==============================] - 10s 4ms/step - loss: 1.4340e-05 - mse: 2.8680e-05 - val_loss: 9.2854e-06 - val_mse: 1.8571e-05\n",
      "Epoch 24/50\n",
      "2363/2369 [============================>.] - ETA: 0s - loss: 1.4109e-05 - mse: 2.8217e-05\n",
      "Epoch 24: val_loss did not improve from 0.00001\n",
      "2369/2369 [==============================] - 9s 4ms/step - loss: 1.4098e-05 - mse: 2.8195e-05 - val_loss: 9.7773e-06 - val_mse: 1.9555e-05\n",
      "Epoch 25/50\n",
      "2359/2369 [============================>.] - ETA: 0s - loss: 1.4233e-05 - mse: 2.8466e-05\n",
      "Epoch 25: val_loss did not improve from 0.00001\n",
      "2369/2369 [==============================] - 10s 4ms/step - loss: 1.4220e-05 - mse: 2.8440e-05 - val_loss: 1.1879e-05 - val_mse: 2.3759e-05\n",
      "Epoch 26/50\n",
      "2362/2369 [============================>.] - ETA: 0s - loss: 1.4364e-05 - mse: 2.8727e-05\n",
      "Epoch 26: val_loss did not improve from 0.00001\n",
      "2369/2369 [==============================] - 11s 4ms/step - loss: 1.4358e-05 - mse: 2.8716e-05 - val_loss: 1.0067e-05 - val_mse: 2.0133e-05\n",
      "Epoch 27/50\n",
      "2360/2369 [============================>.] - ETA: 0s - loss: 1.4072e-05 - mse: 2.8144e-05\n",
      "Epoch 27: val_loss did not improve from 0.00001\n",
      "2369/2369 [==============================] - 9s 4ms/step - loss: 1.4073e-05 - mse: 2.8147e-05 - val_loss: 9.5966e-06 - val_mse: 1.9193e-05\n",
      "Epoch 28/50\n",
      "2358/2369 [============================>.] - ETA: 0s - loss: 1.4135e-05 - mse: 2.8269e-05\n",
      "Epoch 28: val_loss did not improve from 0.00001\n",
      "2369/2369 [==============================] - 10s 4ms/step - loss: 1.4124e-05 - mse: 2.8249e-05 - val_loss: 9.8767e-06 - val_mse: 1.9753e-05\n",
      "Epoch 29/50\n",
      "2365/2369 [============================>.] - ETA: 0s - loss: 1.3948e-05 - mse: 2.7895e-05\n",
      "Epoch 29: val_loss did not improve from 0.00001\n",
      "2369/2369 [==============================] - 10s 4ms/step - loss: 1.3942e-05 - mse: 2.7884e-05 - val_loss: 9.1103e-06 - val_mse: 1.8221e-05\n"
     ]
    }
   ],
   "source": [
    "history = model.fit(train_data, \n",
    "                    validation_data=(test_data), \n",
    "                    epochs=50, \n",
    "                    callbacks=[checkpoint, earlystopping])"
   ]
  },
  {
   "cell_type": "code",
   "execution_count": 38,
   "metadata": {},
   "outputs": [
    {
     "data": {
      "text/plain": [
       "<tensorflow.python.training.tracking.util.CheckpointLoadStatus at 0x268a5918790>"
      ]
     },
     "execution_count": 38,
     "metadata": {},
     "output_type": "execute_result"
    }
   ],
   "source": [
    "model.load_weights(filename)"
   ]
  },
  {
   "cell_type": "code",
   "execution_count": 39,
   "metadata": {},
   "outputs": [
    {
     "name": "stdout",
     "output_type": "stream",
     "text": [
      "<PrefetchDataset element_spec=(TensorSpec(shape=(None, None, 1), dtype=tf.float64, name=None), TensorSpec(shape=(None, 1), dtype=tf.float64, name=None))>\n"
     ]
    }
   ],
   "source": [
    "print(test_data)"
   ]
  },
  {
   "cell_type": "code",
   "execution_count": 40,
   "metadata": {},
   "outputs": [
    {
     "name": "stdout",
     "output_type": "stream",
     "text": [
      "592/592 [==============================] - 1s 2ms/step\n"
     ]
    }
   ],
   "source": [
    "pred = model.predict(test_data)"
   ]
  },
  {
   "cell_type": "code",
   "execution_count": 41,
   "metadata": {},
   "outputs": [
    {
     "data": {
      "text/plain": [
       "array([[0.42132536],\n",
       "       [0.42145282],\n",
       "       [0.42147717],\n",
       "       ...,\n",
       "       [0.02871703],\n",
       "       [0.02754015],\n",
       "       [0.02931293]], dtype=float32)"
      ]
     },
     "execution_count": 41,
     "metadata": {},
     "output_type": "execute_result"
    }
   ],
   "source": [
    "pred"
   ]
  },
  {
   "cell_type": "code",
   "execution_count": 42,
   "metadata": {},
   "outputs": [
    {
     "data": {
      "image/png": "[encoded data removed]",
      "text/plain": [
       "<Figure size 1200x900 with 1 Axes>"
      ]
     },
     "metadata": {},
     "output_type": "display_data"
    }
   ],
   "source": [
    "plt.figure(figsize=(12, 9))\n",
    "plt.plot(np.asarray(y_test)[20:], label='actual')\n",
    "plt.plot(pred, label='prediction')\n",
    "plt.legend()\n",
    "plt.show()"
   ]
  }
 ],
 "metadata": {
  "kernelspec": {
   "display_name": "dl-dev-cpu",
   "language": "python",
   "name": "python3"
  },
  "language_info": {
   "codemirror_mode": {
    "name": "ipython",
    "version": 3
   },
   "file_extension": ".py",
   "mimetype": "text/x-python",
   "name": "python",
   "nbconvert_exporter": "python",
   "pygments_lexer": "ipython3",
   "version": "3.10.11"
  },
  "orig_nbformat": 4
 },
 "nbformat": 4,
 "nbformat_minor": 2
}
