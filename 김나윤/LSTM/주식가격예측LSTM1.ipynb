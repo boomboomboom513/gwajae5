{
 "cells": [
  {
   "attachments": {},
   "cell_type": "markdown",
   "metadata": {},
   "source": [
    "https://colab.research.google.com/github/teddylee777/machine-learning/blob/master/04-TensorFlow2.0/01-%EC%82%BC%EC%84%B1%EC%A0%84%EC%9E%90-%EC%A3%BC%EA%B0%80%EC%98%88%EC%B8%A1/02-LSTM-stock-forecasting-with-LSTM-financedatareader.ipynb#scrollTo=qnaiLGuDbiJe"
   ]
  },
  {
   "attachments": {},
   "cell_type": "markdown",
   "metadata": {},
   "source": [
    "https://woochan-autobiography.tistory.com/871"
   ]
  },
  {
   "cell_type": "code",
   "execution_count": 67,
   "metadata": {},
   "outputs": [],
   "source": [
    "import numpy as np # linear algebra\n",
    "import pandas as pd # data processing, CSV file I/O (e.g. pd.read_csv)\n",
    "import matplotlib.pyplot as plt\n",
    "import seaborn as sns"
   ]
  },
  {
   "cell_type": "code",
   "execution_count": 68,
   "metadata": {},
   "outputs": [],
   "source": [
    "data = pd.read_csv('../Data/삼성바이오로직스 주식 데이터.csv',encoding='cp949', parse_dates = [\"날짜\"])\n",
    "data1 = pd.read_csv('../Data/삼성바이오로직스 주식 데이터(투자주체별).csv',encoding='cp949', parse_dates = [\"날짜\"])"
   ]
  },
  {
   "cell_type": "code",
   "execution_count": 69,
   "metadata": {},
   "outputs": [
    {
     "data": {
      "text/plain": [
       "(Index(['종목코드', '종목명', '날짜', '시간', '시가', '고가', '저가', '종가', '거래량', '거래대금',\n",
       "        '누적체결매도수량', '누적체결매수수량'],\n",
       "       dtype='object'),\n",
       " Index(['종목코드', '종목명', '날짜', '개인', '외국인', '기관계', '금융투자', '보험', '투신', '은행',\n",
       "        '기타금융', '연기금', '기타법인', '기타외인', '사모펀드'],\n",
       "       dtype='object'))"
      ]
     },
     "execution_count": 69,
     "metadata": {},
     "output_type": "execute_result"
    }
   ],
   "source": [
    "data.columns, data1.columns"
   ]
  },
  {
   "cell_type": "code",
   "execution_count": 70,
   "metadata": {},
   "outputs": [],
   "source": [
    "data.drop('종목코드', axis=1, inplace=True) \n",
    "data.drop('종목명', axis=1, inplace=True) \n",
    "data1.drop('종목코드', axis=1, inplace=True) \n",
    "data1.drop('종목명', axis=1, inplace=True) "
   ]
  },
  {
   "cell_type": "code",
   "execution_count": 71,
   "metadata": {},
   "outputs": [],
   "source": [
    "m_data = pd.merge(data, data1)\n",
    "m_data.drop('누적체결매도수량', axis=1, inplace=True)\n",
    "m_data.drop('누적체결매수수량', axis=1, inplace=True)"
   ]
  },
  {
   "cell_type": "code",
   "execution_count": 72,
   "metadata": {},
   "outputs": [
    {
     "data": {
      "text/html": [
       "<div>\n",
       "<style scoped>\n",
       "    .dataframe tbody tr th:only-of-type {\n",
       "        vertical-align: middle;\n",
       "    }\n",
       "\n",
       "    .dataframe tbody tr th {\n",
       "        vertical-align: top;\n",
       "    }\n",
       "\n",
       "    .dataframe thead th {\n",
       "        text-align: right;\n",
       "    }\n",
       "</style>\n",
       "<table border=\"1\" class=\"dataframe\">\n",
       "  <thead>\n",
       "    <tr style=\"text-align: right;\">\n",
       "      <th></th>\n",
       "      <th>날짜</th>\n",
       "      <th>시간</th>\n",
       "      <th>시가</th>\n",
       "      <th>고가</th>\n",
       "      <th>저가</th>\n",
       "      <th>종가</th>\n",
       "      <th>거래량</th>\n",
       "      <th>거래대금</th>\n",
       "      <th>누적체결매도수량</th>\n",
       "      <th>누적체결매수수량</th>\n",
       "      <th>...</th>\n",
       "      <th>기관계</th>\n",
       "      <th>금융투자</th>\n",
       "      <th>보험</th>\n",
       "      <th>투신</th>\n",
       "      <th>은행</th>\n",
       "      <th>기타금융</th>\n",
       "      <th>연기금</th>\n",
       "      <th>기타법인</th>\n",
       "      <th>기타외인</th>\n",
       "      <th>사모펀드</th>\n",
       "    </tr>\n",
       "  </thead>\n",
       "  <tbody>\n",
       "    <tr>\n",
       "      <th>0</th>\n",
       "      <td>2022-06-23</td>\n",
       "      <td>901</td>\n",
       "      <td>815000.0</td>\n",
       "      <td>816000.0</td>\n",
       "      <td>812000.0</td>\n",
       "      <td>816000.0</td>\n",
       "      <td>198.0</td>\n",
       "      <td>518.0</td>\n",
       "      <td>0.0</td>\n",
       "      <td>0.0</td>\n",
       "      <td>...</td>\n",
       "      <td>26808</td>\n",
       "      <td>13652</td>\n",
       "      <td>95</td>\n",
       "      <td>2308</td>\n",
       "      <td>-747</td>\n",
       "      <td>-91</td>\n",
       "      <td>10760</td>\n",
       "      <td>-2058</td>\n",
       "      <td>-19</td>\n",
       "      <td>831</td>\n",
       "    </tr>\n",
       "    <tr>\n",
       "      <th>1</th>\n",
       "      <td>2022-06-23</td>\n",
       "      <td>902</td>\n",
       "      <td>817000.0</td>\n",
       "      <td>817000.0</td>\n",
       "      <td>812000.0</td>\n",
       "      <td>814000.0</td>\n",
       "      <td>420.0</td>\n",
       "      <td>596.0</td>\n",
       "      <td>0.0</td>\n",
       "      <td>0.0</td>\n",
       "      <td>...</td>\n",
       "      <td>26808</td>\n",
       "      <td>13652</td>\n",
       "      <td>95</td>\n",
       "      <td>2308</td>\n",
       "      <td>-747</td>\n",
       "      <td>-91</td>\n",
       "      <td>10760</td>\n",
       "      <td>-2058</td>\n",
       "      <td>-19</td>\n",
       "      <td>831</td>\n",
       "    </tr>\n",
       "    <tr>\n",
       "      <th>2</th>\n",
       "      <td>2022-06-23</td>\n",
       "      <td>903</td>\n",
       "      <td>814000.0</td>\n",
       "      <td>820000.0</td>\n",
       "      <td>813000.0</td>\n",
       "      <td>820000.0</td>\n",
       "      <td>497.0</td>\n",
       "      <td>1230.0</td>\n",
       "      <td>0.0</td>\n",
       "      <td>0.0</td>\n",
       "      <td>...</td>\n",
       "      <td>26808</td>\n",
       "      <td>13652</td>\n",
       "      <td>95</td>\n",
       "      <td>2308</td>\n",
       "      <td>-747</td>\n",
       "      <td>-91</td>\n",
       "      <td>10760</td>\n",
       "      <td>-2058</td>\n",
       "      <td>-19</td>\n",
       "      <td>831</td>\n",
       "    </tr>\n",
       "    <tr>\n",
       "      <th>3</th>\n",
       "      <td>2022-06-23</td>\n",
       "      <td>904</td>\n",
       "      <td>819000.0</td>\n",
       "      <td>820000.0</td>\n",
       "      <td>815000.0</td>\n",
       "      <td>818000.0</td>\n",
       "      <td>709.0</td>\n",
       "      <td>1382.0</td>\n",
       "      <td>0.0</td>\n",
       "      <td>0.0</td>\n",
       "      <td>...</td>\n",
       "      <td>26808</td>\n",
       "      <td>13652</td>\n",
       "      <td>95</td>\n",
       "      <td>2308</td>\n",
       "      <td>-747</td>\n",
       "      <td>-91</td>\n",
       "      <td>10760</td>\n",
       "      <td>-2058</td>\n",
       "      <td>-19</td>\n",
       "      <td>831</td>\n",
       "    </tr>\n",
       "    <tr>\n",
       "      <th>4</th>\n",
       "      <td>2022-06-23</td>\n",
       "      <td>905</td>\n",
       "      <td>819000.0</td>\n",
       "      <td>820000.0</td>\n",
       "      <td>815000.0</td>\n",
       "      <td>819000.0</td>\n",
       "      <td>893.0</td>\n",
       "      <td>1471.0</td>\n",
       "      <td>0.0</td>\n",
       "      <td>0.0</td>\n",
       "      <td>...</td>\n",
       "      <td>26808</td>\n",
       "      <td>13652</td>\n",
       "      <td>95</td>\n",
       "      <td>2308</td>\n",
       "      <td>-747</td>\n",
       "      <td>-91</td>\n",
       "      <td>10760</td>\n",
       "      <td>-2058</td>\n",
       "      <td>-19</td>\n",
       "      <td>831</td>\n",
       "    </tr>\n",
       "  </tbody>\n",
       "</table>\n",
       "<p>5 rows × 22 columns</p>\n",
       "</div>"
      ],
      "text/plain": [
       "          날짜   시간        시가        고가        저가        종가    거래량    거래대금  \\\n",
       "0 2022-06-23  901  815000.0  816000.0  812000.0  816000.0  198.0   518.0   \n",
       "1 2022-06-23  902  817000.0  817000.0  812000.0  814000.0  420.0   596.0   \n",
       "2 2022-06-23  903  814000.0  820000.0  813000.0  820000.0  497.0  1230.0   \n",
       "3 2022-06-23  904  819000.0  820000.0  815000.0  818000.0  709.0  1382.0   \n",
       "4 2022-06-23  905  819000.0  820000.0  815000.0  819000.0  893.0  1471.0   \n",
       "\n",
       "   누적체결매도수량  누적체결매수수량  ...    기관계   금융투자  보험    투신   은행  기타금융    연기금  기타법인  \\\n",
       "0       0.0       0.0  ...  26808  13652  95  2308 -747   -91  10760 -2058   \n",
       "1       0.0       0.0  ...  26808  13652  95  2308 -747   -91  10760 -2058   \n",
       "2       0.0       0.0  ...  26808  13652  95  2308 -747   -91  10760 -2058   \n",
       "3       0.0       0.0  ...  26808  13652  95  2308 -747   -91  10760 -2058   \n",
       "4       0.0       0.0  ...  26808  13652  95  2308 -747   -91  10760 -2058   \n",
       "\n",
       "   기타외인  사모펀드  \n",
       "0   -19   831  \n",
       "1   -19   831  \n",
       "2   -19   831  \n",
       "3   -19   831  \n",
       "4   -19   831  \n",
       "\n",
       "[5 rows x 22 columns]"
      ]
     },
     "execution_count": 72,
     "metadata": {},
     "output_type": "execute_result"
    }
   ],
   "source": [
    "m_data.head()"
   ]
  },
  {
   "attachments": {},
   "cell_type": "markdown",
   "metadata": {},
   "source": [
    "투자주체별 합치고 종가 삭제하고"
   ]
  },
  {
   "cell_type": "code",
   "execution_count": 73,
   "metadata": {},
   "outputs": [],
   "source": [
    "# 날짜 - 날짜형으로 변경\n",
    "m_data['날짜'] = pd.to_datetime(data['날짜'])"
   ]
  },
  {
   "cell_type": "code",
   "execution_count": 74,
   "metadata": {},
   "outputs": [],
   "source": [
    "m_data['Year'] = m_data['날짜'].dt.year\n",
    "m_data['Month'] = m_data['날짜'].dt.month\n",
    "m_data['Day'] = m_data['날짜'].dt.day\n",
    "\n",
    "m_data.drop('날짜', axis = 1, inplace=True)"
   ]
  },
  {
   "cell_type": "code",
   "execution_count": 75,
   "metadata": {},
   "outputs": [
    {
     "data": {
      "text/plain": [
       "Index(['시간', '시가', '고가', '저가', '종가', '거래량', '거래대금', '누적체결매도수량', '누적체결매수수량',\n",
       "       '개인', '외국인', '기관계', '금융투자', '보험', '투신', '은행', '기타금융', '연기금', '기타법인',\n",
       "       '기타외인', '사모펀드', 'Year', 'Month', 'Day'],\n",
       "      dtype='object')"
      ]
     },
     "execution_count": 75,
     "metadata": {},
     "output_type": "execute_result"
    }
   ],
   "source": [
    "m_data.columns"
   ]
  },
  {
   "cell_type": "code",
   "execution_count": 77,
   "metadata": {},
   "outputs": [
    {
     "data": {
      "text/plain": [
       "array([[0.        , 0.40883978, 0.41111111, ..., 0.        , 0.45454545,\n",
       "        0.5       ],\n",
       "       [0.00137174, 0.4198895 , 0.41666667, ..., 0.        , 0.45454545,\n",
       "        0.5       ],\n",
       "       [0.00274348, 0.40331492, 0.43333333, ..., 0.        , 0.45454545,\n",
       "        0.5       ],\n",
       "       ...,\n",
       "       [0.84773663, 0.03314917, 0.02777778, ..., 1.        , 0.45454545,\n",
       "        0.63333333],\n",
       "       [0.84910837, 0.03314917, 0.02777778, ..., 1.        , 0.45454545,\n",
       "        0.63333333],\n",
       "       [0.86282579, 0.03314917, 0.02777778, ..., 1.        , 0.45454545,\n",
       "        0.63333333]])"
      ]
     },
     "execution_count": 77,
     "metadata": {},
     "output_type": "execute_result"
    }
   ],
   "source": [
    "from sklearn.preprocessing import MinMaxScaler\n",
    "\n",
    "scaler = MinMaxScaler()\n",
    "# 스케일을 적용할 column을 정의합니다.\n",
    "scale_cols = ['시간', '시가', '고가', '저가', '종가', '거래량', '거래대금', '누적체결매도수량', '누적체결매수수량',\n",
    "       '개인', '외국인', '기관계', '금융투자', '보험', '투신', '은행', '기타금융', '연기금', '기타법인',\n",
    "       '기타외인', '사모펀드', 'Year', 'Month', 'Day']\n",
    "# 스케일 후 columns\n",
    "scaled = scaler.fit_transform(m_data[scale_cols])\n",
    "scaled"
   ]
  },
  {
   "cell_type": "code",
   "execution_count": 78,
   "metadata": {},
   "outputs": [],
   "source": [
    "df = pd.DataFrame(scaled, columns=scale_cols)"
   ]
  },
  {
   "cell_type": "code",
   "execution_count": 79,
   "metadata": {},
   "outputs": [
    {
     "name": "stdout",
     "output_type": "stream",
     "text": [
      "<class 'pandas.core.frame.DataFrame'>\n",
      "RangeIndex: 94786 entries, 0 to 94785\n",
      "Data columns (total 24 columns):\n",
      " #   Column    Non-Null Count  Dtype  \n",
      "---  ------    --------------  -----  \n",
      " 0   시간        94786 non-null  float64\n",
      " 1   시가        94786 non-null  float64\n",
      " 2   고가        94786 non-null  float64\n",
      " 3   저가        94786 non-null  float64\n",
      " 4   종가        94786 non-null  float64\n",
      " 5   거래량       94786 non-null  float64\n",
      " 6   거래대금      94786 non-null  float64\n",
      " 7   누적체결매도수량  94786 non-null  float64\n",
      " 8   누적체결매수수량  94786 non-null  float64\n",
      " 9   개인        94786 non-null  float64\n",
      " 10  외국인       94786 non-null  float64\n",
      " 11  기관계       94786 non-null  float64\n",
      " 12  금융투자      94786 non-null  float64\n",
      " 13  보험        94786 non-null  float64\n",
      " 14  투신        94786 non-null  float64\n",
      " 15  은행        94786 non-null  float64\n",
      " 16  기타금융      94786 non-null  float64\n",
      " 17  연기금       94786 non-null  float64\n",
      " 18  기타법인      94786 non-null  float64\n",
      " 19  기타외인      94786 non-null  float64\n",
      " 20  사모펀드      94786 non-null  float64\n",
      " 21  Year      94786 non-null  float64\n",
      " 22  Month     94786 non-null  float64\n",
      " 23  Day       94786 non-null  float64\n",
      "dtypes: float64(24)\n",
      "memory usage: 17.4 MB\n"
     ]
    }
   ],
   "source": [
    "df.info()"
   ]
  },
  {
   "attachments": {},
   "cell_type": "markdown",
   "metadata": {},
   "source": [
    "train/test 분리"
   ]
  },
  {
   "cell_type": "code",
   "execution_count": 80,
   "metadata": {},
   "outputs": [
    {
     "name": "stderr",
     "output_type": "stream",
     "text": [
      "C:\\Users\\USER\\AppData\\Local\\Temp\\ipykernel_25400\\3628187252.py:3: FutureWarning: In a future version of pandas all arguments of DataFrame.drop except for the argument 'labels' will be keyword-only.\n",
      "  x_train, x_test, y_train, y_test = train_test_split(df.drop('종가', 1), df['종가'], test_size=0.2, random_state=0, shuffle=False)\n"
     ]
    }
   ],
   "source": [
    "from sklearn.model_selection import train_test_split\n",
    "\n",
    "x_train, x_test, y_train, y_test = train_test_split(df.drop('종가', 1), df['종가'], test_size=0.2, random_state=0, shuffle=False)"
   ]
  },
  {
   "cell_type": "code",
   "execution_count": 98,
   "metadata": {},
   "outputs": [
    {
     "data": {
      "text/plain": [
       "Index(['시간', '시가', '고가', '저가', '거래량', '거래대금', '누적체결매도수량', '누적체결매수수량', '개인',\n",
       "       '외국인', '기관계', '금융투자', '보험', '투신', '은행', '기타금융', '연기금', '기타법인', '기타외인',\n",
       "       '사모펀드', 'Year', 'Month', 'Day'],\n",
       "      dtype='object')"
      ]
     },
     "execution_count": 98,
     "metadata": {},
     "output_type": "execute_result"
    }
   ],
   "source": [
    "x_test.columns"
   ]
  },
  {
   "cell_type": "code",
   "execution_count": 81,
   "metadata": {},
   "outputs": [
    {
     "data": {
      "text/plain": [
       "Index(['시간', '시가', '고가', '저가', '거래량', '거래대금', '누적체결매도수량', '누적체결매수수량', '개인',\n",
       "       '외국인', '기관계', '금융투자', '보험', '투신', '은행', '기타금융', '연기금', '기타법인', '기타외인',\n",
       "       '사모펀드', 'Year', 'Month', 'Day'],\n",
       "      dtype='object')"
      ]
     },
     "execution_count": 81,
     "metadata": {},
     "output_type": "execute_result"
    }
   ],
   "source": [
    "x_train.columns"
   ]
  },
  {
   "attachments": {},
   "cell_type": "markdown",
   "metadata": {},
   "source": [
    "시퀀스 데이터셋 구성"
   ]
  },
  {
   "cell_type": "code",
   "execution_count": 82,
   "metadata": {},
   "outputs": [],
   "source": [
    "import tensorflow as tf"
   ]
  },
  {
   "cell_type": "code",
   "execution_count": 83,
   "metadata": {},
   "outputs": [],
   "source": [
    "def windowed_dataset(series, window_size, batch_size, shuffle):\n",
    "    series = tf.expand_dims(series, axis=-1)\n",
    "    ds = tf.data.Dataset.from_tensor_slices(series)\n",
    "    ds = ds.window(window_size + 1, shift=1, drop_remainder=True)\n",
    "    ds = ds.flat_map(lambda w: w.batch(window_size + 1))\n",
    "    if shuffle:\n",
    "        ds = ds.shuffle(1000)\n",
    "    ds = ds.map(lambda w: (w[:-1], w[-1]))\n",
    "    return ds.batch(batch_size).prefetch(1)"
   ]
  },
  {
   "cell_type": "code",
   "execution_count": 84,
   "metadata": {},
   "outputs": [],
   "source": [
    "# 하이퍼 파라미터\n",
    "WINDOW_SIZE=20\n",
    "BATCH_SIZE=32"
   ]
  },
  {
   "cell_type": "code",
   "execution_count": 85,
   "metadata": {},
   "outputs": [],
   "source": [
    "# trian_data는 학습용 데이터셋, test_data는 검증용 데이터셋 입니다.\n",
    "train_data = windowed_dataset(y_train, WINDOW_SIZE, BATCH_SIZE, True)\n",
    "test_data = windowed_dataset(y_test, WINDOW_SIZE, BATCH_SIZE, False)"
   ]
  },
  {
   "cell_type": "code",
   "execution_count": 86,
   "metadata": {},
   "outputs": [
    {
     "name": "stdout",
     "output_type": "stream",
     "text": [
      "데이터셋(X) 구성(batch_size, window_size, feature갯수): (32, 20, 1)\n",
      "데이터셋(Y) 구성(batch_size, window_size, feature갯수): (32, 1)\n"
     ]
    }
   ],
   "source": [
    "# 아래의 코드로 데이터셋의 구성을 확인해 볼 수 있습니다.\n",
    "# X: (batch_size, window_size, feature)\n",
    "# Y: (batch_size, feature)\n",
    "for data in train_data.take(1):\n",
    "    print(f'데이터셋(X) 구성(batch_size, window_size, feature갯수): {data[0].shape}')\n",
    "    print(f'데이터셋(Y) 구성(batch_size, window_size, feature갯수): {data[1].shape}')"
   ]
  },
  {
   "cell_type": "code",
   "execution_count": 87,
   "metadata": {},
   "outputs": [],
   "source": [
    "from tensorflow.keras.models import Sequential\n",
    "from tensorflow.keras.layers import Dense, LSTM, Conv1D, Lambda\n",
    "from tensorflow.keras.losses import Huber\n",
    "from tensorflow.keras.optimizers import Adam\n",
    "from tensorflow.keras.callbacks import EarlyStopping, ModelCheckpoint\n",
    "\n",
    "\n",
    "model = Sequential([\n",
    "    # 1차원 feature map 생성\n",
    "    Conv1D(filters=32, kernel_size=5,\n",
    "           padding=\"causal\",\n",
    "           activation=\"relu\",\n",
    "           input_shape=[WINDOW_SIZE, 1]),\n",
    "    # LSTM\n",
    "    LSTM(16, activation='tanh'),\n",
    "    Dense(16, activation=\"relu\"),\n",
    "    Dense(1),\n",
    "])"
   ]
  },
  {
   "cell_type": "code",
   "execution_count": 88,
   "metadata": {},
   "outputs": [],
   "source": [
    "# Sequence 학습에 비교적 좋은 퍼포먼스를 내는 Huber()를 사용합니다.\n",
    "loss = Huber()\n",
    "optimizer = Adam(0.0005)\n",
    "model.compile(loss=Huber(), optimizer=optimizer, metrics=['mse'])"
   ]
  },
  {
   "cell_type": "code",
   "execution_count": 89,
   "metadata": {},
   "outputs": [],
   "source": [
    "import os"
   ]
  },
  {
   "cell_type": "code",
   "execution_count": 90,
   "metadata": {},
   "outputs": [],
   "source": [
    "# earlystopping은 10번 epoch통안 val_loss 개선이 없다면 학습을 멈춥니다.\n",
    "earlystopping = EarlyStopping(monitor='val_loss', patience=10)\n",
    "# val_loss 기준 체크포인터도 생성합니다.\n",
    "filename = os.path.join('tmp', 'ckeckpointer.ckpt')\n",
    "checkpoint = ModelCheckpoint(filename, \n",
    "                             save_weights_only=True, \n",
    "                             save_best_only=True, \n",
    "                             monitor='val_loss', \n",
    "                             verbose=1)"
   ]
  },
  {
   "cell_type": "code",
   "execution_count": 99,
   "metadata": {},
   "outputs": [
    {
     "data": {
      "text/plain": [
       "<PrefetchDataset element_spec=(TensorSpec(shape=(None, None, 1), dtype=tf.float64, name=None), TensorSpec(shape=(None, 1), dtype=tf.float64, name=None))>"
      ]
     },
     "execution_count": 99,
     "metadata": {},
     "output_type": "execute_result"
    }
   ],
   "source": [
    "test_data "
   ]
  },
  {
   "cell_type": "code",
   "execution_count": 91,
   "metadata": {},
   "outputs": [
    {
     "name": "stdout",
     "output_type": "stream",
     "text": [
      "Epoch 1/50\n",
      "   2366/Unknown - 20s 5ms/step - loss: 6.6828e-04 - mse: 0.0013\n",
      "Epoch 1: val_loss improved from inf to 0.00002, saving model to tmp\\ckeckpointer.ckpt\n",
      "2369/2369 [==============================] - 21s 6ms/step - loss: 6.6746e-04 - mse: 0.0013 - val_loss: 2.1096e-05 - val_mse: 4.2193e-05\n",
      "Epoch 2/50\n",
      "2360/2369 [============================>.] - ETA: 0s - loss: 2.2932e-05 - mse: 4.5863e-05\n",
      "Epoch 2: val_loss improved from 0.00002 to 0.00001, saving model to tmp\\ckeckpointer.ckpt\n",
      "2369/2369 [==============================] - 9s 4ms/step - loss: 2.2903e-05 - mse: 4.5806e-05 - val_loss: 1.0972e-05 - val_mse: 2.1944e-05\n",
      "Epoch 3/50\n",
      "2357/2369 [============================>.] - ETA: 0s - loss: 1.8504e-05 - mse: 3.7009e-05\n",
      "Epoch 3: val_loss improved from 0.00001 to 0.00001, saving model to tmp\\ckeckpointer.ckpt\n",
      "2369/2369 [==============================] - 9s 4ms/step - loss: 1.8470e-05 - mse: 3.6939e-05 - val_loss: 1.0226e-05 - val_mse: 2.0452e-05\n",
      "Epoch 4/50\n",
      "2360/2369 [============================>.] - ETA: 0s - loss: 1.7604e-05 - mse: 3.5208e-05\n",
      "Epoch 4: val_loss did not improve from 0.00001\n",
      "2369/2369 [==============================] - 9s 4ms/step - loss: 1.7595e-05 - mse: 3.5190e-05 - val_loss: 1.0757e-05 - val_mse: 2.1515e-05\n",
      "Epoch 5/50\n",
      "2362/2369 [============================>.] - ETA: 0s - loss: 1.7005e-05 - mse: 3.4010e-05\n",
      "Epoch 5: val_loss did not improve from 0.00001\n",
      "2369/2369 [==============================] - 9s 4ms/step - loss: 1.6997e-05 - mse: 3.3994e-05 - val_loss: 1.0867e-05 - val_mse: 2.1735e-05\n",
      "Epoch 6/50\n",
      "2359/2369 [============================>.] - ETA: 0s - loss: 1.6389e-05 - mse: 3.2778e-05\n",
      "Epoch 6: val_loss did not improve from 0.00001\n",
      "2369/2369 [==============================] - 9s 4ms/step - loss: 1.6394e-05 - mse: 3.2788e-05 - val_loss: 1.3583e-05 - val_mse: 2.7167e-05\n",
      "Epoch 7/50\n",
      "2363/2369 [============================>.] - ETA: 0s - loss: 1.5836e-05 - mse: 3.1673e-05\n",
      "Epoch 7: val_loss did not improve from 0.00001\n",
      "2369/2369 [==============================] - 9s 4ms/step - loss: 1.5837e-05 - mse: 3.1673e-05 - val_loss: 1.2915e-05 - val_mse: 2.5830e-05\n",
      "Epoch 8/50\n",
      "2361/2369 [============================>.] - ETA: 0s - loss: 1.5886e-05 - mse: 3.1772e-05\n",
      "Epoch 8: val_loss improved from 0.00001 to 0.00001, saving model to tmp\\ckeckpointer.ckpt\n",
      "2369/2369 [==============================] - 9s 4ms/step - loss: 1.5870e-05 - mse: 3.1740e-05 - val_loss: 9.6768e-06 - val_mse: 1.9354e-05\n",
      "Epoch 9/50\n",
      "2364/2369 [============================>.] - ETA: 0s - loss: 1.5668e-05 - mse: 3.1337e-05\n",
      "Epoch 9: val_loss did not improve from 0.00001\n",
      "2369/2369 [==============================] - 9s 4ms/step - loss: 1.5669e-05 - mse: 3.1338e-05 - val_loss: 1.4372e-05 - val_mse: 2.8745e-05\n",
      "Epoch 10/50\n",
      "2366/2369 [============================>.] - ETA: 0s - loss: 1.5279e-05 - mse: 3.0558e-05\n",
      "Epoch 10: val_loss did not improve from 0.00001\n",
      "2369/2369 [==============================] - 9s 4ms/step - loss: 1.5273e-05 - mse: 3.0546e-05 - val_loss: 9.9256e-06 - val_mse: 1.9851e-05\n",
      "Epoch 11/50\n",
      "2368/2369 [============================>.] - ETA: 0s - loss: 1.5018e-05 - mse: 3.0037e-05\n",
      "Epoch 11: val_loss improved from 0.00001 to 0.00001, saving model to tmp\\ckeckpointer.ckpt\n",
      "2369/2369 [==============================] - 9s 4ms/step - loss: 1.5016e-05 - mse: 3.0033e-05 - val_loss: 9.3041e-06 - val_mse: 1.8608e-05\n",
      "Epoch 12/50\n",
      "2369/2369 [==============================] - ETA: 0s - loss: 1.4908e-05 - mse: 2.9815e-05\n",
      "Epoch 12: val_loss did not improve from 0.00001\n",
      "2369/2369 [==============================] - 9s 4ms/step - loss: 1.4908e-05 - mse: 2.9815e-05 - val_loss: 1.0816e-05 - val_mse: 2.1632e-05\n",
      "Epoch 13/50\n",
      "2367/2369 [============================>.] - ETA: 0s - loss: 1.4787e-05 - mse: 2.9575e-05\n",
      "Epoch 13: val_loss did not improve from 0.00001\n",
      "2369/2369 [==============================] - 9s 4ms/step - loss: 1.4783e-05 - mse: 2.9567e-05 - val_loss: 9.7417e-06 - val_mse: 1.9483e-05\n",
      "Epoch 14/50\n",
      "2368/2369 [============================>.] - ETA: 0s - loss: 1.4400e-05 - mse: 2.8800e-05\n",
      "Epoch 14: val_loss did not improve from 0.00001\n",
      "2369/2369 [==============================] - 9s 4ms/step - loss: 1.4404e-05 - mse: 2.8807e-05 - val_loss: 1.0666e-05 - val_mse: 2.1332e-05\n",
      "Epoch 15/50\n",
      "2355/2369 [============================>.] - ETA: 0s - loss: 1.4473e-05 - mse: 2.8945e-05\n",
      "Epoch 15: val_loss did not improve from 0.00001\n",
      "2369/2369 [==============================] - 9s 4ms/step - loss: 1.4468e-05 - mse: 2.8935e-05 - val_loss: 9.9252e-06 - val_mse: 1.9850e-05\n",
      "Epoch 16/50\n",
      "2358/2369 [============================>.] - ETA: 0s - loss: 1.4392e-05 - mse: 2.8784e-05\n",
      "Epoch 16: val_loss improved from 0.00001 to 0.00001, saving model to tmp\\ckeckpointer.ckpt\n",
      "2369/2369 [==============================] - 9s 4ms/step - loss: 1.4380e-05 - mse: 2.8760e-05 - val_loss: 9.0786e-06 - val_mse: 1.8157e-05\n",
      "Epoch 17/50\n",
      "2360/2369 [============================>.] - ETA: 0s - loss: 1.4512e-05 - mse: 2.9024e-05\n",
      "Epoch 17: val_loss did not improve from 0.00001\n",
      "2369/2369 [==============================] - 9s 4ms/step - loss: 1.4506e-05 - mse: 2.9013e-05 - val_loss: 9.3540e-06 - val_mse: 1.8708e-05\n",
      "Epoch 18/50\n",
      "2364/2369 [============================>.] - ETA: 0s - loss: 1.4116e-05 - mse: 2.8232e-05\n",
      "Epoch 18: val_loss did not improve from 0.00001\n",
      "2369/2369 [==============================] - 9s 4ms/step - loss: 1.4107e-05 - mse: 2.8214e-05 - val_loss: 1.0868e-05 - val_mse: 2.1736e-05\n",
      "Epoch 19/50\n",
      "2358/2369 [============================>.] - ETA: 0s - loss: 1.4472e-05 - mse: 2.8945e-05\n",
      "Epoch 19: val_loss did not improve from 0.00001\n",
      "2369/2369 [==============================] - 9s 4ms/step - loss: 1.4473e-05 - mse: 2.8946e-05 - val_loss: 9.3391e-06 - val_mse: 1.8678e-05\n",
      "Epoch 20/50\n",
      "2363/2369 [============================>.] - ETA: 0s - loss: 1.4217e-05 - mse: 2.8433e-05\n",
      "Epoch 20: val_loss did not improve from 0.00001\n",
      "2369/2369 [==============================] - 9s 4ms/step - loss: 1.4225e-05 - mse: 2.8451e-05 - val_loss: 1.4302e-05 - val_mse: 2.8603e-05\n",
      "Epoch 21/50\n",
      "2361/2369 [============================>.] - ETA: 0s - loss: 1.4094e-05 - mse: 2.8189e-05\n",
      "Epoch 21: val_loss did not improve from 0.00001\n",
      "2369/2369 [==============================] - 12s 5ms/step - loss: 1.4089e-05 - mse: 2.8178e-05 - val_loss: 1.0126e-05 - val_mse: 2.0252e-05\n",
      "Epoch 22/50\n",
      "2368/2369 [============================>.] - ETA: 0s - loss: 1.4293e-05 - mse: 2.8586e-05\n",
      "Epoch 22: val_loss did not improve from 0.00001\n",
      "2369/2369 [==============================] - 10s 4ms/step - loss: 1.4292e-05 - mse: 2.8585e-05 - val_loss: 1.0111e-05 - val_mse: 2.0221e-05\n",
      "Epoch 23/50\n",
      "2359/2369 [============================>.] - ETA: 0s - loss: 1.4164e-05 - mse: 2.8328e-05\n",
      "Epoch 23: val_loss did not improve from 0.00001\n",
      "2369/2369 [==============================] - 10s 4ms/step - loss: 1.4160e-05 - mse: 2.8321e-05 - val_loss: 9.8844e-06 - val_mse: 1.9769e-05\n",
      "Epoch 24/50\n",
      "2363/2369 [============================>.] - ETA: 0s - loss: 1.4105e-05 - mse: 2.8210e-05\n",
      "Epoch 24: val_loss did not improve from 0.00001\n",
      "2369/2369 [==============================] - 10s 4ms/step - loss: 1.4094e-05 - mse: 2.8188e-05 - val_loss: 9.2040e-06 - val_mse: 1.8408e-05\n",
      "Epoch 25/50\n",
      "2357/2369 [============================>.] - ETA: 0s - loss: 1.4370e-05 - mse: 2.8740e-05\n",
      "Epoch 25: val_loss did not improve from 0.00001\n",
      "2369/2369 [==============================] - 10s 4ms/step - loss: 1.4360e-05 - mse: 2.8720e-05 - val_loss: 9.7109e-06 - val_mse: 1.9422e-05\n",
      "Epoch 26/50\n",
      "2369/2369 [==============================] - ETA: 0s - loss: 1.4185e-05 - mse: 2.8369e-05\n",
      "Epoch 26: val_loss did not improve from 0.00001\n",
      "2369/2369 [==============================] - 9s 4ms/step - loss: 1.4185e-05 - mse: 2.8369e-05 - val_loss: 1.0489e-05 - val_mse: 2.0977e-05\n"
     ]
    }
   ],
   "source": [
    "history = model.fit(train_data, \n",
    "                    validation_data=(test_data), \n",
    "                    epochs=50, \n",
    "                    callbacks=[checkpoint, earlystopping])"
   ]
  },
  {
   "cell_type": "code",
   "execution_count": 92,
   "metadata": {},
   "outputs": [
    {
     "data": {
      "text/plain": [
       "<tensorflow.python.training.tracking.util.CheckpointLoadStatus at 0x1a72d9b4940>"
      ]
     },
     "execution_count": 92,
     "metadata": {},
     "output_type": "execute_result"
    }
   ],
   "source": [
    "model.load_weights(filename)"
   ]
  },
  {
   "cell_type": "code",
   "execution_count": 93,
   "metadata": {},
   "outputs": [
    {
     "name": "stdout",
     "output_type": "stream",
     "text": [
      "<PrefetchDataset element_spec=(TensorSpec(shape=(None, None, 1), dtype=tf.float64, name=None), TensorSpec(shape=(None, 1), dtype=tf.float64, name=None))>\n"
     ]
    }
   ],
   "source": [
    "print(test_data)"
   ]
  },
  {
   "cell_type": "code",
   "execution_count": 94,
   "metadata": {},
   "outputs": [
    {
     "name": "stdout",
     "output_type": "stream",
     "text": [
      "592/592 [==============================] - 1s 2ms/step\n"
     ]
    }
   ],
   "source": [
    "pred = model.predict(test_data)"
   ]
  },
  {
   "cell_type": "code",
   "execution_count": 95,
   "metadata": {},
   "outputs": [
    {
     "data": {
      "text/plain": [
       "array([[0.42086077],\n",
       "       [0.4209987 ],\n",
       "       [0.42104992],\n",
       "       ...,\n",
       "       [0.03103729],\n",
       "       [0.03006874],\n",
       "       [0.03184874]], dtype=float32)"
      ]
     },
     "execution_count": 95,
     "metadata": {},
     "output_type": "execute_result"
    }
   ],
   "source": [
    "pred"
   ]
  },
  {
   "cell_type": "code",
   "execution_count": 96,
   "metadata": {},
   "outputs": [
    {
     "data": {
      "image/png": "[encoded data removed]",
      "text/plain": [
       "<Figure size 1200x900 with 1 Axes>"
      ]
     },
     "metadata": {},
     "output_type": "display_data"
    }
   ],
   "source": [
    "plt.figure(figsize=(12, 9))\n",
    "plt.plot(np.asarray(y_test)[20:], label='actual')\n",
    "plt.plot(pred, label='prediction')\n",
    "plt.legend()\n",
    "plt.show()"
   ]
  }
 ],
 "metadata": {
  "kernelspec": {
   "display_name": "dl-dev-cpu",
   "language": "python",
   "name": "python3"
  },
  "language_info": {
   "codemirror_mode": {
    "name": "ipython",
    "version": 3
   },
   "file_extension": ".py",
   "mimetype": "text/x-python",
   "name": "python",
   "nbconvert_exporter": "python",
   "pygments_lexer": "ipython3",
   "version": "3.10.11"
  },
  "orig_nbformat": 4
 },
 "nbformat": 4,
 "nbformat_minor": 2
}
