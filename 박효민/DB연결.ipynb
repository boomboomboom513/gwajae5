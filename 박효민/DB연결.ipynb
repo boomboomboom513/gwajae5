{
 "cells": [
  {
   "attachments": {},
   "cell_type": "markdown",
   "metadata": {},
   "source": [
    "# MariaDB연결\n"
   ]
  },
  {
   "attachments": {},
   "cell_type": "markdown",
   "metadata": {},
   "source": [
    "---\n",
    "- id = 카운트\n",
    "- code = 종목코드\n",
    "- name = 종목명\n",
    "- date = 날짜\n",
    "- time = 시간"
   ]
  },
  {
   "attachments": {},
   "cell_type": "markdown",
   "metadata": {},
   "source": [
    "- startprice = 시가\n",
    "- highprice = 고가\n",
    "- lowprice = 저가\n",
    "- endprice = 종가\n",
    "- tradecount = 거래량\n"
   ]
  },
  {
   "attachments": {},
   "cell_type": "markdown",
   "metadata": {},
   "source": [
    "- sma5 = 5일간 이동평균\n",
    "- sma20 = 20일간 이동평균\n",
    "- rsi = 상대강도지수\n",
    "- macd = 이동 평균 수렴 발산\n",
    "- aroonup = 기간의 최고점 추세 추종 지표\n",
    "- aroondn = 기간의 최저점 추세 추종 지표\n"
   ]
  },
  {
   "attachments": {},
   "cell_type": "markdown",
   "metadata": {},
   "source": [
    "- GST = 083450\n",
    "- 고영 = 098460\n",
    "- 싸이맥스 = 160980\n",
    "- 네패스= 033640\n",
    "- 데이타솔루션 = 263800"
   ]
  },
  {
   "cell_type": "code",
   "execution_count": 4,
   "metadata": {},
   "outputs": [],
   "source": [
    "import pymysql"
   ]
  },
  {
   "cell_type": "code",
   "execution_count": 5,
   "metadata": {},
   "outputs": [],
   "source": [
    "# 전역변수 선언부\n",
    "conn = None\n",
    "cur = None\n",
    "\n",
    "sql = \"\""
   ]
  },
  {
   "cell_type": "code",
   "execution_count": 6,
   "metadata": {},
   "outputs": [],
   "source": [
    "# 메인 코드\n",
    "\n",
    "# 접속 정보\n",
    "conn = pymysql.connect(host='34.64.50.78', user='root', password='GYALS99!',db='big16')\n",
    "\n",
    "# 커서 생성\n",
    "cur = conn.cursor()\n"
   ]
  },
  {
   "attachments": {},
   "cell_type": "markdown",
   "metadata": {},
   "source": [
    "#### 주식 데이터(분 단위) 테이블 SQL문\n",
    "    create table stockmindata263800(id int unsigned not null auto_increment,\n",
    "    code varchar(10) not null,\n",
    "    name varchar(100) not null,\n",
    "    date int not null,\n",
    "    time int not null,\n",
    "    startprice int not null,\n",
    "    highprice int not null,\n",
    "    lowprice int not null,\n",
    "    endprice int not null,\n",
    "    tradecount int not null,\n",
    "    primary key (id))default charset=utf8;"
   ]
  },
  {
   "attachments": {},
   "cell_type": "markdown",
   "metadata": {},
   "source": [
    "#### 주식 데이터(일 단위) 테이블\n",
    "    create table stockhourdata263800(\n",
    "    id int unsigned not null auto_increment,\n",
    "    code varchar(10) not null,\n",
    "    name varchar(100) not null,\n",
    "    date int not null,\n",
    "    time int not null,\n",
    "    startprice int not null,\n",
    "    highprice int not null,\n",
    "    lowprice int not null,\n",
    "    endprice int not null,\n",
    "    tradecount int not null,\n",
    "    primary key (id)\n",
    "    )default charset=utf8;\n"
   ]
  },
  {
   "attachments": {},
   "cell_type": "markdown",
   "metadata": {},
   "source": [
    "#### 지표 데이터 테이블\n",
    "    create table wordlabeling(\n",
    "    id int unsigned not null auto_increment,\n",
    "    code varchar(10) not null,\n",
    "    name varchar(100) not null,\n",
    "    date int not null,\n",
    "    sma5 decimal(10, 20) not null,\n",
    "    sma20 decimal(10, 20) not null,\n",
    "    upper decimal(10, 20) not null,\n",
    "    mavg decimal(10, 20) not null,\n",
    "    lower decimal(10, 20) not null,\n",
    "    rsi decimal(10, 20) not null,\n",
    "    macd decimal(10, 20) not null,\n",
    "    aroonup decimal(10, 20) not null,\n",
    "    aroondn decimal(10, 20) not null,\n",
    "    primary key (id)\n",
    "    )default charset=utf8;"
   ]
  },
  {
   "attachments": {},
   "cell_type": "markdown",
   "metadata": {},
   "source": [
    "#### 뉴스 데이터 테이블\n",
    "    create table rawnewsdata263800(\n",
    "    id int unsigned not null auto_increment,\n",
    "    date varchar(26) not null,\n",
    "    title varchar(300) not null,\n",
    "    text varchar(21000) not null,\n",
    "    primary key (id)\n",
    "    )default charset=utf8;"
   ]
  },
  {
   "cell_type": "code",
   "execution_count": 7,
   "metadata": {},
   "outputs": [
    {
     "data": {
      "text/plain": [
       "0"
      ]
     },
     "execution_count": 7,
     "metadata": {},
     "output_type": "execute_result"
    }
   ],
   "source": [
    "# 실행할 SQL문 \n",
    "sql = \"\"\"\n",
    "    create table wordlabeling(id int unsigned not null auto_increment,\n",
    "    code varchar(10) not null,\n",
    "    name varchar(100) not null,\n",
    "    date int not null,\n",
    "    sma5 decimal(20, 10) not null,\n",
    "    sma20 decimal(20, 10) not null,\n",
    "    upper decimal(20, 10) not null,\n",
    "    mavg decimal(20, 10) not null,\n",
    "    lower decimal(20, 10) not null,\n",
    "    rsi decimal(20, 10) not null,\n",
    "    macd decimal(20, 10) not null,\n",
    "    aroonup decimal(20, 10) not null,\n",
    "    aroondn decimal(20, 10) not null,\n",
    "    primary key (id))default charset=utf8;\n",
    "\"\"\"\n",
    "cur.execute(sql)\n"
   ]
  },
  {
   "cell_type": "code",
   "execution_count": 8,
   "metadata": {},
   "outputs": [],
   "source": [
    "\n",
    "conn.commit()\n",
    "conn.close()\n"
   ]
  },
  {
   "cell_type": "code",
   "execution_count": null,
   "metadata": {},
   "outputs": [],
   "source": []
  }
 ],
 "metadata": {
  "kernelspec": {
   "display_name": "data32",
   "language": "python",
   "name": "python3"
  },
  "language_info": {
   "codemirror_mode": {
    "name": "ipython",
    "version": 3
   },
   "file_extension": ".py",
   "mimetype": "text/x-python",
   "name": "python",
   "nbconvert_exporter": "python",
   "pygments_lexer": "ipython3",
   "version": "3.10.4"
  },
  "orig_nbformat": 4
 },
 "nbformat": 4,
 "nbformat_minor": 2
}
