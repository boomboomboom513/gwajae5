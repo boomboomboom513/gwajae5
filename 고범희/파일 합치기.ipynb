{
 "cells": [
  {
   "cell_type": "code",
   "execution_count": null,
   "metadata": {},
   "outputs": [],
   "source": [
    "import pandas as pd\n",
    "import numpy as np"
   ]
  },
  {
   "cell_type": "code",
   "execution_count": 212,
   "metadata": {},
   "outputs": [],
   "source": [
    "stockData1 = pd.read_csv('./stockdata/SK하이닉스 주식 데이터.csv', encoding='ANSI')\n",
    "stockData2 = pd.read_csv('./stockdata/SK하이닉스 주식 데이터(투자주체별).csv', encoding='ANSI')\n",
    "\n",
    "stockDataCopy1 = stockData1.copy()\n",
    "stockDataCopy2 = stockData2.copy()"
   ]
  },
  {
   "cell_type": "code",
   "execution_count": 177,
   "metadata": {},
   "outputs": [
    {
     "data": {
      "text/plain": [
       "249"
      ]
     },
     "execution_count": 177,
     "metadata": {},
     "output_type": "execute_result"
    }
   ],
   "source": [
    "dateList = []\n",
    "\n",
    "for i in range(0, stockDataCopy2['날짜'].shape[0]):\n",
    "    dateList.append(stockDataCopy2['날짜'][i])\n",
    "len(dateList)"
   ]
  },
  {
   "cell_type": "code",
   "execution_count": 201,
   "metadata": {},
   "outputs": [],
   "source": [
    "for i in range(len(dateList)):\n",
    "    indexList = stockDataCopy1[stockDataCopy1['날짜'] == dateList[i]].index\n",
    "    columnList = stockDataCopy2.iloc[:,3:].columns\n",
    "    valueList = stockDataCopy2[stockDataCopy2['날짜'] == dateList[i]].iloc[:,3:].values\n",
    "    for ind in indexList:\n",
    "        for col, val in zip(columnList, valueList[0]):\n",
    "            stockDataCopy1.loc[ind, col] = val"
   ]
  },
  {
   "cell_type": "code",
   "execution_count": 209,
   "metadata": {},
   "outputs": [],
   "source": [
    "stockDataCopy1[stockDataCopy1['개인'].notnull()].to_csv('./stockdata/SK하이닉스 주식데이터 합치기.csv', encoding='euc-kr', index=False)"
   ]
  }
 ],
 "metadata": {
  "kernelspec": {
   "display_name": "dl-dev-gpu",
   "language": "python",
   "name": "python3"
  },
  "language_info": {
   "codemirror_mode": {
    "name": "ipython",
    "version": 3
   },
   "file_extension": ".py",
   "mimetype": "text/x-python",
   "name": "python",
   "nbconvert_exporter": "python",
   "pygments_lexer": "ipython3",
   "version": "3.10.11"
  },
  "orig_nbformat": 4
 },
 "nbformat": 4,
 "nbformat_minor": 2
}
