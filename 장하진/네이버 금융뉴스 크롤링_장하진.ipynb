{
 "cells": [
  {
   "cell_type": "code",
   "execution_count": 1,
   "metadata": {},
   "outputs": [],
   "source": [
    "import json\n",
    "import os\n",
    "from bs4 import BeautifulSoup\n",
    "import re\n",
    "import requests\n",
    "from webob.compat import urlparse"
   ]
  },
  {
   "cell_type": "code",
   "execution_count": 2,
   "metadata": {},
   "outputs": [],
   "source": [
    "class NaverFinanceNewsCrawler:\n",
    "    URL_NAVER_FINANCE = \"http://finance.naver.com\"\n",
    "    URL_NAVER_FINANCE_NEWS_QUERY = \"http://finance.naver.com/news/news_search.nhn?q=%s&x=0&y=0\" # params: query\n",
    "    URL_NAVER_FINANCE_NEWS_CODE = \"http://finance.naver.com/item/news_news.nhn?code=%s&page=%s\" # params: (code, page)\n",
    "    URL_NAVER_NEWS_FLASH = \"http://finance.naver.com/news/news_list.nhn?mode=LSS2D&section_id=101&section_id2=258\"\n",
    "    URL_NAVER_STOCK_NOTICE = \"http://finance.naver.com/item/news_notice.nhn?code=%s&page=%s\" # params: (code, page)\n",
    "\n",
    "    def __init__(self):\n",
    "        pass\n",
    "\n",
    "    def crawl(self, query=None, code=None, page=1):\n",
    "        \"\"\"\n",
    "\n",
    "        :param query:\n",
    "        :param code:\n",
    "        :param page:\n",
    "        :return:\n",
    "        \"\"\"\n",
    "        if query:\n",
    "            return self._crawl_by_query(query)\n",
    "        elif code:\n",
    "            return self._crawl_by_code(code, page=page)\n",
    "        else:\n",
    "            raise Exception(\"[Error] 'query' or 'code' should be entered.\")\n",
    "\n",
    "    def _crawl_by_query(self, query):\n",
    "        \"\"\"\n",
    "        Crawl Naver Finance News\n",
    "        :param query: string; search keywords\n",
    "        :return: generator; [{title, summary, url, articleId, content, codes}, ...]\n",
    "        \"\"\"\n",
    "\n",
    "        # Convert the query to euc-kr string\n",
    "        q = \"\"\n",
    "        for c in query.encode('euc-kr'):\n",
    "            q += \"%%%s\" % format(c, 'x').capitalize()\n",
    "\n",
    "        r_url = NaverFinanceNewsCrawler.URL_NAVER_FINANCE_NEWS_QUERY % (q)\n",
    "        r = requests.get(r_url)\n",
    "\n",
    "        soup = BeautifulSoup(r.text, \"lxml\")\n",
    "        news = soup.find('div', class_='newsSchResult').find('dl', class_='newsList')\n",
    "        news_title = news.find_all('dt', class_='articleSubject')\n",
    "        news_summary = news.find_all('dd', class_='articleSummary')\n",
    "        for title, summary in zip(news_title, news_summary):\n",
    "            url = NaverFinanceNewsCrawler.URL_NAVER_FINANCE + title.a.get(\"href\")\n",
    "            res = {\n",
    "                \"title\": title.a.text,\n",
    "                \"summary\": summary.find(text=True).strip(' \\t\\n\\r'),\n",
    "                \"url\": url,\n",
    "                \"articleId\": urlparse.parse_qs(urlparse.urlparse(url).query)[\"article_id\"][0]\n",
    "            }\n",
    "            res.update(self._crawl_content(url))\n",
    "            yield res\n",
    "\n",
    "    def _crawl_by_code(self, code, page=10000):\n",
    "        \"\"\"\n",
    "        Crawl Naver Stock News\n",
    "        :param code: string; a stock code\n",
    "        :return: generator;\n",
    "        \"\"\"\n",
    "\n",
    "        r_url = NaverFinanceNewsCrawler.URL_NAVER_FINANCE_NEWS_CODE % (code, page)\n",
    "        r = requests.get(r_url)\n",
    "\n",
    "        soup = BeautifulSoup(r.text, \"lxml\")\n",
    "        news_rows = soup.find('table', class_='type2').find_all('td', class_='title')\n",
    "\n",
    "        for row in news_rows:\n",
    "            yield {\"title\": row.a.text.strip(' \\t\\n\\r'), \"url\": row.a.get('href')}\n",
    "\n",
    "    def _crawl_content(self, url):\n",
    "        r = requests.get(url)\n",
    "        soup = BeautifulSoup(r.text, \"lxml\")\n",
    "        content = soup.find('div', id=\"content\", class_='articleCont')\n",
    "        codes = re.findall(r\"\\d{6}\", content.text)\n",
    "        return {\"content\": content.text.strip(' \\t\\n\\r'), \"codes\": codes}"
   ]
  },
  {
   "cell_type": "code",
   "execution_count": 3,
   "metadata": {},
   "outputs": [
    {
     "name": "stderr",
     "output_type": "stream",
     "text": [
      "C:\\Users\\Public\\Documents\\ESTsoft\\CreatorTemp\\ipykernel_14516\\1980643083.py:49: DeprecationWarning: The 'text' argument to find()-type methods is deprecated. Use 'string' instead.\n",
      "  \"summary\": summary.find(text=True).strip(' \\t\\n\\r'),\n"
     ]
    },
    {
     "name": "stdout",
     "output_type": "stream",
     "text": [
      "1번째 문서 ----------------------------------------------------------------------------------------------------\n",
      "내용: 셀바스AI가 571억 규모의 유상증자에 성공했다.셀바스AI는 지난 21일부터 22일가지 기존 주주들을 대상으로 진행한 유상증자 청약률이 100.8%를 기록했다고 23일 밝혔다.발행 예정 주식수는 400만주로 총 571억원 규모이다. 이에 따라 26일부터 27일까지 진행 예정이었던 일반공모는 실시되지 않는다. 신주 상장 예정일은 7월 12일이다.셀바스AI는 이번 유상증자가 지난 4월 발표한 AI(인공지능)의료, 교육,  메타로빌리티(메타버스, 로봇, 모빌리티) 등 신사업 확대를 위해서라고 설명했다. 셀바스AI는 각 분야별 디지털 전환은 물론 경영 혁신을 지원한다는 계획이다.세부적으로 셀바스AI는 셀비 체크업, 셀비 메디보이스 등 제품을 통해 AI의료 사업을 본격 확대하고 있다. 올해부터는 군 이동형 원격의료도 본격화될 예정이다. 20225년부터 정부의 AI 디지털교과서 도입 등 인공지능이 교육 산업에도 본격 확대되는 것에 대응해 영어회화 솔루션 '토킹GPT'를 개발 하는 등 인공지능을 여러 분야로 확대시킬 수 있는 준비를 하고 있다.곽민철 셀바스AI 대표는 \"당사의 성장계획을 신뢰하고 증자에 참여해주신 주주들에게 감사하다\"며 \"제시한 비전을 빠르게 실현해 차별화된 성장을 만들어 기업가치 상승과 주주가치 제고에 최선을 다할 것\"이라고 말했다.머니투데이 관련뉴스해당 언론사에서 선정하며 언론사 페이지(아웃링크)로 이동해 볼 수 있습니다.\"예비 형수가 과거 원나잇 상대\"…알려라 vs 참아라'이승기 갈등' 권진영, 마약 혐의 검찰행'케이티♥' 송중기, 애아빠 믿기지 않는 '동안외모'빽가 \"제주 카페하다 인테리어 사업자 등록까지\"엄정화, 팬사인회 도중 눈물 \"콘서트 너무 하고 싶어\"\n",
      "문서에 포함된 종목 코드: []\n",
      "2번째 문서 ----------------------------------------------------------------------------------------------------\n",
      "내용: [서울=뉴시스]우연수 기자 = 셀바스AI가 400만주를 모집하는 주주 배정 유상증자 청약을 완료했다고 23일 공시했다. 청약 대상자인 는 신주인수권증서를 보유한 구주주였으며, 구주주의 청약 주식수는 343만4470주였으며, 총 청약 합계는 403만2159주였다.회사는 \"구주주 초과 청약 후 발생한 단수주 1만6680주는 금융투자협회 증권 인수업무 등에 관한 규정 제9호2항에 따라 일반 공모 청약자에게 배정하지 않고 대표 주관사가 인수한다\"고 설명했다. 뉴시스 관련뉴스해당 언론사에서 선정하며 언론사 페이지(아웃링크)로 이동해 볼 수 있습니다.얼마나 끔찍했을까…\"강간 증거 입에 물고 걸어와\"\"구준엽, 화장실 끌고가 마약 강요\"…서희원 법적대응16세때 성관계 불법촬영…아이돌, 미성년과 충격 영상김봉곤 \"서당사업으로 빚만 26억…'25% 이자'도 써봐\"그리 \"父김구라, 새엄마와 공연보러와…처음으로 인정\"\n",
      "문서에 포함된 종목 코드: []\n",
      "3번째 문서 ----------------------------------------------------------------------------------------------------\n",
      "내용: [서울경제] <유가증권>▲구주주유상청약=KEC(092220) ▲보통주추가상장=남양유업(003920)(유상) 웰바이오텍(010600)(국내CB) <코스닥>▲공모주청약=오픈놀(주관사 하나) ▲구주주유상청약=셀바스AI(108860) ▲실권주청약=대성창투(027830)·셀바스헬스케어(208370)(주관사 KB) ▲보통주추가상장=드래곤플라이(030350)(유상 제3자배정) 폴라리스세원·다산솔루에타·디케이티(국내CB) 지니너스(389030)·바이젠셀(주식매수선택권행사) 나노신소재(121600)(우선주의 보통주전환) ▲주권변경상장=제우스(079370)(주식소각) ▲신규상장=하이제8호스팩(450050) 서울경제 관련뉴스해당 언론사에서 선정하며 언론사 페이지(아웃링크)로 이동해 볼 수 있습니다.멍투성이로 발견된 치매 할머니···경찰이 밝힌 '6시간 미스터리' 전말초식동물이라던 사슴이···뱀을 '질겅질겅' 씹어먹는다고?수학여행 다녀왔더니···구미 고교 학생·교사 85명 코로나 집단 감염대통령도 찾았던 '경주 명물'···십원빵, 법정 가는 사연은가수 최성봉 숨진 채 발견···극단 선택 추정\n",
      "문서에 포함된 종목 코드: ['092220', '003920', '010600', '108860', '027830', '208370', '030350', '389030', '121600', '079370', '450050']\n",
      "4번째 문서 ----------------------------------------------------------------------------------------------------\n",
      "내용: [서울경제] <유가증권>▲구주주유상청약=KEC(092220) ▲보통주추가상장=대양금속(009190)(국내CB) HLB글로벌(003580)(국내BW) ▲신규상장=대신 S&P 2X 천연가스 선물 ETN B(510037) TRUE 레버리지 천연가스 선물 ETN B(570093)<코스닥>▲공모주청약=오픈놀(주관사 하나) 시큐센(신한) 알덱(NH) ▲구주주유상청약=셀바스AI(108860) ▲실권주청약=대성창투(027830)(주관사 KB) ▲보통주추가상장=HLB바이오스텝·DGP·휴메딕스·한일진공(국내CB) 에스바이오메딕스(국내BW) 유일에너테크(340930)·SM C&C·이미지스(주식매수선택권행사) 브릿지바이오테라퓨틱스(288330)(우선주의 보통주전환)서울경제 관련뉴스해당 언론사에서 선정하며 언론사 페이지(아웃링크)로 이동해 볼 수 있습니다.\"결혼하자, 빚 갚아줘\"···자신 좋아하는 男 직장동료 속여 돈 뜯은 30대女브루노 마스 '벽 뷰' 환불 나섰지만···\"2연석 중 한 자리만 받았다\" 왜?바늘구멍 통과하는 '초소형 핸드백'···현미경으로 보니 명품?'해수욕장 알박기' 사라진다···당국이 강제 철거\"침대 누운채 오줌 싸는 남편\" 고민에···\"기저귀 채워라\" \"이혼해라\" 등 조언 잇달아\n",
      "문서에 포함된 종목 코드: ['092220', '009190', '003580', '510037', '570093', '108860', '027830', '340930', '288330']\n",
      "5번째 문서 ----------------------------------------------------------------------------------------------------\n",
      "내용: ◇딥노이드=4억원대 인공지능 데이터 가공·공급 계약 체결.◇핀텔=케이티에서 18억원 규모 사업 수주.◇셀바스AI=유상증자 최종 발행가액 1만4280원으로 확정.◇피제이메탈=51억원 규모 피제이이앤에스 주식 취득 결정.매일경제 관련뉴스해당 언론사에서 선정하며 언론사 페이지(아웃링크)로 이동해 볼 수 있습니다.\"은행도 거부\"...장인어르신이 남긴 1300만원어치 동전, 어찌하오리\"5분간 담배 3대 내리피운다\"…선정성 이어 '줄담배' 논란 제니 드라마\"타보니 부셔버리고 싶다\"…사고픈車 1위 '기아 EV9', 가질 수 없다면 [카슐랭]집 한채 나오자 8000명 몰렸다...미분양 속썩이던 이 동네에 무슨 일이오타니 150홈런-75타점..메이저리그 최단 3위\n",
      "문서에 포함된 종목 코드: []\n"
     ]
    }
   ],
   "source": [
    "if __name__ == \"__main__\":\n",
    "    crawler = NaverFinanceNewsCrawler()\n",
    "    docs = crawler.crawl(query='셀바스AI')\n",
    "    for i, d in enumerate(docs):\n",
    "        print(\"{i}번째 문서\".format(i=i+1), end=\" \" + \"-\" * 50)\n",
    "        print(\"-\" * 50)\n",
    "        print(\"내용: {content}\".format(content=d[\"content\"]))\n",
    "        print(\"문서에 포함된 종목 코드: {codes}\".format(codes=d[\"codes\"]))"
   ]
  },
  {
   "cell_type": "code",
   "execution_count": null,
   "metadata": {},
   "outputs": [],
   "source": []
  },
  {
   "cell_type": "code",
   "execution_count": null,
   "metadata": {},
   "outputs": [],
   "source": []
  },
  {
   "cell_type": "code",
   "execution_count": null,
   "metadata": {},
   "outputs": [],
   "source": []
  }
 ],
 "metadata": {
  "kernelspec": {
   "display_name": "stock_info",
   "language": "python",
   "name": "python3"
  },
  "language_info": {
   "codemirror_mode": {
    "name": "ipython",
    "version": 3
   },
   "file_extension": ".py",
   "mimetype": "text/x-python",
   "name": "python",
   "nbconvert_exporter": "python",
   "pygments_lexer": "ipython3",
   "version": "3.10.4"
  },
  "orig_nbformat": 4
 },
 "nbformat": 4,
 "nbformat_minor": 2
}
