{
 "cells": [
  {
   "cell_type": "code",
   "execution_count": 1,
   "metadata": {},
   "outputs": [],
   "source": [
    "import win32com.client\n",
    "import ctypes"
   ]
  },
  {
   "cell_type": "code",
   "execution_count": 2,
   "metadata": {},
   "outputs": [
    {
     "ename": "com_error",
     "evalue": "(-2147221164, '클래스가 등록되지 않았습니다.', None, None)",
     "output_type": "error",
     "traceback": [
      "\u001b[1;31m---------------------------------------------------------------------------\u001b[0m",
      "\u001b[1;31mcom_error\u001b[0m                                 Traceback (most recent call last)",
      "File \u001b[1;32mc:\\ProgramData\\anaconda3\\envs\\stock\\lib\\site-packages\\win32com\\client\\dynamic.py:86\u001b[0m, in \u001b[0;36m_GetGoodDispatch\u001b[1;34m(IDispatch, clsctx)\u001b[0m\n\u001b[0;32m     85\u001b[0m \u001b[39mtry\u001b[39;00m:\n\u001b[1;32m---> 86\u001b[0m     IDispatch \u001b[39m=\u001b[39m pythoncom\u001b[39m.\u001b[39;49mconnect(IDispatch)\n\u001b[0;32m     87\u001b[0m \u001b[39mexcept\u001b[39;00m pythoncom\u001b[39m.\u001b[39mole_error:\n",
      "\u001b[1;31mcom_error\u001b[0m: (-2147221021, '작업을 사용할 수 없습니다.', None, None)",
      "\nDuring handling of the above exception, another exception occurred:\n",
      "\u001b[1;31mcom_error\u001b[0m                                 Traceback (most recent call last)",
      "Cell \u001b[1;32mIn[2], line 2\u001b[0m\n\u001b[0;32m      1\u001b[0m \u001b[39m# PLUS 공통 OBJECT\u001b[39;00m\n\u001b[1;32m----> 2\u001b[0m g_objCodeMgr \u001b[39m=\u001b[39m win32com\u001b[39m.\u001b[39;49mclient\u001b[39m.\u001b[39;49mDispatch(\u001b[39m'\u001b[39;49m\u001b[39mCpUtil.CpCodeMgr\u001b[39;49m\u001b[39m'\u001b[39;49m)\n\u001b[0;32m      3\u001b[0m g_objCpStatus \u001b[39m=\u001b[39m win32com\u001b[39m.\u001b[39mclient\u001b[39m.\u001b[39mDispatch(\u001b[39m'\u001b[39m\u001b[39mCpUtil.CpCybos\u001b[39m\u001b[39m'\u001b[39m)\n\u001b[0;32m      4\u001b[0m g_objCpTrade \u001b[39m=\u001b[39m win32com\u001b[39m.\u001b[39mclient\u001b[39m.\u001b[39mDispatch(\u001b[39m'\u001b[39m\u001b[39mCpTrade.CpTdUtil\u001b[39m\u001b[39m'\u001b[39m)\n",
      "File \u001b[1;32mc:\\ProgramData\\anaconda3\\envs\\stock\\lib\\site-packages\\win32com\\client\\__init__.py:117\u001b[0m, in \u001b[0;36mDispatch\u001b[1;34m(dispatch, userName, resultCLSID, typeinfo, UnicodeToString, clsctx)\u001b[0m\n\u001b[0;32m    115\u001b[0m \u001b[39m\u001b[39m\u001b[39m\"\"\"Creates a Dispatch based COM object.\"\"\"\u001b[39;00m\n\u001b[0;32m    116\u001b[0m \u001b[39massert\u001b[39;00m UnicodeToString \u001b[39mis\u001b[39;00m \u001b[39mNone\u001b[39;00m, \u001b[39m\"\u001b[39m\u001b[39mthis is deprecated and will go away\u001b[39m\u001b[39m\"\u001b[39m\n\u001b[1;32m--> 117\u001b[0m dispatch, userName \u001b[39m=\u001b[39m dynamic\u001b[39m.\u001b[39;49m_GetGoodDispatchAndUserName(dispatch, userName, clsctx)\n\u001b[0;32m    118\u001b[0m \u001b[39mreturn\u001b[39;00m __WrapDispatch(dispatch, userName, resultCLSID, typeinfo, clsctx\u001b[39m=\u001b[39mclsctx)\n",
      "File \u001b[1;32mc:\\ProgramData\\anaconda3\\envs\\stock\\lib\\site-packages\\win32com\\client\\dynamic.py:106\u001b[0m, in \u001b[0;36m_GetGoodDispatchAndUserName\u001b[1;34m(IDispatch, userName, clsctx)\u001b[0m\n\u001b[0;32m    103\u001b[0m     \u001b[39m## ??? else userName remains None ???\u001b[39;00m\n\u001b[0;32m    104\u001b[0m \u001b[39melse\u001b[39;00m:\n\u001b[0;32m    105\u001b[0m     userName \u001b[39m=\u001b[39m \u001b[39mstr\u001b[39m(userName)\n\u001b[1;32m--> 106\u001b[0m \u001b[39mreturn\u001b[39;00m (_GetGoodDispatch(IDispatch, clsctx), userName)\n",
      "File \u001b[1;32mc:\\ProgramData\\anaconda3\\envs\\stock\\lib\\site-packages\\win32com\\client\\dynamic.py:88\u001b[0m, in \u001b[0;36m_GetGoodDispatch\u001b[1;34m(IDispatch, clsctx)\u001b[0m\n\u001b[0;32m     86\u001b[0m         IDispatch \u001b[39m=\u001b[39m pythoncom\u001b[39m.\u001b[39mconnect(IDispatch)\n\u001b[0;32m     87\u001b[0m     \u001b[39mexcept\u001b[39;00m pythoncom\u001b[39m.\u001b[39mole_error:\n\u001b[1;32m---> 88\u001b[0m         IDispatch \u001b[39m=\u001b[39m pythoncom\u001b[39m.\u001b[39;49mCoCreateInstance(\n\u001b[0;32m     89\u001b[0m             IDispatch, \u001b[39mNone\u001b[39;49;00m, clsctx, pythoncom\u001b[39m.\u001b[39;49mIID_IDispatch\n\u001b[0;32m     90\u001b[0m         )\n\u001b[0;32m     91\u001b[0m \u001b[39melse\u001b[39;00m:\n\u001b[0;32m     92\u001b[0m     \u001b[39m# may already be a wrapped class.\u001b[39;00m\n\u001b[0;32m     93\u001b[0m     IDispatch \u001b[39m=\u001b[39m \u001b[39mgetattr\u001b[39m(IDispatch, \u001b[39m\"\u001b[39m\u001b[39m_oleobj_\u001b[39m\u001b[39m\"\u001b[39m, IDispatch)\n",
      "\u001b[1;31mcom_error\u001b[0m: (-2147221164, '클래스가 등록되지 않았습니다.', None, None)"
     ]
    }
   ],
   "source": [
    "# PLUS 공통 OBJECT\n",
    "g_objCodeMgr = win32com.client.Dispatch('CpUtil.CpCodeMgr')\n",
    "g_objCpStatus = win32com.client.Dispatch('CpUtil.CpCybos')\n",
    "g_objCpTrade = win32com.client.Dispatch('CpTrade.CpTdUtil')"
   ]
  },
  {
   "cell_type": "code",
   "execution_count": null,
   "metadata": {},
   "outputs": [],
   "source": [
    "# PLUS 실행 기본 체크 함수\n",
    "def InitPlusCheck():\n",
    "    # 프로세스가 관리자 권한으로 실행 여부\n",
    "    if ctypes.windll.shell32.IsUserAnAdmin():\n",
    "        print('정상: 관리자권한으로 실행된 프로세스입니다.')\n",
    "    else:\n",
    "        print('오류: 일반권한으로 실행됨. 관리자 권한으로 실행해 주세요')\n",
    "        return False\n",
    "\n",
    "    # 연결 여부 체크\n",
    "    if (g_objCpStatus.IsConnect == 0):\n",
    "        print(\"PLUS가 정상적으로 연결되지 않음. \")\n",
    "        return False\n",
    "\n",
    "    # # 주문 관련 초기화 - 계좌 관련 코드가 있을 때만 사용\n",
    "    # if (g_objCpTrade.TradeInit(0) != 0):\n",
    "    #     pr\"주문 초기화 실패\")\n",
    "    #     return False\n",
    "\n",
    "    return True"
   ]
  },
  {
   "cell_type": "code",
   "execution_count": null,
   "metadata": {},
   "outputs": [],
   "source": [
    "class Cp7221:\n",
    "    def __init__(self):\n",
    "        self.objRq = win32com.client.Dispatch(\"CpSysDib.CpSvrNew7221\")\n",
    "        self.InvestIndex = {\n",
    "            0: '거래소주식',\n",
    "            1: '코스닥주식',\n",
    "            2: '선물',\n",
    "            3: '옵션콜',\n",
    "            4: '옵션풋',\n",
    "            5: '주식콜',\n",
    "            6: '주식풋',\n",
    "            7: '스타지수선물',\n",
    "            8: '주식선물',\n",
    "            9: '채권선물 3년국채(오픈예정)',\n",
    "            10: '채권선물 5년국채(오픈예정)',\n",
    "            11: '채권선물 10년국체(오픈예정)',\n",
    "            12: '금리선물 CD(오픈예정)',\n",
    "            13: '금리선물통안증권(오픈예정)',\n",
    "            14: '통화선물미국달러(오픈예정)',\n",
    "            15: '통화선물엔(오픈예정)',\n",
    "            16: '통화선물유로(오픈예정)',\n",
    "            17: '금속상품선물금(오픈예정)',\n",
    "            18: '농산물파생선물돈육(오픈예정)',\n",
    "            19: '통화콜옵션미국달러(오픈예정)',\n",
    "            20: '통화풋옵션미국달러(오픈예정)',\n",
    "            21: 'CME선물',\n",
    "            22: '미니금선물'\n",
    "        }\n",
    "\n",
    "    def Request(self):\n",
    "        self.objRq.SetInputValue(0, ord('1'))  # 옵션금액 선물계약\n",
    "        self.objRq.BlockRequest()\n",
    "\n",
    "        # 통신 및 통신 에러 처리\n",
    "        rqStatus = self.objRq.GetDibStatus()\n",
    "        print(\"통신상태\", rqStatus, self.objRq.GetDibMsg1())\n",
    "        if rqStatus != 0:\n",
    "            return False\n",
    "\n",
    "        cnt =  self.objRq.GetHeaderValue(1)\n",
    "        for key, value in self.InvestIndex.items():\n",
    "            dicInvest = {}\n",
    "            dicInvest['개인매도'] = self.objRq.GetDataValue(0, key)\n",
    "            dicInvest['개인매수'] = self.objRq.GetDataValue(1, key)\n",
    "            dicInvest['개인순매수'] = self.objRq.GetDataValue(2, key)\n",
    "            dicInvest['외국인매도'] = self.objRq.GetDataValue(3, key)\n",
    "            dicInvest['외국인매수'] = self.objRq.GetDataValue(4, key)\n",
    "            dicInvest['외국인순매수'] = self.objRq.GetDataValue(5, key) \n",
    "            dicInvest['기관매도'] = self.objRq.GetDataValue(6, key)\n",
    "            dicInvest['기관매수'] = self.objRq.GetDataValue(7, key)\n",
    "            dicInvest['기관순매수'] = self.objRq.GetDataValue(8, key)\n",
    "\n",
    "            print(value)\n",
    "            print(dicInvest)"
   ]
  },
  {
   "cell_type": "code",
   "execution_count": null,
   "metadata": {},
   "outputs": [],
   "source": []
  },
  {
   "cell_type": "code",
   "execution_count": null,
   "metadata": {},
   "outputs": [],
   "source": []
  }
 ],
 "metadata": {
  "kernelspec": {
   "display_name": "stock",
   "language": "python",
   "name": "python3"
  },
  "language_info": {
   "codemirror_mode": {
    "name": "ipython",
    "version": 3
   },
   "file_extension": ".py",
   "mimetype": "text/x-python",
   "name": "python",
   "nbconvert_exporter": "python",
   "pygments_lexer": "ipython3",
   "version": "3.10.11"
  },
  "orig_nbformat": 4
 },
 "nbformat": 4,
 "nbformat_minor": 2
}
