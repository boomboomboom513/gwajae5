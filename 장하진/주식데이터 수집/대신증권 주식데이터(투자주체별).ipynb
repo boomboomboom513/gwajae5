{
 "cells": [
  {
   "cell_type": "code",
   "execution_count": 1,
   "metadata": {},
   "outputs": [],
   "source": [
    "import win32com.client\n",
    "import pandas as pd\n",
    "import numpy as np\n",
    "import datetime as dt\n",
    "import time\n",
    "from tqdm import tqdm"
   ]
  },
  {
   "cell_type": "code",
   "execution_count": 2,
   "metadata": {},
   "outputs": [],
   "source": [
    "instCpCybos = win32com.client.Dispatch('CpUtil.CpCybos')\n",
    "instCpStockCode = win32com.client.Dispatch(\"CpUtil.CpStockCode\")\n",
    "instStockChart = win32com.client.Dispatch('CpSysDib.CpSvr7254')"
   ]
  },
  {
   "cell_type": "code",
   "execution_count": 3,
   "metadata": {},
   "outputs": [],
   "source": [
    "# 대신증권 API 연결 확인. 1 출력시 연결 성공, 0 출력시 연결 실패\n",
    "def connectCheck():\n",
    "    print('[시스템]:증권사 연결 시도 중')\n",
    "    if(instCpCybos.IsConnect == 1):\n",
    "        print('[시스템]:증권사 연결 완료!')"
   ]
  },
  {
   "cell_type": "code",
   "execution_count": 4,
   "metadata": {},
   "outputs": [],
   "source": [
    "# 증권시장에서 상장되어 있는 종목의 갯수 출력 -> 새로운 종목이 상장되거나 폐지됨에 따라 값이 달라진다.\n",
    "def canTradeStockCount():\n",
    "    print('[시스템]:거래 가능한 종목 개수 : '+str(instCpStockCode.GetCount())+'개 체크')"
   ]
  },
  {
   "attachments": {},
   "cell_type": "markdown",
   "metadata": {},
   "source": [
    "## 데이터 수집"
   ]
  },
  {
   "cell_type": "code",
   "execution_count": 5,
   "metadata": {},
   "outputs": [],
   "source": [
    "# 대신증권 기준으로 정렬된 상장된(주식거래가 가능한) 종목을 전부 가져오기\n",
    "def getStockNameCode():\n",
    "    print('[시스템]:거래 가능한 종목 리스트 목록 가져오는 중')\n",
    "    code = [] # 종목코드\n",
    "    name = [] # 종목명\n",
    "\n",
    "    for i in range(0, instCpStockCode.GetCount()):\n",
    "        code.append(instCpStockCode.GetData(0, i))\n",
    "        name.append(instCpStockCode.GetData(1, i))\n",
    "\n",
    "    codeNameList = pd.DataFrame({\n",
    "        '종목코드':code\n",
    "        , '종목명':name\n",
    "    })\n",
    "    # codeNameList\n",
    "    if(len(codeNameList) == 0):\n",
    "        print('[시스템]:거래 가능한 종목 리스트 목록 가져온 개수 : '+str(len(codeNameList))+'개')\n",
    "        print('[시스템]:거래 가능한 종목 리스트 목록 가져오기에 문제가 발생하였습니다.')\n",
    "    else:\n",
    "        print('[시스템]:거래 가능한 종목 리스트 목록 가져오기 완료!')\n",
    "\n",
    "    return codeNameList"
   ]
  },
  {
   "cell_type": "code",
   "execution_count": 6,
   "metadata": {},
   "outputs": [],
   "source": [
    "def jongmokSerach(jongmokSearchList, codeNameList):\n",
    "    code = []\n",
    "    name = []\n",
    "    for names in jongmokSearchList:\n",
    "        code.append(codeNameList[codeNameList['종목명'] == names]['종목코드'].iloc[0])\n",
    "        name.append(codeNameList[codeNameList['종목명'] == names]['종목명'].iloc[0])\n",
    "\n",
    "    selCodeNameList = pd.DataFrame({\n",
    "        '종목코드':code\n",
    "        , '종목명':name\n",
    "    })\n",
    "    return selCodeNameList"
   ]
  },
  {
   "cell_type": "code",
   "execution_count": 7,
   "metadata": {},
   "outputs": [],
   "source": [
    "def getjusik(jusikCode, jusikName, start, end):\n",
    "    pdListed = []\n",
    "\n",
    "    instStockChart.SetInputValue(0, jusikCode)\n",
    "    instStockChart.SetInputValue(1, 0)\n",
    "    instStockChart.SetInputValue(2, start)\n",
    "    instStockChart.SetInputValue(3, end)\n",
    "    instStockChart.SetInputValue(4, ord('0'))\n",
    "    instStockChart.SetInputValue(5, 0)\n",
    "    instStockChart.SetInputValue(6, ord('1'))\n",
    "\n",
    "    instStockChart.BlockRequest()\n",
    "\n",
    "    num = instStockChart.GetHeaderValue(1)\n",
    "                                                            \n",
    "    for i in range(num):\n",
    "        Listed = {}\n",
    "        Listed['종목코드'] = jusikCode                             # 종목코드\n",
    "        Listed['종목명'] = jusikName                               # 종목명\n",
    "        Listed['날짜'] = instStockChart.GetDataValue(0, i)        # 날짜\n",
    "        Listed['개인'] = instStockChart.GetDataValue(1, i)        # 개인\n",
    "        Listed['외국인'] = instStockChart.GetDataValue(2, i)      # 외국인\n",
    "        Listed['기관계'] = instStockChart.GetDataValue(3, i)      # 기관계\n",
    "        Listed['금융투자'] = instStockChart.GetDataValue(4, i)    # 금융투자\n",
    "        Listed['보험'] = instStockChart.GetDataValue(5, i)        # 보험\n",
    "        Listed['투신'] = instStockChart.GetDataValue(6, i)        # 투신\n",
    "        Listed['은행'] = instStockChart.GetDataValue(7, i)        # 은행\n",
    "        Listed['기타금융'] = instStockChart.GetDataValue(8, i)    # 기타금융\n",
    "        Listed['연기금'] = instStockChart.GetDataValue(9, i)      # 연기금\n",
    "        Listed['기타법인'] = instStockChart.GetDataValue(10, i)   # 기타법인\n",
    "        Listed['기타외인'] = instStockChart.GetDataValue(11, i)   # 기타외인\n",
    "        Listed['사모펀드'] = instStockChart.GetDataValue(12, i)   # 사모펀드\n",
    "\n",
    "        pdListed.append(Listed)\n",
    "\n",
    "    dataDf = pd.DataFrame(pdListed)\n",
    "    return dataDf"
   ]
  },
  {
   "cell_type": "code",
   "execution_count": 8,
   "metadata": {},
   "outputs": [],
   "source": [
    "def aaa(stockNameList):\n",
    "    return pd.read_csv('../주식데이터 수집/'+stockNameList[0]+' 주식 데이터(투자주체별).csv', encoding='euc-kr')"
   ]
  },
  {
   "cell_type": "code",
   "execution_count": 9,
   "metadata": {},
   "outputs": [],
   "source": [
    "# 수신 받은 주식데이터(투자주체별) 정렬하기\n",
    "def reverse(stockNameList):\n",
    "    print('[시스템]:수신받은 데이터 날짜, 시간순으로 정렬 작업중')\n",
    "    for i in range(len(stockNameList)):\n",
    "        data1 = pd.read_csv('./stockdata/'+stockNameList[i]+' 주식 데이터(투자주체별).csv', encoding='euc-kr')\n",
    "\n",
    "        data1.sort_values(['날짜'], inplace=True)\n",
    "        data1.reset_index(inplace=True)\n",
    "        data1.drop('index', axis=1, inplace=True)\n",
    "        data1.to_csv('../주식데이터 수집/'+stockNameList[i]+' 주식 데이터(투자주체별).csv', encoding='euc-kr', index=False)\n",
    "    print('[시스템]:정렬 완료!')"
   ]
  },
  {
   "cell_type": "code",
   "execution_count": 10,
   "metadata": {},
   "outputs": [
    {
     "name": "stdout",
     "output_type": "stream",
     "text": [
      "[시스템]:증권사 연결 시도 중\n",
      "[시스템]:증권사 연결 완료!\n",
      "[시스템]:거래 가능한 종목 개수 : 3967개 체크\n",
      "[시스템]:거래 가능한 종목 리스트 목록 가져오는 중\n",
      "[시스템]:거래 가능한 종목 리스트 목록 가져오기 완료!\n",
      "[시스템]:20190101 ~ 20230623 사이에 거래된 셀바스AI 종목 주가 데이터(투자주체별) 가져오는 중\n"
     ]
    },
    {
     "name": "stderr",
     "output_type": "stream",
     "text": [
      "100%|██████████| 817/817 [04:26<00:00,  3.06it/s]\n"
     ]
    },
    {
     "name": "stdout",
     "output_type": "stream",
     "text": [
      "[시스템]:셀바스AI 종목의 주식 데이터(투자주체별) 요청 수신성공 및 csv로 저장 성공!\n",
      "[시스템]:20190101 ~ 20230623 사이에 거래된 투비소프트 종목 주가 데이터(투자주체별) 가져오는 중\n"
     ]
    },
    {
     "name": "stderr",
     "output_type": "stream",
     "text": [
      "100%|██████████| 817/817 [04:21<00:00,  3.12it/s]\n"
     ]
    },
    {
     "name": "stdout",
     "output_type": "stream",
     "text": [
      "[시스템]:투비소프트 종목의 주식 데이터(투자주체별) 요청 수신성공 및 csv로 저장 성공!\n",
      "[시스템]:20190101 ~ 20230623 사이에 거래된 플리토 종목 주가 데이터(투자주체별) 가져오는 중\n"
     ]
    },
    {
     "name": "stderr",
     "output_type": "stream",
     "text": [
      " 49%|████▊     | 398/817 [02:33<02:41,  2.60it/s]\n"
     ]
    },
    {
     "ename": "KeyboardInterrupt",
     "evalue": "",
     "output_type": "error",
     "traceback": [
      "\u001b[1;31m---------------------------------------------------------------------------\u001b[0m",
      "\u001b[1;31mKeyboardInterrupt\u001b[0m                         Traceback (most recent call last)",
      "Cell \u001b[1;32mIn[10], line 20\u001b[0m\n\u001b[0;32m     18\u001b[0m     result \u001b[39m=\u001b[39m getjusik(selCodeNameList[\u001b[39m'\u001b[39m\u001b[39m종목코드\u001b[39m\u001b[39m'\u001b[39m]\u001b[39m.\u001b[39miloc[j], selCodeNameList[\u001b[39m'\u001b[39m\u001b[39m종목명\u001b[39m\u001b[39m'\u001b[39m]\u001b[39m.\u001b[39miloc[j], c\u001b[39m.\u001b[39mstrftime(\u001b[39m'\u001b[39m\u001b[39m%\u001b[39m\u001b[39mY\u001b[39m\u001b[39m%\u001b[39m\u001b[39mm\u001b[39m\u001b[39m%d\u001b[39;00m\u001b[39m'\u001b[39m), d\u001b[39m.\u001b[39mstrftime(\u001b[39m'\u001b[39m\u001b[39m%\u001b[39m\u001b[39mY\u001b[39m\u001b[39m%\u001b[39m\u001b[39mm\u001b[39m\u001b[39m%d\u001b[39;00m\u001b[39m'\u001b[39m))\n\u001b[0;32m     19\u001b[0m     frame\u001b[39m.\u001b[39mappend(result)\n\u001b[1;32m---> 20\u001b[0m     time\u001b[39m.\u001b[39;49msleep(\u001b[39m0.3\u001b[39;49m)\n\u001b[0;32m     21\u001b[0m hapdata \u001b[39m=\u001b[39m pd\u001b[39m.\u001b[39mconcat(frame)\n\u001b[0;32m     22\u001b[0m hapdata\u001b[39m.\u001b[39mto_csv(\u001b[39m'\u001b[39m\u001b[39m../주식데이터 수집/\u001b[39m\u001b[39m'\u001b[39m\u001b[39m+\u001b[39mselCodeNameList[\u001b[39m'\u001b[39m\u001b[39m종목명\u001b[39m\u001b[39m'\u001b[39m]\u001b[39m.\u001b[39miloc[j]\u001b[39m+\u001b[39m\u001b[39m'\u001b[39m\u001b[39m 주식 데이터(투자주체별).csv\u001b[39m\u001b[39m'\u001b[39m, encoding\u001b[39m=\u001b[39m\u001b[39m'\u001b[39m\u001b[39meuc-kr\u001b[39m\u001b[39m'\u001b[39m, index\u001b[39m=\u001b[39m\u001b[39mFalse\u001b[39;00m)\n",
      "\u001b[1;31mKeyboardInterrupt\u001b[0m: "
     ]
    }
   ],
   "source": [
    "stockNameList = ['셀바스AI', '투비소프트', '플리토', '뷰노', '알체라'] # 이곳에 수신 받고 싶은 종목 이름을 정확히 입력해주세요. 여러개 가능.\n",
    "\n",
    "connectCheck()\n",
    "canTradeStockCount()\n",
    "codeNameList = getStockNameCode()\n",
    "selCodeNameList = jongmokSerach(stockNameList, codeNameList)\n",
    "\n",
    "a = dt.datetime(2019,1,1) # 수신 받고 싶은 원하는 시작 날짜를 입력하세요.\n",
    "b = dt.datetime(2023,6,23) # 수신 받고 싶은 원하는 종료 날짜를 입력하세요.\n",
    "number = b-a\n",
    "\n",
    "for j in range(0, selCodeNameList.shape[0]):\n",
    "    print('[시스템]:'+str(a.strftime('%Y%m%d'))+' ~ '+str(b.strftime('%Y%m%d'))+' 사이에 거래된 '+str(selCodeNameList['종목명'].iloc[j])+' 종목 주가 데이터(투자주체별) 가져오는 중')\n",
    "    frame = []\n",
    "    for i in tqdm(range(0, number.days, 2)):\n",
    "        c = a + dt.timedelta(days=i)\n",
    "        d = a + dt.timedelta(days=i+1)\n",
    "        result = getjusik(selCodeNameList['종목코드'].iloc[j], selCodeNameList['종목명'].iloc[j], c.strftime('%Y%m%d'), d.strftime('%Y%m%d'))\n",
    "        frame.append(result)\n",
    "        time.sleep(0.3)\n",
    "    hapdata = pd.concat(frame)\n",
    "    hapdata.to_csv('../주식데이터 수집/'+selCodeNameList['종목명'].iloc[j]+' 주식 데이터(투자주체별).csv', encoding='euc-kr', index=False)\n",
    "    print('[시스템]:'+selCodeNameList['종목명'].iloc[j]+' 종목의 주식 데이터(투자주체별) 요청 수신성공 및 csv로 저장 성공!')\n",
    "\n",
    "reverse(stockNameList)\n",
    "print('[시스템]:수신요청 종료')\n",
    "aaa(stockNameList)"
   ]
  }
 ],
 "metadata": {
  "kernelspec": {
   "display_name": "dl-dev-gpu",
   "language": "python",
   "name": "python3"
  },
  "language_info": {
   "codemirror_mode": {
    "name": "ipython",
    "version": 3
   },
   "file_extension": ".py",
   "mimetype": "text/x-python",
   "name": "python",
   "nbconvert_exporter": "python",
   "pygments_lexer": "ipython3",
   "version": "3.10.4"
  },
  "orig_nbformat": 4
 },
 "nbformat": 4,
 "nbformat_minor": 2
}
