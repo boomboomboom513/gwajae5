{
 "cells": [
  {
   "cell_type": "code",
   "execution_count": 2,
   "metadata": {},
   "outputs": [],
   "source": [
    "# mariaDB connect\n",
    "import mysql.connector\n",
    "from datetime import datetime\n",
    "import time\n",
    "import schedule"
   ]
  },
  {
   "cell_type": "code",
   "execution_count": 3,
   "metadata": {},
   "outputs": [],
   "source": [
    "# MariaDB 연결 정보\n",
    "db_confing = {\n",
    "      'user':'backhotion'\n",
    "    , 'password':'Qorgh779021!@'\n",
    "    , 'host':'34.64.132.180'\n",
    "    , 'database':'big16'\n",
    "}"
   ]
  },
  {
   "cell_type": "code",
   "execution_count": 4,
   "metadata": {},
   "outputs": [],
   "source": [
    "# GCP Cloud SQL 연결정보\n",
    "cloud_sql_config = {\n",
    "      'unix_socket':'/cloudsql/{}'.format(db_confing['user'])\n",
    "    , 'user':'{}'.format(db_confing['user'])\n",
    "    , 'password':'{}'.format(db_confing['password'])\n",
    "    , 'database':'{}'.format(db_confing['database'])\n",
    "    , 'ssl':False\n",
    "    , 'sslmode':'require'\n",
    "}"
   ]
  },
  {
   "cell_type": "code",
   "execution_count": 5,
   "metadata": {},
   "outputs": [
    {
     "ename": "ProgrammingError",
     "evalue": "1045 (28000): Access denied for user 'backhotion'@'175.197.255.92' (using password: YES)",
     "output_type": "error",
     "traceback": [
      "\u001b[1;31m---------------------------------------------------------------------------\u001b[0m",
      "\u001b[1;31mProgrammingError\u001b[0m                          Traceback (most recent call last)",
      "Cell \u001b[1;32mIn[5], line 2\u001b[0m\n\u001b[0;32m      1\u001b[0m \u001b[39m# MariaDB 연결\u001b[39;00m\n\u001b[1;32m----> 2\u001b[0m db_conn \u001b[39m=\u001b[39m mysql\u001b[39m.\u001b[39mconnector\u001b[39m.\u001b[39mconnect(\u001b[39m*\u001b[39m\u001b[39m*\u001b[39mdb_confing)\n\u001b[0;32m      3\u001b[0m db_cursor \u001b[39m=\u001b[39m db_conn\u001b[39m.\u001b[39mcursor()\n",
      "File \u001b[1;32mc:\\Users\\USER\\anaconda3\\envs\\stock_anal\\lib\\site-packages\\mysql\\connector\\pooling.py:294\u001b[0m, in \u001b[0;36mconnect\u001b[1;34m(*args, **kwargs)\u001b[0m\n\u001b[0;32m    292\u001b[0m \u001b[39mif\u001b[39;00m CMySQLConnection \u001b[39mand\u001b[39;00m \u001b[39mnot\u001b[39;00m use_pure:\n\u001b[0;32m    293\u001b[0m     \u001b[39mreturn\u001b[39;00m CMySQLConnection(\u001b[39m*\u001b[39margs, \u001b[39m*\u001b[39m\u001b[39m*\u001b[39mkwargs)\n\u001b[1;32m--> 294\u001b[0m \u001b[39mreturn\u001b[39;00m MySQLConnection(\u001b[39m*\u001b[39margs, \u001b[39m*\u001b[39m\u001b[39m*\u001b[39mkwargs)\n",
      "File \u001b[1;32mc:\\Users\\USER\\anaconda3\\envs\\stock_anal\\lib\\site-packages\\mysql\\connector\\connection.py:164\u001b[0m, in \u001b[0;36mMySQLConnection.__init__\u001b[1;34m(self, **kwargs)\u001b[0m\n\u001b[0;32m    162\u001b[0m \u001b[39mif\u001b[39;00m kwargs:\n\u001b[0;32m    163\u001b[0m     \u001b[39mtry\u001b[39;00m:\n\u001b[1;32m--> 164\u001b[0m         \u001b[39mself\u001b[39m\u001b[39m.\u001b[39mconnect(\u001b[39m*\u001b[39m\u001b[39m*\u001b[39mkwargs)\n\u001b[0;32m    165\u001b[0m     \u001b[39mexcept\u001b[39;00m \u001b[39mException\u001b[39;00m:\n\u001b[0;32m    166\u001b[0m         \u001b[39m# Tidy-up underlying socket on failure\u001b[39;00m\n\u001b[0;32m    167\u001b[0m         \u001b[39mself\u001b[39m\u001b[39m.\u001b[39mclose()\n",
      "File \u001b[1;32mc:\\Users\\USER\\anaconda3\\envs\\stock_anal\\lib\\site-packages\\mysql\\connector\\abstracts.py:1181\u001b[0m, in \u001b[0;36mMySQLConnectionAbstract.connect\u001b[1;34m(self, **kwargs)\u001b[0m\n\u001b[0;32m   1178\u001b[0m     \u001b[39mself\u001b[39m\u001b[39m.\u001b[39mconfig(\u001b[39m*\u001b[39m\u001b[39m*\u001b[39mkwargs)\n\u001b[0;32m   1180\u001b[0m \u001b[39mself\u001b[39m\u001b[39m.\u001b[39mdisconnect()\n\u001b[1;32m-> 1181\u001b[0m \u001b[39mself\u001b[39;49m\u001b[39m.\u001b[39;49m_open_connection()\n\u001b[0;32m   1182\u001b[0m \u001b[39m# Server does not allow to run any other statement different from ALTER\u001b[39;00m\n\u001b[0;32m   1183\u001b[0m \u001b[39m# when user's password has been expired.\u001b[39;00m\n\u001b[0;32m   1184\u001b[0m \u001b[39mif\u001b[39;00m \u001b[39mnot\u001b[39;00m \u001b[39mself\u001b[39m\u001b[39m.\u001b[39m_client_flags \u001b[39m&\u001b[39m ClientFlag\u001b[39m.\u001b[39mCAN_HANDLE_EXPIRED_PASSWORDS:\n",
      "File \u001b[1;32mc:\\Users\\USER\\anaconda3\\envs\\stock_anal\\lib\\site-packages\\mysql\\connector\\connection.py:572\u001b[0m, in \u001b[0;36mMySQLConnection._open_connection\u001b[1;34m(self)\u001b[0m\n\u001b[0;32m    570\u001b[0m \u001b[39mself\u001b[39m\u001b[39m.\u001b[39m_socket\u001b[39m.\u001b[39mopen_connection()\n\u001b[0;32m    571\u001b[0m \u001b[39mself\u001b[39m\u001b[39m.\u001b[39m_do_handshake()\n\u001b[1;32m--> 572\u001b[0m \u001b[39mself\u001b[39;49m\u001b[39m.\u001b[39;49m_do_auth(\n\u001b[0;32m    573\u001b[0m     \u001b[39mself\u001b[39;49m\u001b[39m.\u001b[39;49m_user,\n\u001b[0;32m    574\u001b[0m     \u001b[39mself\u001b[39;49m\u001b[39m.\u001b[39;49m_password,\n\u001b[0;32m    575\u001b[0m     \u001b[39mself\u001b[39;49m\u001b[39m.\u001b[39;49m_database,\n\u001b[0;32m    576\u001b[0m     \u001b[39mself\u001b[39;49m\u001b[39m.\u001b[39;49m_client_flags,\n\u001b[0;32m    577\u001b[0m     \u001b[39mself\u001b[39;49m\u001b[39m.\u001b[39;49m_charset_id,\n\u001b[0;32m    578\u001b[0m     \u001b[39mself\u001b[39;49m\u001b[39m.\u001b[39;49m_ssl,\n\u001b[0;32m    579\u001b[0m     \u001b[39mself\u001b[39;49m\u001b[39m.\u001b[39;49m_conn_attrs,\n\u001b[0;32m    580\u001b[0m )\n\u001b[0;32m    581\u001b[0m \u001b[39mself\u001b[39m\u001b[39m.\u001b[39mset_converter_class(\u001b[39mself\u001b[39m\u001b[39m.\u001b[39m_converter_class)\n\u001b[0;32m    582\u001b[0m \u001b[39mif\u001b[39;00m \u001b[39mself\u001b[39m\u001b[39m.\u001b[39m_client_flags \u001b[39m&\u001b[39m ClientFlag\u001b[39m.\u001b[39mCOMPRESS:\n",
      "File \u001b[1;32mc:\\Users\\USER\\anaconda3\\envs\\stock_anal\\lib\\site-packages\\mysql\\connector\\connection.py:309\u001b[0m, in \u001b[0;36mMySQLConnection._do_auth\u001b[1;34m(self, username, password, database, client_flags, charset, ssl_options, conn_attrs)\u001b[0m\n\u001b[0;32m    296\u001b[0m packet \u001b[39m=\u001b[39m \u001b[39mself\u001b[39m\u001b[39m.\u001b[39m_protocol\u001b[39m.\u001b[39mmake_auth(\n\u001b[0;32m    297\u001b[0m     handshake\u001b[39m=\u001b[39m\u001b[39mself\u001b[39m\u001b[39m.\u001b[39m_handshake,\n\u001b[0;32m    298\u001b[0m     username\u001b[39m=\u001b[39musername,\n\u001b[1;32m   (...)\u001b[0m\n\u001b[0;32m    306\u001b[0m     auth_plugin_class\u001b[39m=\u001b[39m\u001b[39mself\u001b[39m\u001b[39m.\u001b[39m_auth_plugin_class,\n\u001b[0;32m    307\u001b[0m )\n\u001b[0;32m    308\u001b[0m \u001b[39mself\u001b[39m\u001b[39m.\u001b[39m_socket\u001b[39m.\u001b[39msend(packet)\n\u001b[1;32m--> 309\u001b[0m \u001b[39mself\u001b[39;49m\u001b[39m.\u001b[39;49m_auth_switch_request(username, password)\n\u001b[0;32m    311\u001b[0m \u001b[39mif\u001b[39;00m \u001b[39mnot\u001b[39;00m (client_flags \u001b[39m&\u001b[39m ClientFlag\u001b[39m.\u001b[39mCONNECT_WITH_DB) \u001b[39mand\u001b[39;00m database:\n\u001b[0;32m    312\u001b[0m     \u001b[39mself\u001b[39m\u001b[39m.\u001b[39mcmd_init_db(database)\n",
      "File \u001b[1;32mc:\\Users\\USER\\anaconda3\\envs\\stock_anal\\lib\\site-packages\\mysql\\connector\\connection.py:366\u001b[0m, in \u001b[0;36mMySQLConnection._auth_switch_request\u001b[1;34m(self, username, password)\u001b[0m\n\u001b[0;32m    364\u001b[0m     \u001b[39mreturn\u001b[39;00m \u001b[39mself\u001b[39m\u001b[39m.\u001b[39m_handle_mfa(packet)\n\u001b[0;32m    365\u001b[0m \u001b[39mif\u001b[39;00m packet[\u001b[39m4\u001b[39m] \u001b[39m==\u001b[39m \u001b[39m255\u001b[39m:\n\u001b[1;32m--> 366\u001b[0m     \u001b[39mraise\u001b[39;00m get_exception(packet)\n\u001b[0;32m    367\u001b[0m \u001b[39mreturn\u001b[39;00m \u001b[39mNone\u001b[39;00m\n",
      "\u001b[1;31mProgrammingError\u001b[0m: 1045 (28000): Access denied for user 'backhotion'@'175.197.255.92' (using password: YES)"
     ]
    }
   ],
   "source": [
    "# MariaDB 연결\n",
    "db_conn = mysql.connector.connect(**db_confing)\n",
    "db_cursor = db_conn.cursor()"
   ]
  },
  {
   "cell_type": "code",
   "execution_count": 6,
   "metadata": {},
   "outputs": [
    {
     "ename": "KeyboardInterrupt",
     "evalue": "",
     "output_type": "error",
     "traceback": [
      "\u001b[1;31m---------------------------------------------------------------------------\u001b[0m",
      "\u001b[1;31mKeyboardInterrupt\u001b[0m                         Traceback (most recent call last)",
      "Cell \u001b[1;32mIn[6], line 19\u001b[0m\n\u001b[0;32m     17\u001b[0m \u001b[39mwhile\u001b[39;00m \u001b[39mTrue\u001b[39;00m:\n\u001b[0;32m     18\u001b[0m     schedule\u001b[39m.\u001b[39mrun_pending()\n\u001b[1;32m---> 19\u001b[0m     time\u001b[39m.\u001b[39;49msleep(\u001b[39m1\u001b[39;49m)\n",
      "\u001b[1;31mKeyboardInterrupt\u001b[0m: "
     ]
    }
   ],
   "source": [
    "def sava_data_to_db(data):\n",
    "    # 현재시간 구하기\n",
    "    current_time = datetime.now().strftime('%time')\n",
    "    data = \"자동 저장 데이터\"\n",
    "    \n",
    "    #데이터 삽입\n",
    "    sql = \"INSERT INTO data_table(data,timestamp) VALUES(%s, %s)\"\n",
    "    values = (data,current_time)\n",
    "    db_cursor.execute(sql, values)\n",
    "    db_conn.commit()\n",
    "    print(\"데이터 저장 완료\")\n",
    "\n",
    "#10초마다 save_data_to_db 함수 실행\n",
    "schedule.every(10).seconds.do(sava_data_to_db)\n",
    "\n",
    "# 스케줄링 시작\n",
    "while True:\n",
    "    schedule.run_pending()\n",
    "    time.sleep(1)"
   ]
  },
  {
   "cell_type": "code",
   "execution_count": null,
   "metadata": {},
   "outputs": [],
   "source": [
    "def getConn():\n",
    "    conn = pymysql.connect(host='34.64.141.198', user='root', password='P@ssw0rd6388', db='stockdata')\n",
    "    return conn\n"
   ]
  }
 ],
 "metadata": {
  "kernelspec": {
   "display_name": "stock_info",
   "language": "python",
   "name": "python3"
  },
  "language_info": {
   "codemirror_mode": {
    "name": "ipython",
    "version": 3
   },
   "file_extension": ".py",
   "mimetype": "text/x-python",
   "name": "python",
   "nbconvert_exporter": "python",
   "pygments_lexer": "ipython3",
   "version": "3.10.4"
  },
  "orig_nbformat": 4
 },
 "nbformat": 4,
 "nbformat_minor": 2
}
