{
 "cells": [
  {
   "cell_type": "code",
   "execution_count": 1,
   "metadata": {},
   "outputs": [],
   "source": [
    "import win32com.client\n",
    "import pandas as pd\n",
    "import numpy as np\n",
    "import datetime as dt\n",
    "import time\n",
    "from tqdm import tqdm"
   ]
  },
  {
   "cell_type": "code",
   "execution_count": 2,
   "metadata": {},
   "outputs": [],
   "source": [
    "# 원하는 주식데이터를 가져올 수 있는 대신증권 모듈 선언\n",
    "instCpCybos = win32com.client.Dispatch('CpUtil.CpCybos')\n",
    "instCpStockCode = win32com.client.Dispatch(\"CpUtil.CpStockCode\")\n",
    "StockChart = win32com.client.Dispatch(\"CpSysDib.StockChart\")"
   ]
  },
  {
   "cell_type": "code",
   "execution_count": 3,
   "metadata": {},
   "outputs": [],
   "source": [
    "# 대신증권 API 연결 확인. 1 출력시 연결 성공, 0 출력시 연결 실패\n",
    "def connectCheck():\n",
    "    print('[시스템]:증권사 연결 시도 중')\n",
    "    if(instCpCybos.IsConnect == 1):\n",
    "        print('[시스템]:증권사 연결 완료!')"
   ]
  },
  {
   "cell_type": "code",
   "execution_count": 4,
   "metadata": {},
   "outputs": [],
   "source": [
    "# 증권시장에서 상장되어 있는 종목의 갯수 출력 -> 새로운 종목이 상장되거나 폐지됨에 따라 값이 달라진다.\n",
    "def canTradeStockCount():\n",
    "    print('[시스템]:거래 가능한 종목 개수 : '+str(instCpStockCode.GetCount())+'개 체크')"
   ]
  },
  {
   "cell_type": "code",
   "execution_count": 5,
   "metadata": {},
   "outputs": [],
   "source": [
    "# 0 -> 종목코드 : 요청할 종목의 종목 코드\n",
    "# 1 -> 요청구분 : 1은 기간으로 요청, 2는 갯수로 요청\n",
    "# 2 -> 요청 종료일 : YYYYMMDD 형식\n",
    "# 3 -> 요청 시작일 : YYYYMMDD 형식\n",
    "# 4 -> 요청개수 : 요청할 데이터의 개수\n",
    "# 5 -> 필드 = 0: 날짜, 1:시간, 2:시가, 3: 고가, 4: 저가, 5: 종가, 6: 전일대비, 8: 거래량, 9: 거래대금, 10: 누적체결매도수량\n",
    "#             11: 누적체결매수수량, 12: 상장주식수, 13: 시가총액, 14: 외국인주문한도수량, 15: 외국인주문가능수량, 16: 외국인현보유수량\n",
    "#             17: 외국인현보유비율, 18: 수정주가일자, 19: 수정주가비율, 20: 기관순매수, 21: 기관누적순매수, 22: 등락주선, 23: 등락비율\n",
    "#             24: 예탁금, 25: 주식회전율, 26: 거래성립률, 27: 대비부호\n",
    "# 6 -> 차트 구분 = D: 일, W: 주, m: 분, T: 틱\n",
    "# 9 -> 수정주가 = 0: 무수정주가, 1: 수정주가"
   ]
  },
  {
   "attachments": {},
   "cell_type": "markdown",
   "metadata": {},
   "source": [
    "## 데이터 수집"
   ]
  },
  {
   "cell_type": "code",
   "execution_count": 6,
   "metadata": {},
   "outputs": [],
   "source": [
    "# 대신증권 기준으로 정렬된 상장된(주식거래가 가능한) 종목을 전부 가져오기\n",
    "def getStockNameCode():\n",
    "    print('[시스템]:거래 가능한 종목 리스트 목록 가져오는 중')\n",
    "    code = [] # 종목코드\n",
    "    name = [] # 종목명\n",
    "\n",
    "    for i in range(0, instCpStockCode.GetCount()):\n",
    "        code.append(instCpStockCode.GetData(0, i))\n",
    "        name.append(instCpStockCode.GetData(1, i))\n",
    "\n",
    "    codeNameList = pd.DataFrame({\n",
    "        '종목코드':code\n",
    "        , '종목명':name\n",
    "    })\n",
    "    # codeNameList\n",
    "    if(len(codeNameList) == 0):\n",
    "        print('[시스템]:거래 가능한 종목 리스트 목록 가져온 개수 : '+str(len(codeNameList))+'개')\n",
    "        print('[시스템]:거래 가능한 종목 리스트 목록 가져오기에 문제가 발생하였습니다.')\n",
    "    else:\n",
    "        print('[시스템]:거래 가능한 종목 리스트 목록 가져오기 완료!')\n",
    "\n",
    "    return codeNameList"
   ]
  },
  {
   "cell_type": "code",
   "execution_count": 7,
   "metadata": {},
   "outputs": [],
   "source": [
    "# 원하는 종목코드, 리스트를 새로운 데이터프레임에 저장\n",
    "def jongmokSerach(jongmokSearchList, codeNameList):\n",
    "    code = []\n",
    "    name = []\n",
    "    for names in jongmokSearchList:\n",
    "        code.append(codeNameList[codeNameList['종목명'] == names]['종목코드'].iloc[0])\n",
    "        name.append(codeNameList[codeNameList['종목명'] == names]['종목명'].iloc[0])\n",
    "\n",
    "    selCodeNameList = pd.DataFrame({\n",
    "        '종목코드':code\n",
    "        , '종목명':name\n",
    "    })\n",
    "    return selCodeNameList"
   ]
  },
  {
   "cell_type": "code",
   "execution_count": 8,
   "metadata": {},
   "outputs": [],
   "source": [
    "# 주식 데이터 가져오기\n",
    "def getjusik(jusikCode, jusikName, start, end):\n",
    "    code = [] # 종목코드\n",
    "    name = [] # 종목명\n",
    "    c0 = []   # 날짜\n",
    "    c1 = []   # 시간\n",
    "    c2 = []   # 시가\n",
    "    c3 = []   # 고가\n",
    "    c4 = []   # 저가\n",
    "    c5 = []   # 종가\n",
    "    c8 = []   # 거래량\n",
    "    c9 = []   # 거래대금\n",
    "    c10 = []  # 누적체결매도수량\n",
    "    c11 = []  # 누적체결매수수량\n",
    "\n",
    "    StockChart.SetInputValue(0, jusikCode)\n",
    "    StockChart.SetInputValue(1, ord('1'))\n",
    "    StockChart.SetInputValue(2, end)\n",
    "    StockChart.SetInputValue(3, start)\n",
    "    StockChart.SetInputValue(4, 2000)\n",
    "    StockChart.SetInputValue(5, (0,1,2,3,4,5,8,9,10,11,12,13))\n",
    "    StockChart.SetInputValue(6, ord('m'))\n",
    "    StockChart.SetInputValue(9, ord('1'))\n",
    "\n",
    "    StockChart.BlockRequest()\n",
    "\n",
    "    dataFea = StockChart.GetHeaderValue(2)\n",
    "    numData = StockChart.GetHeaderValue(3)\n",
    "                 \n",
    "    for i in range(numData):\n",
    "        code.append(jusikCode)\n",
    "        name.append(jusikName)\n",
    "        c0.append(str(StockChart.GetDataValue(0, i)))\n",
    "        c1.append(str(StockChart.GetDataValue(1, i)))\n",
    "        c2.append(StockChart.GetDataValue(2, i))\n",
    "        c3.append(StockChart.GetDataValue(3, i))\n",
    "        c4.append(StockChart.GetDataValue(4, i))\n",
    "        c5.append(StockChart.GetDataValue(5, i))\n",
    "        c8.append(StockChart.GetDataValue(8, i))\n",
    "        c9.append(StockChart.GetDataValue(9, i))\n",
    "        c10.append(StockChart.GetDataValue(10, i))\n",
    "        c11.append(StockChart.GetDataValue(11, i))\n",
    "    dataDf = pd.DataFrame()\n",
    "    dataDf['종목코드'] = code\n",
    "    dataDf['종목명'] = name\n",
    "    dataDf['날짜'] = c0\n",
    "    dataDf['시간'] = c1\n",
    "    dataDf['시가'] = c2\n",
    "    dataDf['고가'] = c3\n",
    "    dataDf['저가'] = c4\n",
    "    dataDf['종가'] = c5\n",
    "    dataDf['거래량'] = c8\n",
    "    dataDf['거래대금'] = c9\n",
    "    dataDf['누적체결매도수량'] = c10\n",
    "    dataDf['누적체결매수수량'] = c11\n",
    "\n",
    "    return dataDf"
   ]
  },
  {
   "cell_type": "code",
   "execution_count": 9,
   "metadata": {},
   "outputs": [],
   "source": [
    "# 완성된 csv파일 출력하기\n",
    "def aaa(stockNameList):\n",
    "    return pd.read_csv(''+stockNameList[0]+' 주식 데이터.csv', encoding='euc-kr')"
   ]
  },
  {
   "cell_type": "code",
   "execution_count": 10,
   "metadata": {},
   "outputs": [],
   "source": [
    "# 수신 받은 주식데이터 정렬하기\n",
    "def reverse(stockNameList):\n",
    "    print('[시스템]:수신받은 데이터 날짜, 시간순으로 정렬 작업중')\n",
    "    for i in range(len(stockNameList)):\n",
    "        data1 = pd.read_csv('../주식데이터 수집/'+stockNameList[i]+' 주식 데이터.csv', encoding='euc-kr')\n",
    "\n",
    "        data1.sort_values(['날짜','시간'], inplace=True)\n",
    "        data1.reset_index(inplace=True)\n",
    "        data1.drop('index', axis=1, inplace=True)\n",
    "        data1.to_csv('../주식데이터 수집/'+stockNameList[i]+' 주식 데이터.csv', encoding='euc-kr', index=False)\n",
    "    print('[시스템]:정렬 완료!')"
   ]
  },
  {
   "cell_type": "code",
   "execution_count": 11,
   "metadata": {},
   "outputs": [
    {
     "name": "stdout",
     "output_type": "stream",
     "text": [
      "[시스템]:증권사 연결 시도 중\n",
      "[시스템]:증권사 연결 완료!\n",
      "[시스템]:거래 가능한 종목 개수 : 3967개 체크\n",
      "[시스템]:거래 가능한 종목 리스트 목록 가져오는 중\n",
      "[시스템]:거래 가능한 종목 리스트 목록 가져오기 완료!\n",
      "[시스템]:20190101 ~ 20230626 사이에 거래된 셀바스AI 종목 주가 데이터 가져오는 중\n"
     ]
    },
    {
     "name": "stderr",
     "output_type": "stream",
     "text": [
      " 94%|█████████▍| 772/819 [13:38<00:49,  1.06s/it]    \n"
     ]
    },
    {
     "ename": "KeyboardInterrupt",
     "evalue": "",
     "output_type": "error",
     "traceback": [
      "\u001b[1;31m---------------------------------------------------------------------------\u001b[0m",
      "\u001b[1;31mKeyboardInterrupt\u001b[0m                         Traceback (most recent call last)",
      "Cell \u001b[1;32mIn[11], line 22\u001b[0m\n\u001b[0;32m     20\u001b[0m     data \u001b[39m=\u001b[39m getjusik(selCodeNameList[\u001b[39m'\u001b[39m\u001b[39m종목코드\u001b[39m\u001b[39m'\u001b[39m]\u001b[39m.\u001b[39miloc[j], selCodeNameList[\u001b[39m'\u001b[39m\u001b[39m종목명\u001b[39m\u001b[39m'\u001b[39m]\u001b[39m.\u001b[39miloc[j], c\u001b[39m.\u001b[39mstrftime(\u001b[39m'\u001b[39m\u001b[39m%\u001b[39m\u001b[39mY\u001b[39m\u001b[39m%\u001b[39m\u001b[39mm\u001b[39m\u001b[39m%d\u001b[39;00m\u001b[39m'\u001b[39m), d\u001b[39m.\u001b[39mstrftime(\u001b[39m'\u001b[39m\u001b[39m%\u001b[39m\u001b[39mY\u001b[39m\u001b[39m%\u001b[39m\u001b[39mm\u001b[39m\u001b[39m%d\u001b[39;00m\u001b[39m'\u001b[39m))\n\u001b[0;32m     21\u001b[0m     frame\u001b[39m.\u001b[39mappend(data)\n\u001b[1;32m---> 22\u001b[0m     time\u001b[39m.\u001b[39;49msleep(\u001b[39m0.3\u001b[39;49m)\n\u001b[0;32m     23\u001b[0m hapdata \u001b[39m=\u001b[39m pd\u001b[39m.\u001b[39mconcat(frame)\n\u001b[0;32m     24\u001b[0m hapdata\u001b[39m.\u001b[39mto_csv(\u001b[39m'\u001b[39m\u001b[39m../주식데이터 수집/\u001b[39m\u001b[39m'\u001b[39m\u001b[39m+\u001b[39mselCodeNameList[\u001b[39m'\u001b[39m\u001b[39m종목명\u001b[39m\u001b[39m'\u001b[39m]\u001b[39m.\u001b[39miloc[j]\u001b[39m+\u001b[39m\u001b[39m'\u001b[39m\u001b[39m 주식 데이터.csv\u001b[39m\u001b[39m'\u001b[39m, encoding\u001b[39m=\u001b[39m\u001b[39m'\u001b[39m\u001b[39meuc-kr\u001b[39m\u001b[39m'\u001b[39m, index\u001b[39m=\u001b[39m\u001b[39mFalse\u001b[39;00m)\n",
      "\u001b[1;31mKeyboardInterrupt\u001b[0m: "
     ]
    }
   ],
   "source": [
    "# 주식데이터를 받기 위해 실행\n",
    "\n",
    "stockNameList = ['셀바스AI', '투비소프트', '플리토', '뷰노', '알체라'] # 이곳에 수신 받고 싶은 종목 이름을 정확히 입력해주세요. 여러개 가능.\n",
    "\n",
    "connectCheck()\n",
    "canTradeStockCount()\n",
    "codeNameList = getStockNameCode()\n",
    "selCodeNameList = jongmokSerach(stockNameList, codeNameList)\n",
    "\n",
    "a = dt.datetime(2019,1,1) # 수신 받고 싶은 원하는 시작 날짜를 입력하세요.\n",
    "b = dt.datetime(2023,6,26) # 수신 받고 싶은 원하는 종료 날짜를 입력하세요.\n",
    "number = b-a\n",
    "\n",
    "for j in range(0,selCodeNameList.shape[0]):\n",
    "    print('[시스템]:'+str(a.strftime('%Y%m%d'))+' ~ '+str(b.strftime('%Y%m%d'))+' 사이에 거래된 '+str(selCodeNameList['종목명'].iloc[j])+' 종목 주가 데이터 가져오는 중')\n",
    "    frame = []\n",
    "    for i in tqdm(range(0, number.days, 2)):\n",
    "        c = a + dt.timedelta(days=i)\n",
    "        d = a + dt.timedelta(days=i+1)\n",
    "        data = getjusik(selCodeNameList['종목코드'].iloc[j], selCodeNameList['종목명'].iloc[j], c.strftime('%Y%m%d'), d.strftime('%Y%m%d'))\n",
    "        frame.append(data)\n",
    "        time.sleep(0.3)\n",
    "    hapdata = pd.concat(frame)\n",
    "    hapdata.to_csv('../주식데이터 수집/'+selCodeNameList['종목명'].iloc[j]+' 주식 데이터.csv', encoding='euc-kr', index=False)\n",
    "    print('[시스템]:'+selCodeNameList['종목명'].iloc[j]+' 종목의 주식시세 데이터 요청 수신성공 및 csv로 저장 성공!')\n",
    "\n",
    "reverse(stockNameList)\n",
    "print('[시스템]:수신요청 종료')\n",
    "aaa(stockNameList)"
   ]
  }
 ],
 "metadata": {
  "kernelspec": {
   "display_name": "dl-dev-gpu",
   "language": "python",
   "name": "python3"
  },
  "language_info": {
   "codemirror_mode": {
    "name": "ipython",
    "version": 3
   },
   "file_extension": ".py",
   "mimetype": "text/x-python",
   "name": "python",
   "nbconvert_exporter": "python",
   "pygments_lexer": "ipython3",
   "version": "3.10.4"
  },
  "orig_nbformat": 4
 },
 "nbformat": 4,
 "nbformat_minor": 2
}
