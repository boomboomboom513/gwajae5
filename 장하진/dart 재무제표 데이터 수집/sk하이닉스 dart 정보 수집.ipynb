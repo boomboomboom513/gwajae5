{
 "cells": [
  {
   "cell_type": "code",
   "execution_count": 1,
   "metadata": {},
   "outputs": [],
   "source": [
    "import OpenDartReader"
   ]
  },
  {
   "cell_type": "code",
   "execution_count": 4,
   "metadata": {},
   "outputs": [
    {
     "name": "stdout",
     "output_type": "stream",
     "text": [
      "reprt_code='11011', fs_div='CFS' (사업보고서, 연결제무제표)'\n"
     ]
    },
    {
     "name": "stderr",
     "output_type": "stream",
     "text": [
      "c:\\ProgramData\\anaconda3\\envs\\stock_info\\lib\\site-packages\\OpenDartReader\\dart.py:168: UserWarning: list_date() is deprecated. use list_date_ex()\n",
      "  warnings.warn('list_date() is deprecated. use list_date_ex()')\n"
     ]
    },
    {
     "data": {
      "text/plain": [
       "{'[SK하이닉스]사업보고서(2022.03.22).pdf': 'http://dart.fss.or.kr/pdf/download/pdf.do?rcp_no=20220322000590&dcm_no=8490476',\n",
       " '[SK하이닉스]사업보고서_재무제표(2022.03.22)_ko.xls': 'http://dart.fss.or.kr/pdf/download/excel.do?rcp_no=20220322000590&dcm_no=8490476&lang=ko',\n",
       " '[SK하이닉스]사업보고서_IFRS(원문XBRL)(2022.03.22).zip': 'http://dart.fss.or.kr/pdf/download/ifrs.do?rcp_no=20220322000590&dcm_no=8490476&lang=ko'}"
      ]
     },
     "execution_count": 4,
     "metadata": {},
     "output_type": "execute_result"
    }
   ],
   "source": [
    "# ==== 0. 객체 생성 ====\n",
    "# 객체 생성 (API KEY 지정) \n",
    "api_key = '7eb503a3ecb44f0b6469341f8cac7f0ef450fd1a'\n",
    "\n",
    "dart = OpenDartReader(api_key) \n",
    "\n",
    "\n",
    "# == 1. 공시정보 검색 == # SK하이닉스 사업보고서: 20220322000590 /기업코드: 00164779/종목코드:000660\n",
    "# SK하이닉스의 정기보고서('A') 2019년\n",
    "dart.list('000660', kind='A', start='2019-01-01', end='2019-12-31')\n",
    "\n",
    "# SK하이닉스의 모든 공시 리스트 (1999년 ~ 현재)\n",
    "dart.list('000660') \n",
    "\n",
    "# 기업의 개황정보\n",
    "dart.company('000660')\n",
    "\n",
    "# 회사명에 SK하이닉스가 포함된 회사들에 대한 개황정보\n",
    "dart.company_by_name('SK')\n",
    "\n",
    "# 삼성전자 사업보고서 (2021.12) 원문 텍스트\n",
    "xml_text = dart.document('20220322000590')\n",
    "\n",
    "\n",
    "# ==== 2. 사업보고서 ====\n",
    "# SK하이닉스(000660), 배당관련 사항, 2022년\n",
    "dart.report('000660', '배당', 2022) \n",
    "\n",
    "# SK하이닉스(000660), 최대주주 관한 사항, 2022년\n",
    "dart.report('000660', '최대주주', 2022) \n",
    "\n",
    "# SK하이닉스(000660), 임원 관한 사항, 2022년\n",
    "dart.report('000660', '임원', 2022) \n",
    "\n",
    "\n",
    "# ==== 3. 상장기업 재무정보 ====\n",
    "# SK하이닉스 2022 재무제표 \n",
    "dart.finstate('SK하이닉스', 2022) # 사업보고서\n",
    "\n",
    "# SK하이닉스 2022Q1 재무제표\n",
    "dart.finstate('SK하이닉스', 2022, reprt_code='11013')\n",
    "\n",
    "# 여러종목 한번에\n",
    "dart.finstate('00126380,00164779,00164742', 2022)\n",
    "dart.finstate('005930, 000660, 005380', 2022)\n",
    "dart.finstate('삼성전자, SK하이닉스, 현대자동차', 2022)\n",
    "\n",
    "# 단일기업 전체 재무제표 (SK하이닉스 2022 전체 재무제표)\n",
    "dart.finstate_all('000660', 2022)\n",
    "\n",
    "# 재무제표 XBRL 원본 파일 저장 (SK하이닉스 2021 사업보고서)\n",
    "dart.finstate_xml('20220322000590', save_as='SK하이닉스_2021_사업보고서_XBRL.zip')\n",
    "\n",
    "# XBRL 표준계정과목체계(계정과목)\n",
    "dart.xbrl_taxonomy('BS1')\n",
    "\n",
    "\n",
    "# ==== 4. 지분공시 ====\n",
    "# 대량보유 상황보고 (종목코드, 종목명, 고유번호 모두 지정 가능)\n",
    "dart.major_shareholders('SK하이닉스')\n",
    "\n",
    "# 임원ㆍ주요주주 소유보고 (종목코드, 종목명, 고유번호 모두 지정 가능)\n",
    "dart.major_shareholders_exec('000660')\n",
    "\n",
    "\n",
    "# ==== 5. 확장 기능 ====\n",
    "# 지정한 날짜의 공시목록 전체\n",
    "dart.list_date('2020-01-03')\n",
    "\n",
    "# 지정한 날짜의 공시목록 전체 (시간 정보 포함)\n",
    "dart.list_date_ex('2020-01-03')\n",
    "\n",
    "# 개별 문서 제목과 URL\n",
    "rcp_no = '20220322000590' # SK하이닉스 2021년 사업보고서\n",
    "dart.sub_docs(rcp_no)\n",
    "\n",
    "# 제목이 잘 매치되는 순서로 소트\n",
    "dart.sub_docs('20220322000590', match='사업의 내용')\n",
    "\n",
    "# 첨부 문서 제목과 URL\n",
    "dart.attach_docs(rcp_no)\n",
    "\n",
    "# 제목이 잘 매치되는 순서로 소트\n",
    "dart.attach_docs(rcp_no, match='감사보고서')\n",
    "\n",
    "# 첨부 파일 제목과 URL\n",
    "dart.attach_files(rcp_no)"
   ]
  }
 ],
 "metadata": {
  "kernelspec": {
   "display_name": "stock_info",
   "language": "python",
   "name": "python3"
  },
  "language_info": {
   "codemirror_mode": {
    "name": "ipython",
    "version": 3
   },
   "file_extension": ".py",
   "mimetype": "text/x-python",
   "name": "python",
   "nbconvert_exporter": "python",
   "pygments_lexer": "ipython3",
   "version": "3.10.4"
  },
  "orig_nbformat": 4
 },
 "nbformat": 4,
 "nbformat_minor": 2
}
