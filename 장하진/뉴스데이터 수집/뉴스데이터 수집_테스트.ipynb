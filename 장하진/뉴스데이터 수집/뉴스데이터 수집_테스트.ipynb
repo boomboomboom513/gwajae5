{
 "cells": [
  {
   "cell_type": "code",
   "execution_count": null,
   "metadata": {},
   "outputs": [
    {
     "ename": "",
     "evalue": "",
     "output_type": "error",
     "traceback": [
      "\u001b[1;31m'stock_info'(으)로 셀을 실행하려면 ipykernel 패키지가 필요합니다.\n",
      "\u001b[1;31mRun the following command to install 'ipykernel' into the Python environment. \n",
      "\u001b[1;31mCommand: 'conda install -n stock_info ipykernel --update-deps --force-reinstall'"
     ]
    }
   ],
   "source": [
    "import requests\n",
    "import datetime\n",
    "from bs4 import BeautifulSoup as bs\n",
    "import pandas as pd\n",
    "from tqdm.notebook import tqdm #pip install tqdm\n",
    "\n",
    "link_list = [];titles = [];dates = [];weeks = [];times=[]\n",
    "weekDays = (\"월\",\"화\",\"수\",\"목\",\"금\",\"토\",\"일\")"
   ]
  },
  {
   "cell_type": "code",
   "execution_count": null,
   "metadata": {},
   "outputs": [
    {
     "ename": "",
     "evalue": "",
     "output_type": "error",
     "traceback": [
      "\u001b[1;31m'stock_info'(으)로 셀을 실행하려면 ipykernel 패키지가 필요합니다.\n",
      "\u001b[1;31mRun the following command to install 'ipykernel' into the Python environment. \n",
      "\u001b[1;31mCommand: 'conda install -n stock_info ipykernel --update-deps --force-reinstall'"
     ]
    }
   ],
   "source": [
    "# 종목코드\n",
    "code = ['108860','079970', '300080', '338220', '347860','208370']\n",
    "#크롤링할 페이지\n",
    "startpage = 1\n",
    "lastpage = 999"
   ]
  },
  {
   "cell_type": "code",
   "execution_count": null,
   "metadata": {},
   "outputs": [
    {
     "ename": "",
     "evalue": "",
     "output_type": "error",
     "traceback": [
      "\u001b[1;31m'stock_info'(으)로 셀을 실행하려면 ipykernel 패키지가 필요합니다.\n",
      "\u001b[1;31mRun the following command to install 'ipykernel' into the Python environment. \n",
      "\u001b[1;31mCommand: 'conda install -n stock_info ipykernel --update-deps --force-reinstall'"
     ]
    }
   ],
   "source": [
    "#크롤링\n",
    "headers = {'User-Agent':'Mozilla/5.0 (Windows NT 10.0; Win64; x64) AppleWebKit/537.36 (KHTML, like Gecko) Chrome/114.0.0.0 Safari/537.36'}\n",
    "print('페이지로딩')\n",
    "for page in tqdm(range(startpage,lastpage+1)):\n",
    "    res = requests.get(f'https://finance.naver.com/item/news_news.nhn?code={code}&page={page}', headers = headers)\n",
    "    soup = bs(res.content, 'lxml')\n",
    "    href_list = soup.select('td.title > a')\n",
    "    for i in href_list:\n",
    "        link_list.append(\"https://finance.naver.com\"+i['href'])      \n",
    "print(\"크롤링시작\")\n",
    "for j in tqdm(link_list):\n",
    "    link_res = requests.get(j, headers = headers)\n",
    "    soup = bs(link_res.content, 'lxml')\n",
    "    \n",
    "    try:\n",
    "        news_title = soup.select_one('th > strong').text  \n",
    "        date , time = soup.select_one('th > span > span').text.split()\n",
    "        year , month , day = date.split('.')\n",
    "        get_weekday = datetime.date(int(year),int(month),int(day))\n",
    "        hour, minute = time.split(':')   \n",
    "        time = (60 * int(hour) + int(minute))//15  \n",
    "        weeks.append(weekDays[get_weekday.weekday()]) \n",
    "        date = date.replace('.','')\n",
    "        titles.append(news_title)\n",
    "        dates.append(int(date))       \n",
    "        times.append(time)\n",
    "    except:\n",
    "        continue\n",
    "    \n",
    "    \n",
    "#dataframe  \n",
    "dic = {'날짜':dates,'요일':weeks,'시간':times, '제목':titles}\n",
    "crawling_data = pd.DataFrame(dic)\n",
    "#저장\n",
    "crawling_data.to_csv('../뉴스데이터 수집/AI관련주 뉴스.csv',encoding=\"\",index=False)"
   ]
  },
  {
   "cell_type": "code",
   "execution_count": null,
   "metadata": {},
   "outputs": [
    {
     "ename": "",
     "evalue": "",
     "output_type": "error",
     "traceback": [
      "\u001b[1;31m'stock_info'(으)로 셀을 실행하려면 ipykernel 패키지가 필요합니다.\n",
      "\u001b[1;31mRun the following command to install 'ipykernel' into the Python environment. \n",
      "\u001b[1;31mCommand: 'conda install -n stock_info ipykernel --update-deps --force-reinstall'"
     ]
    }
   ],
   "source": []
  },
  {
   "cell_type": "code",
   "execution_count": null,
   "metadata": {},
   "outputs": [
    {
     "ename": "",
     "evalue": "",
     "output_type": "error",
     "traceback": [
      "\u001b[1;31m'stock_info'(으)로 셀을 실행하려면 ipykernel 패키지가 필요합니다.\n",
      "\u001b[1;31mRun the following command to install 'ipykernel' into the Python environment. \n",
      "\u001b[1;31mCommand: 'conda install -n stock_info ipykernel --update-deps --force-reinstall'"
     ]
    }
   ],
   "source": []
  },
  {
   "cell_type": "code",
   "execution_count": null,
   "metadata": {},
   "outputs": [
    {
     "ename": "",
     "evalue": "",
     "output_type": "error",
     "traceback": [
      "\u001b[1;31m'stock_info'(으)로 셀을 실행하려면 ipykernel 패키지가 필요합니다.\n",
      "\u001b[1;31mRun the following command to install 'ipykernel' into the Python environment. \n",
      "\u001b[1;31mCommand: 'conda install -n stock_info ipykernel --update-deps --force-reinstall'"
     ]
    }
   ],
   "source": []
  },
  {
   "cell_type": "code",
   "execution_count": null,
   "metadata": {},
   "outputs": [
    {
     "ename": "",
     "evalue": "",
     "output_type": "error",
     "traceback": [
      "\u001b[1;31m'stock_info'(으)로 셀을 실행하려면 ipykernel 패키지가 필요합니다.\n",
      "\u001b[1;31mRun the following command to install 'ipykernel' into the Python environment. \n",
      "\u001b[1;31mCommand: 'conda install -n stock_info ipykernel --update-deps --force-reinstall'"
     ]
    }
   ],
   "source": []
  },
  {
   "cell_type": "code",
   "execution_count": null,
   "metadata": {},
   "outputs": [
    {
     "ename": "",
     "evalue": "",
     "output_type": "error",
     "traceback": [
      "\u001b[1;31m'stock_info'(으)로 셀을 실행하려면 ipykernel 패키지가 필요합니다.\n",
      "\u001b[1;31mRun the following command to install 'ipykernel' into the Python environment. \n",
      "\u001b[1;31mCommand: 'conda install -n stock_info ipykernel --update-deps --force-reinstall'"
     ]
    }
   ],
   "source": []
  }
 ],
 "metadata": {
  "kernelspec": {
   "display_name": "stock_info",
   "language": "python",
   "name": "python3"
  },
  "language_info": {
   "codemirror_mode": {
    "name": "ipython",
    "version": 3
   },
   "file_extension": ".py",
   "mimetype": "text/x-python",
   "name": "python",
   "nbconvert_exporter": "python",
   "pygments_lexer": "ipython3",
   "version": "3.10.4"
  },
  "orig_nbformat": 4
 },
 "nbformat": 4,
 "nbformat_minor": 2
}
