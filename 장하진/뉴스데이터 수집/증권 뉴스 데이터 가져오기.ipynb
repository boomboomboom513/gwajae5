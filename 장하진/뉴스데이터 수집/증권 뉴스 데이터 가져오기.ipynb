{
 "cells": [
  {
   "cell_type": "code",
   "execution_count": 9,
   "metadata": {},
   "outputs": [],
   "source": [
    "# from urllib.request import urlopen\n",
    "import requests\n",
    "from bs4 import BeautifulSoup\n",
    "import re\n",
    "import pandas as pd\n",
    "from glob import glob"
   ]
  },
  {
   "cell_type": "code",
   "execution_count": 10,
   "metadata": {},
   "outputs": [],
   "source": [
    "# 종목 뉴스리스트 페이지별로 전체 html코드를 긁어온 후, 리스트 형식으로 반환\n",
    "def getData(codeList, newsPage):\n",
    "    pageList = []\n",
    "    for code in codeList:\n",
    "        for page in range(newsPage, newsPage+1):\n",
    "            newsListPageUrl = 'https://finance.naver.com/item/news_news.naver?code='+str(code)+'&page='+str(page)+'&sm=title_entity_id.basic&clusterId='\n",
    "            data = requests.get(newsListPageUrl)\n",
    "            soup = BeautifulSoup(data.content.decode('euc-kr', 'replace'), 'html.parser')\n",
    "            dataFilter = soup.find('tbody')\n",
    "            pageList.append(dataFilter)\n",
    "    return pageList"
   ]
  },
  {
   "cell_type": "code",
   "execution_count": 11,
   "metadata": {},
   "outputs": [],
   "source": [
    "# 뉴스페이지별로 전체 html코드를 가공하여 각 뉴스기사들의 url주소를 만들어서, 리스트 형식으로 반환\n",
    "def change(bs4Data, num):\n",
    "    makeUrlList = []\n",
    "    newsUrlList = []\n",
    "    for bs4 in bs4Data:\n",
    "        change = bs4.select('tbody > tr > td > a')\n",
    "        for i in range(len(change)):\n",
    "            if num <= 9:\n",
    "                newsUrlList.append('https://finance.naver.com'+str(change[i])[21:65]+str(change[i])[69:83]+str(change[i])[87:99]+str(change[i])[103:110]+str(change[i])[114:138])\n",
    "            elif num <= 99:\n",
    "                newsUrlList.append('https://finance.naver.com'+str(change[i])[21:65]+str(change[i])[69:83]+str(change[i])[87:99]+str(change[i])[103:111]+str(change[i])[115:139])\n",
    "            elif num <= 999:\n",
    "                newsUrlList.append('https://finance.naver.com'+str(change[i])[21:65]+str(change[i])[69:83]+str(change[i])[87:99]+str(change[i])[103:112]+str(change[i])[116:140])\n",
    "    return newsUrlList"
   ]
  },
  {
   "cell_type": "code",
   "execution_count": 12,
   "metadata": {},
   "outputs": [],
   "source": [
    "def getNewsData(urlLists):\n",
    "    newsDateList = []\n",
    "    newsTitleList = []\n",
    "    newsTextList = []\n",
    "    for i in range(len(urlLists)):\n",
    "        html = requests.get(urlLists[i])\n",
    "        soup = BeautifulSoup(html.content.decode('euc-kr', 'replace'), 'html.parser')\n",
    "        newsDateList.append(soup.find('span',{'class':'tah p11'}).get_text())\n",
    "        newsTitleList.append(soup.find('strong', {'class':'c p15'}).get_text())\n",
    "        newsText = soup.find('div', {'class':'scr01'})\n",
    "        if newsText.find('div', {'class':'link_news'}) != None:\n",
    "            newsText.find('div', {'class':'link_news'}).decompose()\n",
    "        newsTextList.append(newsText.get_text()[1:-1])\n",
    "    newsDf = pd.DataFrame({\n",
    "        '날짜':newsDateList\n",
    "        , '제목':newsTitleList\n",
    "        , '내용':newsTextList\n",
    "    })\n",
    "    return newsDf"
   ]
  },
  {
   "cell_type": "code",
   "execution_count": 13,
   "metadata": {},
   "outputs": [],
   "source": [
    "def filescan():\n",
    "    fileDataList = []\n",
    "    fileList = glob('../뉴스데이터 수집/*.csv')\n",
    "    for i in range(len(fileList)):\n",
    "        fileDataList.append(pd.read_csv('../뉴스데이터 수집//'+fileList[i][11:], encoding='utf-8'))\n",
    "    hapData = pd.concat(fileDataList)\n",
    "    hapData.drop_duplicates(['제목'], inplace=True)\n",
    "    hapData.sort_values(['날짜'], inplace=True)\n",
    "    hapData.reset_index(inplace=True)\n",
    "    hapData.drop('index', axis=1, inplace=True)\n",
    "    hapData.to_csv('../뉴스데이터 수집/AI 뉴스 데이터.csv', encoding='utf-8', index=False)"
   ]
  },
  {
   "cell_type": "code",
   "execution_count": 14,
   "metadata": {},
   "outputs": [],
   "source": [
    "def openFile():\n",
    "    filtering = pd.read_csv('../뉴스데이터 수집/AI 뉴스 데이터.csv', encoding='utf-8')\n",
    "    for i in range(0, len(filtering)):\n",
    "        filtering['날짜'][i] = filtering['날짜'][i].strip()\n",
    "        filtering['내용'][i] = str(filtering['내용'][i]).replace('\\t','')\n",
    "    filtering.to_csv('../뉴스데이터 수집/AI 뉴스 데이터.csv', encoding='utf-8', index=False)\n",
    "    return pd.read_csv('../뉴스데이터 수집//AI 뉴스 데이터.csv', encoding='utf-8')"
   ]
  },
  {
   "cell_type": "code",
   "execution_count": 15,
   "metadata": {},
   "outputs": [
    {
     "ename": "OSError",
     "evalue": "Could not find a suitable TLS CA certificate bundle, invalid path: c:\\ProgramData\\anaconda3\\envs\\stock_info\\lib\\site-packages\\certifi\\cacert.pem",
     "output_type": "error",
     "traceback": [
      "\u001b[1;31m---------------------------------------------------------------------------\u001b[0m",
      "\u001b[1;31mOSError\u001b[0m                                   Traceback (most recent call last)",
      "Cell \u001b[1;32mIn[15], line 5\u001b[0m\n\u001b[0;32m      2\u001b[0m stockNewsPage \u001b[39m=\u001b[39m \u001b[39m999\u001b[39m        \u001b[39m# 원하는 뉴스페이지 숫자 1 ~ 999페이지까지만 긁어오기 가능\u001b[39;00m\n\u001b[0;32m      4\u001b[0m \u001b[39mfor\u001b[39;00m numberCount \u001b[39min\u001b[39;00m \u001b[39mrange\u001b[39m(\u001b[39m1\u001b[39m, stockNewsPage):\n\u001b[1;32m----> 5\u001b[0m     bs4Data \u001b[39m=\u001b[39m getData(stockCodeList, numberCount)\n\u001b[0;32m      6\u001b[0m     urlList \u001b[39m=\u001b[39m change(bs4Data, numberCount)\n\u001b[0;32m      7\u001b[0m     getNewsDf \u001b[39m=\u001b[39m getNewsData(urlList)\n",
      "Cell \u001b[1;32mIn[10], line 7\u001b[0m, in \u001b[0;36mgetData\u001b[1;34m(codeList, newsPage)\u001b[0m\n\u001b[0;32m      5\u001b[0m \u001b[39mfor\u001b[39;00m page \u001b[39min\u001b[39;00m \u001b[39mrange\u001b[39m(newsPage, newsPage\u001b[39m+\u001b[39m\u001b[39m1\u001b[39m):\n\u001b[0;32m      6\u001b[0m     newsListPageUrl \u001b[39m=\u001b[39m \u001b[39m'\u001b[39m\u001b[39mhttps://finance.naver.com/item/news_news.naver?code=\u001b[39m\u001b[39m'\u001b[39m\u001b[39m+\u001b[39m\u001b[39mstr\u001b[39m(code)\u001b[39m+\u001b[39m\u001b[39m'\u001b[39m\u001b[39m&page=\u001b[39m\u001b[39m'\u001b[39m\u001b[39m+\u001b[39m\u001b[39mstr\u001b[39m(page)\u001b[39m+\u001b[39m\u001b[39m'\u001b[39m\u001b[39m&sm=title_entity_id.basic&clusterId=\u001b[39m\u001b[39m'\u001b[39m\n\u001b[1;32m----> 7\u001b[0m     data \u001b[39m=\u001b[39m requests\u001b[39m.\u001b[39;49mget(newsListPageUrl)\n\u001b[0;32m      8\u001b[0m     soup \u001b[39m=\u001b[39m BeautifulSoup(data\u001b[39m.\u001b[39mcontent\u001b[39m.\u001b[39mdecode(\u001b[39m'\u001b[39m\u001b[39meuc-kr\u001b[39m\u001b[39m'\u001b[39m, \u001b[39m'\u001b[39m\u001b[39mreplace\u001b[39m\u001b[39m'\u001b[39m), \u001b[39m'\u001b[39m\u001b[39mhtml.parser\u001b[39m\u001b[39m'\u001b[39m)\n\u001b[0;32m      9\u001b[0m     dataFilter \u001b[39m=\u001b[39m soup\u001b[39m.\u001b[39mfind(\u001b[39m'\u001b[39m\u001b[39mtbody\u001b[39m\u001b[39m'\u001b[39m)\n",
      "File \u001b[1;32mc:\\ProgramData\\anaconda3\\envs\\stock_info\\lib\\site-packages\\requests\\api.py:73\u001b[0m, in \u001b[0;36mget\u001b[1;34m(url, params, **kwargs)\u001b[0m\n\u001b[0;32m     62\u001b[0m \u001b[39mdef\u001b[39;00m \u001b[39mget\u001b[39m(url, params\u001b[39m=\u001b[39m\u001b[39mNone\u001b[39;00m, \u001b[39m*\u001b[39m\u001b[39m*\u001b[39mkwargs):\n\u001b[0;32m     63\u001b[0m \u001b[39m    \u001b[39m\u001b[39mr\u001b[39m\u001b[39m\"\"\"Sends a GET request.\u001b[39;00m\n\u001b[0;32m     64\u001b[0m \n\u001b[0;32m     65\u001b[0m \u001b[39m    :param url: URL for the new :class:`Request` object.\u001b[39;00m\n\u001b[1;32m   (...)\u001b[0m\n\u001b[0;32m     70\u001b[0m \u001b[39m    :rtype: requests.Response\u001b[39;00m\n\u001b[0;32m     71\u001b[0m \u001b[39m    \"\"\"\u001b[39;00m\n\u001b[1;32m---> 73\u001b[0m     \u001b[39mreturn\u001b[39;00m request(\u001b[39m\"\u001b[39m\u001b[39mget\u001b[39m\u001b[39m\"\u001b[39m, url, params\u001b[39m=\u001b[39mparams, \u001b[39m*\u001b[39m\u001b[39m*\u001b[39mkwargs)\n",
      "File \u001b[1;32mc:\\ProgramData\\anaconda3\\envs\\stock_info\\lib\\site-packages\\requests\\api.py:59\u001b[0m, in \u001b[0;36mrequest\u001b[1;34m(method, url, **kwargs)\u001b[0m\n\u001b[0;32m     55\u001b[0m \u001b[39m# By using the 'with' statement we are sure the session is closed, thus we\u001b[39;00m\n\u001b[0;32m     56\u001b[0m \u001b[39m# avoid leaving sockets open which can trigger a ResourceWarning in some\u001b[39;00m\n\u001b[0;32m     57\u001b[0m \u001b[39m# cases, and look like a memory leak in others.\u001b[39;00m\n\u001b[0;32m     58\u001b[0m \u001b[39mwith\u001b[39;00m sessions\u001b[39m.\u001b[39mSession() \u001b[39mas\u001b[39;00m session:\n\u001b[1;32m---> 59\u001b[0m     \u001b[39mreturn\u001b[39;00m session\u001b[39m.\u001b[39mrequest(method\u001b[39m=\u001b[39mmethod, url\u001b[39m=\u001b[39murl, \u001b[39m*\u001b[39m\u001b[39m*\u001b[39mkwargs)\n",
      "File \u001b[1;32mc:\\ProgramData\\anaconda3\\envs\\stock_info\\lib\\site-packages\\requests\\sessions.py:589\u001b[0m, in \u001b[0;36mSession.request\u001b[1;34m(self, method, url, params, data, headers, cookies, files, auth, timeout, allow_redirects, proxies, hooks, stream, verify, cert, json)\u001b[0m\n\u001b[0;32m    584\u001b[0m send_kwargs \u001b[39m=\u001b[39m {\n\u001b[0;32m    585\u001b[0m     \u001b[39m\"\u001b[39m\u001b[39mtimeout\u001b[39m\u001b[39m\"\u001b[39m: timeout,\n\u001b[0;32m    586\u001b[0m     \u001b[39m\"\u001b[39m\u001b[39mallow_redirects\u001b[39m\u001b[39m\"\u001b[39m: allow_redirects,\n\u001b[0;32m    587\u001b[0m }\n\u001b[0;32m    588\u001b[0m send_kwargs\u001b[39m.\u001b[39mupdate(settings)\n\u001b[1;32m--> 589\u001b[0m resp \u001b[39m=\u001b[39m \u001b[39mself\u001b[39m\u001b[39m.\u001b[39msend(prep, \u001b[39m*\u001b[39m\u001b[39m*\u001b[39msend_kwargs)\n\u001b[0;32m    591\u001b[0m \u001b[39mreturn\u001b[39;00m resp\n",
      "File \u001b[1;32mc:\\ProgramData\\anaconda3\\envs\\stock_info\\lib\\site-packages\\requests\\sessions.py:703\u001b[0m, in \u001b[0;36mSession.send\u001b[1;34m(self, request, **kwargs)\u001b[0m\n\u001b[0;32m    700\u001b[0m start \u001b[39m=\u001b[39m preferred_clock()\n\u001b[0;32m    702\u001b[0m \u001b[39m# Send the request\u001b[39;00m\n\u001b[1;32m--> 703\u001b[0m r \u001b[39m=\u001b[39m adapter\u001b[39m.\u001b[39msend(request, \u001b[39m*\u001b[39m\u001b[39m*\u001b[39mkwargs)\n\u001b[0;32m    705\u001b[0m \u001b[39m# Total elapsed time of the request (approximately)\u001b[39;00m\n\u001b[0;32m    706\u001b[0m elapsed \u001b[39m=\u001b[39m preferred_clock() \u001b[39m-\u001b[39m start\n",
      "File \u001b[1;32mc:\\ProgramData\\anaconda3\\envs\\stock_info\\lib\\site-packages\\requests\\adapters.py:458\u001b[0m, in \u001b[0;36mHTTPAdapter.send\u001b[1;34m(self, request, stream, timeout, verify, cert, proxies)\u001b[0m\n\u001b[0;32m    455\u001b[0m \u001b[39mexcept\u001b[39;00m LocationValueError \u001b[39mas\u001b[39;00m e:\n\u001b[0;32m    456\u001b[0m     \u001b[39mraise\u001b[39;00m InvalidURL(e, request\u001b[39m=\u001b[39mrequest)\n\u001b[1;32m--> 458\u001b[0m \u001b[39mself\u001b[39;49m\u001b[39m.\u001b[39;49mcert_verify(conn, request\u001b[39m.\u001b[39;49murl, verify, cert)\n\u001b[0;32m    459\u001b[0m url \u001b[39m=\u001b[39m \u001b[39mself\u001b[39m\u001b[39m.\u001b[39mrequest_url(request, proxies)\n\u001b[0;32m    460\u001b[0m \u001b[39mself\u001b[39m\u001b[39m.\u001b[39madd_headers(\n\u001b[0;32m    461\u001b[0m     request,\n\u001b[0;32m    462\u001b[0m     stream\u001b[39m=\u001b[39mstream,\n\u001b[1;32m   (...)\u001b[0m\n\u001b[0;32m    466\u001b[0m     proxies\u001b[39m=\u001b[39mproxies,\n\u001b[0;32m    467\u001b[0m )\n",
      "File \u001b[1;32mc:\\ProgramData\\anaconda3\\envs\\stock_info\\lib\\site-packages\\requests\\adapters.py:261\u001b[0m, in \u001b[0;36mHTTPAdapter.cert_verify\u001b[1;34m(self, conn, url, verify, cert)\u001b[0m\n\u001b[0;32m    258\u001b[0m     cert_loc \u001b[39m=\u001b[39m extract_zipped_paths(DEFAULT_CA_BUNDLE_PATH)\n\u001b[0;32m    260\u001b[0m \u001b[39mif\u001b[39;00m \u001b[39mnot\u001b[39;00m cert_loc \u001b[39mor\u001b[39;00m \u001b[39mnot\u001b[39;00m os\u001b[39m.\u001b[39mpath\u001b[39m.\u001b[39mexists(cert_loc):\n\u001b[1;32m--> 261\u001b[0m     \u001b[39mraise\u001b[39;00m \u001b[39mOSError\u001b[39;00m(\n\u001b[0;32m    262\u001b[0m         \u001b[39mf\u001b[39m\u001b[39m\"\u001b[39m\u001b[39mCould not find a suitable TLS CA certificate bundle, \u001b[39m\u001b[39m\"\u001b[39m\n\u001b[0;32m    263\u001b[0m         \u001b[39mf\u001b[39m\u001b[39m\"\u001b[39m\u001b[39minvalid path: \u001b[39m\u001b[39m{\u001b[39;00mcert_loc\u001b[39m}\u001b[39;00m\u001b[39m\"\u001b[39m\n\u001b[0;32m    264\u001b[0m     )\n\u001b[0;32m    266\u001b[0m conn\u001b[39m.\u001b[39mcert_reqs \u001b[39m=\u001b[39m \u001b[39m\"\u001b[39m\u001b[39mCERT_REQUIRED\u001b[39m\u001b[39m\"\u001b[39m\n\u001b[0;32m    268\u001b[0m \u001b[39mif\u001b[39;00m \u001b[39mnot\u001b[39;00m os\u001b[39m.\u001b[39mpath\u001b[39m.\u001b[39misdir(cert_loc):\n",
      "\u001b[1;31mOSError\u001b[0m: Could not find a suitable TLS CA certificate bundle, invalid path: c:\\ProgramData\\anaconda3\\envs\\stock_info\\lib\\site-packages\\certifi\\cacert.pem"
     ]
    }
   ],
   "source": [
    "stockCodeList = ['108860','079970', '300080', '338220', '347860'] # 원하는 종목\n",
    "stockNewsPage = 999        # 원하는 뉴스페이지 숫자 1 ~ 999페이지까지만 긁어오기 가능\n",
    "\n",
    "for numberCount in range(1, stockNewsPage):\n",
    "    bs4Data = getData(stockCodeList, numberCount)\n",
    "    urlList = change(bs4Data, numberCount)\n",
    "    getNewsDf = getNewsData(urlList)\n",
    "    getNewsDf.to_csv('../뉴스데이터 수집/AI 뉴스 데이터'+str(numberCount)+'.csv', encoding='utf-8', index=False) # 원하는 종목 코드에 맞는 종목 이름으로 꼭 바꿔서 사용하세요.\n",
    "\n",
    "# 진행도는 여기서 확인할 수 없으니, ./newsdata/안에 있는 파일 생성되는 것을 확인하세요. -> 네이버 기사 페이지 숫자가 파일명에 붙어서 만들어집니다.\n",
    "# 예) 하이닉스 뉴스 데이터77.csv -> 하이닉스 뉴스 77페이지 뉴스 리스트 다 긁어옴\n",
    "# 네이버 봇이 자동으로 막는 문제인지 알 수 없으나, 30~50개 정도 파일을 만들어낼때마다 'Attribute error'가 뜨는데\n",
    "# 하이닉스 뉴스 데이터93.csv 까지 파일이 만들어졌다가 에러가 떳다면\n",
    "# for numberCount in range(93, stockNewsPage) <- 이 코드에서 네이버 뉴스 페이지 수 93을 \n",
    "# 입력한채로 다시 실행하면 다시 만들기가 시작됩니다.\n",
    "# 에러가 안뜰 수도 있음.\n",
    "# 테스트 결과 하이닉스 총 344페이지 뉴스 페이지 전부 가져와지는 것을 확인함.\n",
    "\n",
    "filescan()\n",
    "openFile()"
   ]
  }
 ],
 "metadata": {
  "kernelspec": {
   "display_name": "pandas-dev",
   "language": "python",
   "name": "python3"
  },
  "language_info": {
   "codemirror_mode": {
    "name": "ipython",
    "version": 3
   },
   "file_extension": ".py",
   "mimetype": "text/x-python",
   "name": "python",
   "nbconvert_exporter": "python",
   "pygments_lexer": "ipython3",
   "version": "3.10.4"
  },
  "orig_nbformat": 4
 },
 "nbformat": 4,
 "nbformat_minor": 2
}
