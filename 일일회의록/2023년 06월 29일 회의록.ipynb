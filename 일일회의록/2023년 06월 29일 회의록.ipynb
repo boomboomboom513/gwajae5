{
 "cells": [
  {
   "attachments": {},
   "cell_type": "markdown",
   "metadata": {},
   "source": [
    "# 06월 29일 회의내용\n",
    "### 주제 : 증권관련 단어 Labeling, 자연어처리 \n",
    "\n",
    "1. 정해놓은 주식 외의 뉴스데이터에서 공통으로 나오는 주식 관련 단어들 추출\n",
    "2. 많이 언급되는 단어들로 긍정, 부정 라벨링하기 (인당 1000개씩)\n",
    "3. 부정 : -1, 관련없음 : 0, 긍정 : +1 \n"
   ]
  },
  {
   "attachments": {},
   "cell_type": "markdown",
   "metadata": {},
   "source": [
    "\n",
    "#### <진행 방법>\n",
    "1. 실시간 주식 데이터 + 뉴스 데이터 감성분석\n",
    "2. MariaDB에 저장\n",
    "3. SpringBoot에서 DB 꺼내오기 \n",
    "4. Web 구현\n"
   ]
  },
  {
   "attachments": {},
   "cell_type": "markdown",
   "metadata": {},
   "source": [
    "#### <주차별 계획>\n",
    "- 6월 29일~7월 2일 : 자연어 처리, DB-파이썬(or DB-SpringBoot)연결코드 찾아보기 \n",
    "- 7월 3일~7월 15일 : 자동화 코드, 머신러닝 완성, 웹 개발 시작\n",
    "- 7월 17일~7월 21일 : 최종 Test \n",
    "- 7월 24일~7얼 28일 : PPT 포트폴리오 제작 \n",
    "    - 수익률이 플러스일 때 수익난 것을 강조한 PPT 제작\n",
    "    - 수익률이 마이너스일 때 수익은 못 냈지만 다양한 기술을 배우고, 각 알고리즘을 적용했을 때의 결과 등 서술 "
   ]
  }
 ],
 "metadata": {
  "language_info": {
   "name": "python"
  },
  "orig_nbformat": 4
 },
 "nbformat": 4,
 "nbformat_minor": 2
}
