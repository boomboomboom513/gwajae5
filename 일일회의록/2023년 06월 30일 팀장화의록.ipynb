{
 "cells": [
  {
   "attachments": {},
   "cell_type": "markdown",
   "metadata": {},
   "source": [
    "# 6월 30일 팀장회의내용"
   ]
  },
  {
   "attachments": {},
   "cell_type": "markdown",
   "metadata": {},
   "source": [
    "# *★ \" 이제부터 놀 생각하지마 \" - 고범희 ★*"
   ]
  },
  {
   "attachments": {},
   "cell_type": "markdown",
   "metadata": {},
   "source": [
    "### 타임라인\n",
    "- ~7월 21일 : 프로젝트 마무리\n",
    "- 7월 26~27일 : ppt 제출\n",
    "- 7월 31일 : 최종 마무리\n",
    "- 8월 4,7,8일 중 하루 외부인사 감사&평가 (PPT 발표)\n",
    "\n",
    "기타\n",
    "- 모델 거래 결과(최종test)는 최소 일주일 이상은 되어야합니다.\n",
    "- 발표시간은 10~15분이 표준이며 최대 30분까지입니다.\n",
    "- 웹 연동&디자인 미리 생각해야합니다\n",
    "- 웹디자인과 파이썬-DB-스프링부트 연동하는 팀 나눠진행할 것\n",
    "- PPT 대본 준비해야함"
   ]
  }
 ],
 "metadata": {
  "language_info": {
   "name": "python"
  },
  "orig_nbformat": 4
 },
 "nbformat": 4,
 "nbformat_minor": 2
}
