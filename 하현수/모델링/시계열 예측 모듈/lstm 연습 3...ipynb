{
 "cells": [
  {
   "cell_type": "code",
   "execution_count": 1,
   "metadata": {},
   "outputs": [],
   "source": [
    "import numpy as np\n",
    "import pandas as pd\n",
    "import matplotlib.pyplot as plt\n",
    "import seaborn as sns"
   ]
  },
  {
   "cell_type": "code",
   "execution_count": 2,
   "metadata": {},
   "outputs": [],
   "source": [
    "hi = pd.read_csv('../../뉴스 데이터/stock/하이닉스주식.csv', encoding='cp949')"
   ]
  },
  {
   "cell_type": "code",
   "execution_count": 3,
   "metadata": {},
   "outputs": [],
   "source": [
    "hi = hi.drop(columns = '누적체결매도수량')\n",
    "hi = hi.drop(columns = '누적체결매수수량')\n",
    "hi = hi.drop(columns = '종목코드')\n",
    "hi = hi.drop(columns = '종목명')\n",
    "hi = hi.drop(columns = '시간')\n",
    "hi = hi.drop(columns = '거래대금')"
   ]
  },
  {
   "cell_type": "code",
   "execution_count": 4,
   "metadata": {},
   "outputs": [],
   "source": [
    "hi.set_index('날짜',inplace=True)"
   ]
  },
  {
   "cell_type": "code",
   "execution_count": 5,
   "metadata": {},
   "outputs": [
    {
     "data": {
      "text/html": [
       "<div>\n",
       "<style scoped>\n",
       "    .dataframe tbody tr th:only-of-type {\n",
       "        vertical-align: middle;\n",
       "    }\n",
       "\n",
       "    .dataframe tbody tr th {\n",
       "        vertical-align: top;\n",
       "    }\n",
       "\n",
       "    .dataframe thead th {\n",
       "        text-align: right;\n",
       "    }\n",
       "</style>\n",
       "<table border=\"1\" class=\"dataframe\">\n",
       "  <thead>\n",
       "    <tr style=\"text-align: right;\">\n",
       "      <th></th>\n",
       "      <th>시가</th>\n",
       "      <th>고가</th>\n",
       "      <th>저가</th>\n",
       "      <th>종가</th>\n",
       "      <th>거래량</th>\n",
       "    </tr>\n",
       "    <tr>\n",
       "      <th>날짜</th>\n",
       "      <th></th>\n",
       "      <th></th>\n",
       "      <th></th>\n",
       "      <th></th>\n",
       "      <th></th>\n",
       "    </tr>\n",
       "  </thead>\n",
       "  <tbody>\n",
       "    <tr>\n",
       "      <th>20210616</th>\n",
       "      <td>128000.0</td>\n",
       "      <td>128500.0</td>\n",
       "      <td>127500.0</td>\n",
       "      <td>127500.0</td>\n",
       "      <td>30265.0</td>\n",
       "    </tr>\n",
       "    <tr>\n",
       "      <th>20210616</th>\n",
       "      <td>127500.0</td>\n",
       "      <td>128000.0</td>\n",
       "      <td>127500.0</td>\n",
       "      <td>127500.0</td>\n",
       "      <td>31521.0</td>\n",
       "    </tr>\n",
       "    <tr>\n",
       "      <th>20210616</th>\n",
       "      <td>127500.0</td>\n",
       "      <td>128000.0</td>\n",
       "      <td>127500.0</td>\n",
       "      <td>128000.0</td>\n",
       "      <td>32558.0</td>\n",
       "    </tr>\n",
       "    <tr>\n",
       "      <th>20210616</th>\n",
       "      <td>128000.0</td>\n",
       "      <td>128000.0</td>\n",
       "      <td>127500.0</td>\n",
       "      <td>128000.0</td>\n",
       "      <td>34810.0</td>\n",
       "    </tr>\n",
       "    <tr>\n",
       "      <th>20210616</th>\n",
       "      <td>128000.0</td>\n",
       "      <td>128000.0</td>\n",
       "      <td>127500.0</td>\n",
       "      <td>127500.0</td>\n",
       "      <td>88528.0</td>\n",
       "    </tr>\n",
       "    <tr>\n",
       "      <th>...</th>\n",
       "      <td>...</td>\n",
       "      <td>...</td>\n",
       "      <td>...</td>\n",
       "      <td>...</td>\n",
       "      <td>...</td>\n",
       "    </tr>\n",
       "    <tr>\n",
       "      <th>20230623</th>\n",
       "      <td>113600.0</td>\n",
       "      <td>113700.0</td>\n",
       "      <td>113500.0</td>\n",
       "      <td>113700.0</td>\n",
       "      <td>1239811.0</td>\n",
       "    </tr>\n",
       "    <tr>\n",
       "      <th>20230623</th>\n",
       "      <td>113600.0</td>\n",
       "      <td>113900.0</td>\n",
       "      <td>113600.0</td>\n",
       "      <td>113600.0</td>\n",
       "      <td>1249310.0</td>\n",
       "    </tr>\n",
       "    <tr>\n",
       "      <th>20230623</th>\n",
       "      <td>113700.0</td>\n",
       "      <td>113800.0</td>\n",
       "      <td>113600.0</td>\n",
       "      <td>113700.0</td>\n",
       "      <td>1252913.0</td>\n",
       "    </tr>\n",
       "    <tr>\n",
       "      <th>20230623</th>\n",
       "      <td>113700.0</td>\n",
       "      <td>113800.0</td>\n",
       "      <td>113600.0</td>\n",
       "      <td>113700.0</td>\n",
       "      <td>1255600.0</td>\n",
       "    </tr>\n",
       "    <tr>\n",
       "      <th>20230623</th>\n",
       "      <td>113600.0</td>\n",
       "      <td>113600.0</td>\n",
       "      <td>113600.0</td>\n",
       "      <td>113600.0</td>\n",
       "      <td>1255600.0</td>\n",
       "    </tr>\n",
       "  </tbody>\n",
       "</table>\n",
       "<p>190379 rows × 5 columns</p>\n",
       "</div>"
      ],
      "text/plain": [
       "                시가        고가        저가        종가        거래량\n",
       "날짜                                                         \n",
       "20210616  128000.0  128500.0  127500.0  127500.0    30265.0\n",
       "20210616  127500.0  128000.0  127500.0  127500.0    31521.0\n",
       "20210616  127500.0  128000.0  127500.0  128000.0    32558.0\n",
       "20210616  128000.0  128000.0  127500.0  128000.0    34810.0\n",
       "20210616  128000.0  128000.0  127500.0  127500.0    88528.0\n",
       "...            ...       ...       ...       ...        ...\n",
       "20230623  113600.0  113700.0  113500.0  113700.0  1239811.0\n",
       "20230623  113600.0  113900.0  113600.0  113600.0  1249310.0\n",
       "20230623  113700.0  113800.0  113600.0  113700.0  1252913.0\n",
       "20230623  113700.0  113800.0  113600.0  113700.0  1255600.0\n",
       "20230623  113600.0  113600.0  113600.0  113600.0  1255600.0\n",
       "\n",
       "[190379 rows x 5 columns]"
      ]
     },
     "execution_count": 5,
     "metadata": {},
     "output_type": "execute_result"
    }
   ],
   "source": [
    "hi"
   ]
  },
  {
   "cell_type": "code",
   "execution_count": 10,
   "metadata": {},
   "outputs": [
    {
     "name": "stdout",
     "output_type": "stream",
     "text": [
      "(190379, 6)\n"
     ]
    }
   ],
   "source": [
    "print(hi.shape)"
   ]
  },
  {
   "cell_type": "code",
   "execution_count": 6,
   "metadata": {},
   "outputs": [],
   "source": [
    "def MinMaxScaler(data):\n",
    "    \"\"\"최솟값과 최댓값을 이용하여 0 ~ 1 값으로 변환\"\"\"\n",
    "    numerator = data - np.min(data, 0)\n",
    "    denominator = np.max(data, 0) - np.min(data, 0)\n",
    "    # 0으로 나누기 에러가 발생하지 않도록 매우 작은 값(1e-7)을 더해서 나눔\n",
    "    return numerator / (denominator + 1e-7)\n",
    "\n",
    "hi = MinMaxScaler(hi)"
   ]
  },
  {
   "cell_type": "code",
   "execution_count": 10,
   "metadata": {},
   "outputs": [
    {
     "data": {
      "text/html": [
       "<div>\n",
       "<style scoped>\n",
       "    .dataframe tbody tr th:only-of-type {\n",
       "        vertical-align: middle;\n",
       "    }\n",
       "\n",
       "    .dataframe tbody tr th {\n",
       "        vertical-align: top;\n",
       "    }\n",
       "\n",
       "    .dataframe thead th {\n",
       "        text-align: right;\n",
       "    }\n",
       "</style>\n",
       "<table border=\"1\" class=\"dataframe\">\n",
       "  <thead>\n",
       "    <tr style=\"text-align: right;\">\n",
       "      <th></th>\n",
       "      <th>시가</th>\n",
       "      <th>고가</th>\n",
       "      <th>저가</th>\n",
       "      <th>거래량</th>\n",
       "    </tr>\n",
       "    <tr>\n",
       "      <th>날짜</th>\n",
       "      <th></th>\n",
       "      <th></th>\n",
       "      <th></th>\n",
       "      <th></th>\n",
       "    </tr>\n",
       "  </thead>\n",
       "  <tbody>\n",
       "    <tr>\n",
       "      <th>20210616</th>\n",
       "      <td>0.901478</td>\n",
       "      <td>0.909241</td>\n",
       "      <td>0.900662</td>\n",
       "      <td>0.002685</td>\n",
       "    </tr>\n",
       "    <tr>\n",
       "      <th>20210616</th>\n",
       "      <td>0.893268</td>\n",
       "      <td>0.900990</td>\n",
       "      <td>0.900662</td>\n",
       "      <td>0.002796</td>\n",
       "    </tr>\n",
       "    <tr>\n",
       "      <th>20210616</th>\n",
       "      <td>0.893268</td>\n",
       "      <td>0.900990</td>\n",
       "      <td>0.900662</td>\n",
       "      <td>0.002889</td>\n",
       "    </tr>\n",
       "    <tr>\n",
       "      <th>20210616</th>\n",
       "      <td>0.901478</td>\n",
       "      <td>0.900990</td>\n",
       "      <td>0.900662</td>\n",
       "      <td>0.003089</td>\n",
       "    </tr>\n",
       "    <tr>\n",
       "      <th>20210616</th>\n",
       "      <td>0.901478</td>\n",
       "      <td>0.900990</td>\n",
       "      <td>0.900662</td>\n",
       "      <td>0.007865</td>\n",
       "    </tr>\n",
       "    <tr>\n",
       "      <th>...</th>\n",
       "      <td>...</td>\n",
       "      <td>...</td>\n",
       "      <td>...</td>\n",
       "      <td>...</td>\n",
       "    </tr>\n",
       "    <tr>\n",
       "      <th>20230623</th>\n",
       "      <td>0.665025</td>\n",
       "      <td>0.665016</td>\n",
       "      <td>0.668874</td>\n",
       "      <td>0.110233</td>\n",
       "    </tr>\n",
       "    <tr>\n",
       "      <th>20230623</th>\n",
       "      <td>0.665025</td>\n",
       "      <td>0.668317</td>\n",
       "      <td>0.670530</td>\n",
       "      <td>0.111077</td>\n",
       "    </tr>\n",
       "    <tr>\n",
       "      <th>20230623</th>\n",
       "      <td>0.666667</td>\n",
       "      <td>0.666667</td>\n",
       "      <td>0.670530</td>\n",
       "      <td>0.111398</td>\n",
       "    </tr>\n",
       "    <tr>\n",
       "      <th>20230623</th>\n",
       "      <td>0.666667</td>\n",
       "      <td>0.666667</td>\n",
       "      <td>0.670530</td>\n",
       "      <td>0.111637</td>\n",
       "    </tr>\n",
       "    <tr>\n",
       "      <th>20230623</th>\n",
       "      <td>0.665025</td>\n",
       "      <td>0.663366</td>\n",
       "      <td>0.670530</td>\n",
       "      <td>0.111637</td>\n",
       "    </tr>\n",
       "  </tbody>\n",
       "</table>\n",
       "<p>190379 rows × 4 columns</p>\n",
       "</div>"
      ],
      "text/plain": [
       "                시가        고가        저가       거래량\n",
       "날짜                                              \n",
       "20210616  0.901478  0.909241  0.900662  0.002685\n",
       "20210616  0.893268  0.900990  0.900662  0.002796\n",
       "20210616  0.893268  0.900990  0.900662  0.002889\n",
       "20210616  0.901478  0.900990  0.900662  0.003089\n",
       "20210616  0.901478  0.900990  0.900662  0.007865\n",
       "...            ...       ...       ...       ...\n",
       "20230623  0.665025  0.665016  0.668874  0.110233\n",
       "20230623  0.665025  0.668317  0.670530  0.111077\n",
       "20230623  0.666667  0.666667  0.670530  0.111398\n",
       "20230623  0.666667  0.666667  0.670530  0.111637\n",
       "20230623  0.665025  0.663366  0.670530  0.111637\n",
       "\n",
       "[190379 rows x 4 columns]"
      ]
     },
     "execution_count": 10,
     "metadata": {},
     "output_type": "execute_result"
    }
   ],
   "source": [
    "dfx = hi[['시가','고가','저가','종가', '거래량']]\n",
    "dfx = MinMaxScaler(dfx)\n",
    "dfy = dfx[['종가']]\n",
    "dfx = dfx[['시가','고가','저가', '거래량']]\n",
    "dfx"
   ]
  },
  {
   "cell_type": "code",
   "execution_count": 14,
   "metadata": {},
   "outputs": [
    {
     "data": {
      "text/html": [
       "<div>\n",
       "<style scoped>\n",
       "    .dataframe tbody tr th:only-of-type {\n",
       "        vertical-align: middle;\n",
       "    }\n",
       "\n",
       "    .dataframe tbody tr th {\n",
       "        vertical-align: top;\n",
       "    }\n",
       "\n",
       "    .dataframe thead th {\n",
       "        text-align: right;\n",
       "    }\n",
       "</style>\n",
       "<table border=\"1\" class=\"dataframe\">\n",
       "  <thead>\n",
       "    <tr style=\"text-align: right;\">\n",
       "      <th></th>\n",
       "      <th>종가</th>\n",
       "    </tr>\n",
       "    <tr>\n",
       "      <th>날짜</th>\n",
       "      <th></th>\n",
       "    </tr>\n",
       "  </thead>\n",
       "  <tbody>\n",
       "    <tr>\n",
       "      <th>20210616</th>\n",
       "      <td>0.900662</td>\n",
       "    </tr>\n",
       "    <tr>\n",
       "      <th>20210616</th>\n",
       "      <td>0.900662</td>\n",
       "    </tr>\n",
       "    <tr>\n",
       "      <th>20210616</th>\n",
       "      <td>0.908940</td>\n",
       "    </tr>\n",
       "    <tr>\n",
       "      <th>20210616</th>\n",
       "      <td>0.908940</td>\n",
       "    </tr>\n",
       "    <tr>\n",
       "      <th>20210616</th>\n",
       "      <td>0.900662</td>\n",
       "    </tr>\n",
       "    <tr>\n",
       "      <th>...</th>\n",
       "      <td>...</td>\n",
       "    </tr>\n",
       "    <tr>\n",
       "      <th>20230623</th>\n",
       "      <td>0.672185</td>\n",
       "    </tr>\n",
       "    <tr>\n",
       "      <th>20230623</th>\n",
       "      <td>0.670530</td>\n",
       "    </tr>\n",
       "    <tr>\n",
       "      <th>20230623</th>\n",
       "      <td>0.672185</td>\n",
       "    </tr>\n",
       "    <tr>\n",
       "      <th>20230623</th>\n",
       "      <td>0.672185</td>\n",
       "    </tr>\n",
       "    <tr>\n",
       "      <th>20230623</th>\n",
       "      <td>0.670530</td>\n",
       "    </tr>\n",
       "  </tbody>\n",
       "</table>\n",
       "<p>190379 rows × 1 columns</p>\n",
       "</div>"
      ],
      "text/plain": [
       "                종가\n",
       "날짜                \n",
       "20210616  0.900662\n",
       "20210616  0.900662\n",
       "20210616  0.908940\n",
       "20210616  0.908940\n",
       "20210616  0.900662\n",
       "...            ...\n",
       "20230623  0.672185\n",
       "20230623  0.670530\n",
       "20230623  0.672185\n",
       "20230623  0.672185\n",
       "20230623  0.670530\n",
       "\n",
       "[190379 rows x 1 columns]"
      ]
     },
     "execution_count": 14,
     "metadata": {},
     "output_type": "execute_result"
    }
   ],
   "source": [
    "dfy"
   ]
  },
  {
   "cell_type": "code",
   "execution_count": 15,
   "metadata": {},
   "outputs": [],
   "source": [
    "# 두 데이터를 리스트 형태로 저장\n",
    "X = dfx.values.tolist()\n",
    "y = dfy.values.tolist()"
   ]
  },
  {
   "cell_type": "code",
   "execution_count": 17,
   "metadata": {},
   "outputs": [
    {
     "name": "stdout",
     "output_type": "stream",
     "text": [
      "[[0.660098456157642, 0.660065940594066, 0.6655628473510001, 0.10883529909356626], [0.660098456157642, 0.660065940594066, 0.6655628473510001, 0.10905252048893334], [0.660098456157642, 0.660065940594066, 0.6655628473510001, 0.1092435117117121], [0.660098456157642, 0.660065940594066, 0.6655628473510001, 0.10932353596706632], [0.660098456157642, 0.6617161054455512, 0.6655628473510001, 0.10951728358086282], [0.6633825280788244, 0.6633662702970363, 0.66721847632451, 0.10986209920560025], [0.6650245640394155, 0.6650164351485216, 0.66887410529802, 0.11023261150789031], [0.6650245640394155, 0.6683167648514918, 0.67052973427153, 0.1110772230652345], [0.6666666000000065, 0.6666666000000067, 0.67052973427153, 0.11139758683416925], [0.6666666000000065, 0.6666666000000067, 0.67052973427153, 0.11163650369432124]] -> [0.67052973427153]\n"
     ]
    }
   ],
   "source": [
    "window_size = 10\n",
    "\n",
    "data_X = []\n",
    "data_y = []\n",
    "for i in range(len(y) - window_size):\n",
    "    _X = X[i : i + window_size] # 다음 날 종가(i+windows_size)는 포함되지 않음\n",
    "    _y = y[i + window_size]     # 다음 날 종가\n",
    "    data_X.append(_X)\n",
    "    data_y.append(_y)\n",
    "print(_X, \"->\", _y)"
   ]
  },
  {
   "cell_type": "code",
   "execution_count": 18,
   "metadata": {},
   "outputs": [
    {
     "name": "stdout",
     "output_type": "stream",
     "text": [
      "전체 데이터의 크기 : 190369 190369\n"
     ]
    }
   ],
   "source": [
    "print('전체 데이터의 크기 :', len(data_X), len(data_y))"
   ]
  },
  {
   "cell_type": "code",
   "execution_count": 19,
   "metadata": {},
   "outputs": [
    {
     "name": "stdout",
     "output_type": "stream",
     "text": [
      "훈련 데이터의 크기 : (133258, 10, 4) (133258, 1)\n",
      "테스트 데이터의 크기 : (57111, 10, 4) (57111, 1)\n"
     ]
    }
   ],
   "source": [
    "train_size = int(len(data_y) * 0.7)\n",
    "train_X = np.array(data_X[0 : train_size])\n",
    "train_y = np.array(data_y[0 : train_size])\n",
    "\n",
    "test_size = len(data_y) - train_size\n",
    "test_X = np.array(data_X[train_size : len(data_X)])\n",
    "test_y = np.array(data_y[train_size : len(data_y)])\n",
    "\n",
    "print('훈련 데이터의 크기 :', train_X.shape, train_y.shape)\n",
    "print('테스트 데이터의 크기 :', test_X.shape, test_y.shape)"
   ]
  },
  {
   "cell_type": "code",
   "execution_count": 20,
   "metadata": {},
   "outputs": [],
   "source": [
    "from tensorflow.keras import Sequential\n",
    "from tensorflow.keras.layers import Dense, LSTM, Dropout"
   ]
  },
  {
   "cell_type": "code",
   "execution_count": 21,
   "metadata": {},
   "outputs": [
    {
     "name": "stdout",
     "output_type": "stream",
     "text": [
      "WARNING:tensorflow:Layer lstm will not use cuDNN kernels since it doesn't meet the criteria. It will use a generic GPU kernel as fallback when running on GPU.\n",
      "WARNING:tensorflow:Layer lstm_1 will not use cuDNN kernels since it doesn't meet the criteria. It will use a generic GPU kernel as fallback when running on GPU.\n",
      "Model: \"sequential\"\n",
      "_________________________________________________________________\n",
      " Layer (type)                Output Shape              Param #   \n",
      "=================================================================\n",
      " lstm (LSTM)                 (None, 10, 20)            2000      \n",
      "                                                                 \n",
      " dropout (Dropout)           (None, 10, 20)            0         \n",
      "                                                                 \n",
      " lstm_1 (LSTM)               (None, 20)                3280      \n",
      "                                                                 \n",
      " dropout_1 (Dropout)         (None, 20)                0         \n",
      "                                                                 \n",
      " dense (Dense)               (None, 1)                 21        \n",
      "                                                                 \n",
      "=================================================================\n",
      "Total params: 5,301\n",
      "Trainable params: 5,301\n",
      "Non-trainable params: 0\n",
      "_________________________________________________________________\n"
     ]
    }
   ],
   "source": [
    "model = Sequential()\n",
    "model.add(LSTM(units=20, activation='relu', return_sequences=True, input_shape=(10, 4)))\n",
    "model.add(Dropout(0.1))\n",
    "model.add(LSTM(units=20, activation='relu'))\n",
    "model.add(Dropout(0.1))\n",
    "model.add(Dense(units=1))\n",
    "model.summary()"
   ]
  },
  {
   "cell_type": "code",
   "execution_count": 25,
   "metadata": {},
   "outputs": [
    {
     "name": "stdout",
     "output_type": "stream",
     "text": [
      "Epoch 1/10\n",
      "2666/2666 [==============================] - 306s 114ms/step - loss: 8.8489e-04\n",
      "Epoch 2/10\n",
      "2666/2666 [==============================] - 312s 117ms/step - loss: 8.5867e-04\n",
      "Epoch 3/10\n",
      "2666/2666 [==============================] - 319s 120ms/step - loss: 8.4857e-04\n",
      "Epoch 4/10\n",
      "2666/2666 [==============================] - 340s 128ms/step - loss: 8.4295e-04\n",
      "Epoch 5/10\n",
      "2666/2666 [==============================] - 360s 135ms/step - loss: 8.2797e-04\n",
      "Epoch 6/10\n",
      "2666/2666 [==============================] - 317s 119ms/step - loss: 8.3102e-04\n",
      "Epoch 7/10\n",
      "2666/2666 [==============================] - 317s 119ms/step - loss: 8.2081e-04\n",
      "Epoch 8/10\n",
      "2666/2666 [==============================] - 319s 120ms/step - loss: 8.3107e-04\n",
      "Epoch 9/10\n",
      "2666/2666 [==============================] - 436s 163ms/step - loss: 8.1612e-04\n",
      "Epoch 10/10\n",
      "2666/2666 [==============================] - 475s 178ms/step - loss: 8.2198e-04\n",
      "1785/1785 [==============================] - 20s 11ms/step\n"
     ]
    }
   ],
   "source": [
    "model.compile(optimizer='adam', loss='mean_squared_error')\n",
    "model.fit(train_X, train_y, epochs=10, batch_size=50)\n",
    "pred_y = model.predict(test_X)"
   ]
  },
  {
   "cell_type": "code",
   "execution_count": 27,
   "metadata": {},
   "outputs": [
    {
     "name": "stdout",
     "output_type": "stream",
     "text": [
      "   1/1785 [..............................] - ETA: 48s"
     ]
    },
    {
     "name": "stdout",
     "output_type": "stream",
     "text": [
      "1785/1785 [==============================] - 23s 13ms/step\n"
     ]
    },
    {
     "data": {
      "image/png": "[encoded data removed]",
      "text/plain": [
       "<Figure size 640x480 with 1 Axes>"
      ]
     },
     "metadata": {},
     "output_type": "display_data"
    },
    {
     "ename": "KeyError",
     "evalue": "-1",
     "output_type": "error",
     "traceback": [
      "\u001b[1;31m---------------------------------------------------------------------------\u001b[0m",
      "\u001b[1;31mKeyError\u001b[0m                                  Traceback (most recent call last)",
      "File \u001b[1;32mc:\\Users\\PC\\anaconda3\\envs\\dl_dev_gpu\\lib\\site-packages\\pandas\\core\\indexes\\base.py:3652\u001b[0m, in \u001b[0;36mIndex.get_loc\u001b[1;34m(self, key)\u001b[0m\n\u001b[0;32m   3651\u001b[0m \u001b[39mtry\u001b[39;00m:\n\u001b[1;32m-> 3652\u001b[0m     \u001b[39mreturn\u001b[39;00m \u001b[39mself\u001b[39;49m\u001b[39m.\u001b[39;49m_engine\u001b[39m.\u001b[39;49mget_loc(casted_key)\n\u001b[0;32m   3653\u001b[0m \u001b[39mexcept\u001b[39;00m \u001b[39mKeyError\u001b[39;00m \u001b[39mas\u001b[39;00m err:\n",
      "File \u001b[1;32mc:\\Users\\PC\\anaconda3\\envs\\dl_dev_gpu\\lib\\site-packages\\pandas\\_libs\\index.pyx:147\u001b[0m, in \u001b[0;36mpandas._libs.index.IndexEngine.get_loc\u001b[1;34m()\u001b[0m\n",
      "File \u001b[1;32mc:\\Users\\PC\\anaconda3\\envs\\dl_dev_gpu\\lib\\site-packages\\pandas\\_libs\\index.pyx:171\u001b[0m, in \u001b[0;36mpandas._libs.index.IndexEngine.get_loc\u001b[1;34m()\u001b[0m\n",
      "File \u001b[1;32mc:\\Users\\PC\\anaconda3\\envs\\dl_dev_gpu\\lib\\site-packages\\pandas\\_libs\\index.pyx:208\u001b[0m, in \u001b[0;36mpandas._libs.index.IndexEngine._get_loc_duplicates\u001b[1;34m()\u001b[0m\n",
      "\u001b[1;31mKeyError\u001b[0m: -1",
      "\nThe above exception was the direct cause of the following exception:\n",
      "\u001b[1;31mKeyError\u001b[0m                                  Traceback (most recent call last)",
      "Cell \u001b[1;32mIn[27], line 12\u001b[0m\n\u001b[0;32m      9\u001b[0m plt\u001b[39m.\u001b[39mlegend()\n\u001b[0;32m     10\u001b[0m plt\u001b[39m.\u001b[39mshow()\n\u001b[1;32m---> 12\u001b[0m \u001b[39mprint\u001b[39m(\u001b[39m\"\u001b[39m\u001b[39m내일 SEC 주가 :\u001b[39m\u001b[39m\"\u001b[39m, dfy\u001b[39m.\u001b[39;49m종가[\u001b[39m-\u001b[39;49m\u001b[39m1\u001b[39;49m] \u001b[39m*\u001b[39m pred_y[\u001b[39m-\u001b[39m\u001b[39m1\u001b[39m] \u001b[39m/\u001b[39m dfy\u001b[39m.\u001b[39m종가[\u001b[39m-\u001b[39m\u001b[39m1\u001b[39m], \u001b[39m'\u001b[39m\u001b[39mKRW\u001b[39m\u001b[39m'\u001b[39m)\n",
      "File \u001b[1;32mc:\\Users\\PC\\anaconda3\\envs\\dl_dev_gpu\\lib\\site-packages\\pandas\\core\\series.py:1007\u001b[0m, in \u001b[0;36mSeries.__getitem__\u001b[1;34m(self, key)\u001b[0m\n\u001b[0;32m   1004\u001b[0m     \u001b[39mreturn\u001b[39;00m \u001b[39mself\u001b[39m\u001b[39m.\u001b[39m_values[key]\n\u001b[0;32m   1006\u001b[0m \u001b[39melif\u001b[39;00m key_is_scalar:\n\u001b[1;32m-> 1007\u001b[0m     \u001b[39mreturn\u001b[39;00m \u001b[39mself\u001b[39;49m\u001b[39m.\u001b[39;49m_get_value(key)\n\u001b[0;32m   1009\u001b[0m \u001b[39mif\u001b[39;00m is_hashable(key):\n\u001b[0;32m   1010\u001b[0m     \u001b[39m# Otherwise index.get_value will raise InvalidIndexError\u001b[39;00m\n\u001b[0;32m   1011\u001b[0m     \u001b[39mtry\u001b[39;00m:\n\u001b[0;32m   1012\u001b[0m         \u001b[39m# For labels that don't resolve as scalars like tuples and frozensets\u001b[39;00m\n",
      "File \u001b[1;32mc:\\Users\\PC\\anaconda3\\envs\\dl_dev_gpu\\lib\\site-packages\\pandas\\core\\series.py:1116\u001b[0m, in \u001b[0;36mSeries._get_value\u001b[1;34m(self, label, takeable)\u001b[0m\n\u001b[0;32m   1113\u001b[0m     \u001b[39mreturn\u001b[39;00m \u001b[39mself\u001b[39m\u001b[39m.\u001b[39m_values[label]\n\u001b[0;32m   1115\u001b[0m \u001b[39m# Similar to Index.get_value, but we do not fall back to positional\u001b[39;00m\n\u001b[1;32m-> 1116\u001b[0m loc \u001b[39m=\u001b[39m \u001b[39mself\u001b[39;49m\u001b[39m.\u001b[39;49mindex\u001b[39m.\u001b[39;49mget_loc(label)\n\u001b[0;32m   1118\u001b[0m \u001b[39mif\u001b[39;00m is_integer(loc):\n\u001b[0;32m   1119\u001b[0m     \u001b[39mreturn\u001b[39;00m \u001b[39mself\u001b[39m\u001b[39m.\u001b[39m_values[loc]\n",
      "File \u001b[1;32mc:\\Users\\PC\\anaconda3\\envs\\dl_dev_gpu\\lib\\site-packages\\pandas\\core\\indexes\\base.py:3654\u001b[0m, in \u001b[0;36mIndex.get_loc\u001b[1;34m(self, key)\u001b[0m\n\u001b[0;32m   3652\u001b[0m     \u001b[39mreturn\u001b[39;00m \u001b[39mself\u001b[39m\u001b[39m.\u001b[39m_engine\u001b[39m.\u001b[39mget_loc(casted_key)\n\u001b[0;32m   3653\u001b[0m \u001b[39mexcept\u001b[39;00m \u001b[39mKeyError\u001b[39;00m \u001b[39mas\u001b[39;00m err:\n\u001b[1;32m-> 3654\u001b[0m     \u001b[39mraise\u001b[39;00m \u001b[39mKeyError\u001b[39;00m(key) \u001b[39mfrom\u001b[39;00m \u001b[39merr\u001b[39;00m\n\u001b[0;32m   3655\u001b[0m \u001b[39mexcept\u001b[39;00m \u001b[39mTypeError\u001b[39;00m:\n\u001b[0;32m   3656\u001b[0m     \u001b[39m# If we have a listlike key, _check_indexing_error will raise\u001b[39;00m\n\u001b[0;32m   3657\u001b[0m     \u001b[39m#  InvalidIndexError. Otherwise we fall through and re-raise\u001b[39;00m\n\u001b[0;32m   3658\u001b[0m     \u001b[39m#  the TypeError.\u001b[39;00m\n\u001b[0;32m   3659\u001b[0m     \u001b[39mself\u001b[39m\u001b[39m.\u001b[39m_check_indexing_error(key)\n",
      "\u001b[1;31mKeyError\u001b[0m: -1"
     ]
    }
   ],
   "source": [
    "pred_y = model.predict(test_X)\n",
    "\n",
    "plt.figure()\n",
    "plt.plot(test_y, color='red', label='실제 stock price')\n",
    "plt.plot(pred_y, color='blue', label='예상 stock price')\n",
    "plt.title('SEC stock price prediction')\n",
    "plt.xlabel('time')\n",
    "plt.ylabel('stock price')\n",
    "plt.legend()\n",
    "plt.show()\n",
    "\n",
    "print(\"내일 SEC 주가 :\", dfy.종가[-1] * pred_y[-1] / dfy.종가[-1], 'KRW')"
   ]
  },
  {
   "cell_type": "code",
   "execution_count": null,
   "metadata": {},
   "outputs": [],
   "source": []
  },
  {
   "cell_type": "code",
   "execution_count": null,
   "metadata": {},
   "outputs": [],
   "source": []
  },
  {
   "cell_type": "code",
   "execution_count": null,
   "metadata": {},
   "outputs": [],
   "source": []
  },
  {
   "cell_type": "code",
   "execution_count": 12,
   "metadata": {},
   "outputs": [
    {
     "data": {
      "text/html": [
       "<div>\n",
       "<style scoped>\n",
       "    .dataframe tbody tr th:only-of-type {\n",
       "        vertical-align: middle;\n",
       "    }\n",
       "\n",
       "    .dataframe tbody tr th {\n",
       "        vertical-align: top;\n",
       "    }\n",
       "\n",
       "    .dataframe thead th {\n",
       "        text-align: right;\n",
       "    }\n",
       "</style>\n",
       "<table border=\"1\" class=\"dataframe\">\n",
       "  <thead>\n",
       "    <tr style=\"text-align: right;\">\n",
       "      <th></th>\n",
       "      <th>시가</th>\n",
       "      <th>고가</th>\n",
       "      <th>저가</th>\n",
       "      <th>종가</th>\n",
       "      <th>거래량</th>\n",
       "    </tr>\n",
       "    <tr>\n",
       "      <th>날짜</th>\n",
       "      <th></th>\n",
       "      <th></th>\n",
       "      <th></th>\n",
       "      <th></th>\n",
       "      <th></th>\n",
       "    </tr>\n",
       "  </thead>\n",
       "  <tbody>\n",
       "    <tr>\n",
       "      <th>20210616</th>\n",
       "      <td>0.901478</td>\n",
       "      <td>0.909241</td>\n",
       "      <td>0.900662</td>\n",
       "      <td>0.900662</td>\n",
       "      <td>0.002685</td>\n",
       "    </tr>\n",
       "    <tr>\n",
       "      <th>20210616</th>\n",
       "      <td>0.893268</td>\n",
       "      <td>0.900990</td>\n",
       "      <td>0.900662</td>\n",
       "      <td>0.900662</td>\n",
       "      <td>0.002796</td>\n",
       "    </tr>\n",
       "    <tr>\n",
       "      <th>20210616</th>\n",
       "      <td>0.893268</td>\n",
       "      <td>0.900990</td>\n",
       "      <td>0.900662</td>\n",
       "      <td>0.908940</td>\n",
       "      <td>0.002889</td>\n",
       "    </tr>\n",
       "    <tr>\n",
       "      <th>20210616</th>\n",
       "      <td>0.901478</td>\n",
       "      <td>0.900990</td>\n",
       "      <td>0.900662</td>\n",
       "      <td>0.908940</td>\n",
       "      <td>0.003089</td>\n",
       "    </tr>\n",
       "    <tr>\n",
       "      <th>20210616</th>\n",
       "      <td>0.901478</td>\n",
       "      <td>0.900990</td>\n",
       "      <td>0.900662</td>\n",
       "      <td>0.900662</td>\n",
       "      <td>0.007865</td>\n",
       "    </tr>\n",
       "    <tr>\n",
       "      <th>...</th>\n",
       "      <td>...</td>\n",
       "      <td>...</td>\n",
       "      <td>...</td>\n",
       "      <td>...</td>\n",
       "      <td>...</td>\n",
       "    </tr>\n",
       "    <tr>\n",
       "      <th>20230623</th>\n",
       "      <td>0.665025</td>\n",
       "      <td>0.665017</td>\n",
       "      <td>0.668874</td>\n",
       "      <td>0.672185</td>\n",
       "      <td>0.110233</td>\n",
       "    </tr>\n",
       "    <tr>\n",
       "      <th>20230623</th>\n",
       "      <td>0.665025</td>\n",
       "      <td>0.668317</td>\n",
       "      <td>0.670530</td>\n",
       "      <td>0.670530</td>\n",
       "      <td>0.111077</td>\n",
       "    </tr>\n",
       "    <tr>\n",
       "      <th>20230623</th>\n",
       "      <td>0.666667</td>\n",
       "      <td>0.666667</td>\n",
       "      <td>0.670530</td>\n",
       "      <td>0.672185</td>\n",
       "      <td>0.111398</td>\n",
       "    </tr>\n",
       "    <tr>\n",
       "      <th>20230623</th>\n",
       "      <td>0.666667</td>\n",
       "      <td>0.666667</td>\n",
       "      <td>0.670530</td>\n",
       "      <td>0.672185</td>\n",
       "      <td>0.111637</td>\n",
       "    </tr>\n",
       "    <tr>\n",
       "      <th>20230623</th>\n",
       "      <td>0.665025</td>\n",
       "      <td>0.663366</td>\n",
       "      <td>0.670530</td>\n",
       "      <td>0.670530</td>\n",
       "      <td>0.111637</td>\n",
       "    </tr>\n",
       "  </tbody>\n",
       "</table>\n",
       "<p>190379 rows × 5 columns</p>\n",
       "</div>"
      ],
      "text/plain": [
       "                시가        고가        저가        종가       거래량\n",
       "날짜                                                        \n",
       "20210616  0.901478  0.909241  0.900662  0.900662  0.002685\n",
       "20210616  0.893268  0.900990  0.900662  0.900662  0.002796\n",
       "20210616  0.893268  0.900990  0.900662  0.908940  0.002889\n",
       "20210616  0.901478  0.900990  0.900662  0.908940  0.003089\n",
       "20210616  0.901478  0.900990  0.900662  0.900662  0.007865\n",
       "...            ...       ...       ...       ...       ...\n",
       "20230623  0.665025  0.665017  0.668874  0.672185  0.110233\n",
       "20230623  0.665025  0.668317  0.670530  0.670530  0.111077\n",
       "20230623  0.666667  0.666667  0.670530  0.672185  0.111398\n",
       "20230623  0.666667  0.666667  0.670530  0.672185  0.111637\n",
       "20230623  0.665025  0.663366  0.670530  0.670530  0.111637\n",
       "\n",
       "[190379 rows x 5 columns]"
      ]
     },
     "execution_count": 12,
     "metadata": {},
     "output_type": "execute_result"
    }
   ],
   "source": [
    "hi"
   ]
  },
  {
   "cell_type": "code",
   "execution_count": null,
   "metadata": {},
   "outputs": [],
   "source": []
  },
  {
   "cell_type": "code",
   "execution_count": null,
   "metadata": {},
   "outputs": [],
   "source": []
  },
  {
   "cell_type": "code",
   "execution_count": null,
   "metadata": {},
   "outputs": [],
   "source": []
  },
  {
   "cell_type": "code",
   "execution_count": null,
   "metadata": {},
   "outputs": [],
   "source": []
  },
  {
   "cell_type": "code",
   "execution_count": null,
   "metadata": {},
   "outputs": [],
   "source": []
  },
  {
   "cell_type": "code",
   "execution_count": null,
   "metadata": {},
   "outputs": [],
   "source": []
  },
  {
   "cell_type": "code",
   "execution_count": null,
   "metadata": {},
   "outputs": [],
   "source": []
  },
  {
   "cell_type": "code",
   "execution_count": null,
   "metadata": {},
   "outputs": [],
   "source": []
  },
  {
   "cell_type": "code",
   "execution_count": null,
   "metadata": {},
   "outputs": [],
   "source": []
  },
  {
   "cell_type": "code",
   "execution_count": null,
   "metadata": {},
   "outputs": [],
   "source": []
  },
  {
   "cell_type": "code",
   "execution_count": 10,
   "metadata": {},
   "outputs": [],
   "source": [
    "def MinMaxScaler(data):\n",
    "\n",
    "    numerator = data - np.min(data, 0)\n",
    "\n",
    "    denominator = np.max(data, 0) - np.min(data, 0)\n",
    "\n",
    "    return numerator / (denominator + 1e-7)\n",
    "\n",
    "hi = hi[['시가','고가','저가','종가', '거래량']]\n",
    "\n",
    "hi = MinMaxScaler(hi)"
   ]
  },
  {
   "cell_type": "code",
   "execution_count": 11,
   "metadata": {},
   "outputs": [
    {
     "data": {
      "text/html": [
       "<div>\n",
       "<style scoped>\n",
       "    .dataframe tbody tr th:only-of-type {\n",
       "        vertical-align: middle;\n",
       "    }\n",
       "\n",
       "    .dataframe tbody tr th {\n",
       "        vertical-align: top;\n",
       "    }\n",
       "\n",
       "    .dataframe thead th {\n",
       "        text-align: right;\n",
       "    }\n",
       "</style>\n",
       "<table border=\"1\" class=\"dataframe\">\n",
       "  <thead>\n",
       "    <tr style=\"text-align: right;\">\n",
       "      <th></th>\n",
       "      <th>시가</th>\n",
       "      <th>고가</th>\n",
       "      <th>저가</th>\n",
       "      <th>종가</th>\n",
       "      <th>거래량</th>\n",
       "    </tr>\n",
       "    <tr>\n",
       "      <th>날짜</th>\n",
       "      <th></th>\n",
       "      <th></th>\n",
       "      <th></th>\n",
       "      <th></th>\n",
       "      <th></th>\n",
       "    </tr>\n",
       "  </thead>\n",
       "  <tbody>\n",
       "    <tr>\n",
       "      <th>20210616</th>\n",
       "      <td>0.901478</td>\n",
       "      <td>0.909241</td>\n",
       "      <td>0.900662</td>\n",
       "      <td>0.900662</td>\n",
       "      <td>0.002685</td>\n",
       "    </tr>\n",
       "    <tr>\n",
       "      <th>20210616</th>\n",
       "      <td>0.893268</td>\n",
       "      <td>0.900990</td>\n",
       "      <td>0.900662</td>\n",
       "      <td>0.900662</td>\n",
       "      <td>0.002796</td>\n",
       "    </tr>\n",
       "    <tr>\n",
       "      <th>20210616</th>\n",
       "      <td>0.893268</td>\n",
       "      <td>0.900990</td>\n",
       "      <td>0.900662</td>\n",
       "      <td>0.908940</td>\n",
       "      <td>0.002889</td>\n",
       "    </tr>\n",
       "    <tr>\n",
       "      <th>20210616</th>\n",
       "      <td>0.901478</td>\n",
       "      <td>0.900990</td>\n",
       "      <td>0.900662</td>\n",
       "      <td>0.908940</td>\n",
       "      <td>0.003089</td>\n",
       "    </tr>\n",
       "    <tr>\n",
       "      <th>20210616</th>\n",
       "      <td>0.901478</td>\n",
       "      <td>0.900990</td>\n",
       "      <td>0.900662</td>\n",
       "      <td>0.900662</td>\n",
       "      <td>0.007865</td>\n",
       "    </tr>\n",
       "    <tr>\n",
       "      <th>...</th>\n",
       "      <td>...</td>\n",
       "      <td>...</td>\n",
       "      <td>...</td>\n",
       "      <td>...</td>\n",
       "      <td>...</td>\n",
       "    </tr>\n",
       "    <tr>\n",
       "      <th>20230623</th>\n",
       "      <td>0.665025</td>\n",
       "      <td>0.665017</td>\n",
       "      <td>0.668874</td>\n",
       "      <td>0.672185</td>\n",
       "      <td>0.110233</td>\n",
       "    </tr>\n",
       "    <tr>\n",
       "      <th>20230623</th>\n",
       "      <td>0.665025</td>\n",
       "      <td>0.668317</td>\n",
       "      <td>0.670530</td>\n",
       "      <td>0.670530</td>\n",
       "      <td>0.111077</td>\n",
       "    </tr>\n",
       "    <tr>\n",
       "      <th>20230623</th>\n",
       "      <td>0.666667</td>\n",
       "      <td>0.666667</td>\n",
       "      <td>0.670530</td>\n",
       "      <td>0.672185</td>\n",
       "      <td>0.111398</td>\n",
       "    </tr>\n",
       "    <tr>\n",
       "      <th>20230623</th>\n",
       "      <td>0.666667</td>\n",
       "      <td>0.666667</td>\n",
       "      <td>0.670530</td>\n",
       "      <td>0.672185</td>\n",
       "      <td>0.111637</td>\n",
       "    </tr>\n",
       "    <tr>\n",
       "      <th>20230623</th>\n",
       "      <td>0.665025</td>\n",
       "      <td>0.663366</td>\n",
       "      <td>0.670530</td>\n",
       "      <td>0.670530</td>\n",
       "      <td>0.111637</td>\n",
       "    </tr>\n",
       "  </tbody>\n",
       "</table>\n",
       "<p>190379 rows × 5 columns</p>\n",
       "</div>"
      ],
      "text/plain": [
       "                시가        고가        저가        종가       거래량\n",
       "날짜                                                        \n",
       "20210616  0.901478  0.909241  0.900662  0.900662  0.002685\n",
       "20210616  0.893268  0.900990  0.900662  0.900662  0.002796\n",
       "20210616  0.893268  0.900990  0.900662  0.908940  0.002889\n",
       "20210616  0.901478  0.900990  0.900662  0.908940  0.003089\n",
       "20210616  0.901478  0.900990  0.900662  0.900662  0.007865\n",
       "...            ...       ...       ...       ...       ...\n",
       "20230623  0.665025  0.665017  0.668874  0.672185  0.110233\n",
       "20230623  0.665025  0.668317  0.670530  0.670530  0.111077\n",
       "20230623  0.666667  0.666667  0.670530  0.672185  0.111398\n",
       "20230623  0.666667  0.666667  0.670530  0.672185  0.111637\n",
       "20230623  0.665025  0.663366  0.670530  0.670530  0.111637\n",
       "\n",
       "[190379 rows x 5 columns]"
      ]
     },
     "execution_count": 11,
     "metadata": {},
     "output_type": "execute_result"
    }
   ],
   "source": [
    "hi"
   ]
  },
  {
   "cell_type": "code",
   "execution_count": null,
   "metadata": {},
   "outputs": [],
   "source": [
    "import pandas as pd\n",
    "from sklearn.model_selection import train_test_split\n",
    "\n",
    "data = hi\n",
    "X = data.iloc[:, :]\n",
    "y = data.iloc[:, :]\n",
    "\n",
    "X_train, X_test, y_train, y_test = train_test_split(X, y, test_size=0.2)"
   ]
  },
  {
   "cell_type": "code",
   "execution_count": null,
   "metadata": {},
   "outputs": [],
   "source": [
    "from tensorflow.keras import Sequential\n",
    "from tensorflow.keras.layers import Dense, LSTM, Dropout"
   ]
  },
  {
   "cell_type": "code",
   "execution_count": null,
   "metadata": {},
   "outputs": [],
   "source": [
    "model = Sequential()\n",
    "\n",
    "model.add(LSTM(units=20, activation='relu', return_sequences=True, input_shape=(0, 152303 , 5)))\n",
    "\n",
    "model.add(Dropout(0.5))\n",
    "\n",
    "model.add(LSTM(units=20, activation='relu'))\n",
    "\n",
    "model.add(Dropout(0.5))\n",
    "\n",
    "model.add(Dense(units=1))\n",
    "\n",
    "model.summary()"
   ]
  },
  {
   "cell_type": "code",
   "execution_count": null,
   "metadata": {},
   "outputs": [],
   "source": [
    "# X_train = np.reshape(X_train, (X_train.shape[152303], 20, 4))\n",
    "\n",
    "model.compile(optimizer='adam', loss='mean_squared_error')\n",
    "\n",
    "model.fit(X_train, y_train, epochs=10, batch_size=40)\n",
    "\n",
    "y_pred = model.predict(X_test)"
   ]
  },
  {
   "cell_type": "code",
   "execution_count": null,
   "metadata": {},
   "outputs": [],
   "source": [
    "y_pred = model.predict(X_test)\n",
    "\n",
    "\n",
    "plt.figure()\n",
    "\n",
    "plt.plot(y_test, color='red', label='real SPY stock price')\n",
    "\n",
    "plt.plot(y_pred, color='blue', label='predicted SPY stock price')\n",
    "\n",
    "plt.title('SPY stock price prediction')\n",
    "\n",
    "plt.xlabel('time')\n",
    "\n",
    "plt.ylabel('stock price')\n",
    "\n",
    "plt.legend()\n",
    "\n",
    "plt.show()\n",
    "\n",
    "\n",
    "print(\"내일 SPY 주가 :\", hi.종가[-1] * y_pred[-1] / hi.종가[-1])"
   ]
  },
  {
   "cell_type": "code",
   "execution_count": null,
   "metadata": {},
   "outputs": [],
   "source": []
  },
  {
   "cell_type": "code",
   "execution_count": null,
   "metadata": {},
   "outputs": [],
   "source": []
  },
  {
   "cell_type": "code",
   "execution_count": null,
   "metadata": {},
   "outputs": [],
   "source": []
  },
  {
   "cell_type": "code",
   "execution_count": null,
   "metadata": {},
   "outputs": [],
   "source": []
  },
  {
   "cell_type": "code",
   "execution_count": null,
   "metadata": {},
   "outputs": [],
   "source": [
    "fig = plt.figure(figsize=(20,12))\n",
    "ax = fig.add_subplot(1,1,1)\n",
    "\n",
    "ax.plot(hi['고가'], label='hi', color='b')\n",
    "\n",
    "ax.set_ylabel('price')\n",
    "ax.set_xlabel('Date')\n",
    "\n",
    "plt.show()"
   ]
  },
  {
   "cell_type": "code",
   "execution_count": null,
   "metadata": {},
   "outputs": [],
   "source": [
    "from keras. layers import LSTM"
   ]
  },
  {
   "cell_type": "code",
   "execution_count": null,
   "metadata": {},
   "outputs": [],
   "source": [
    "import tensorflow as tf\n",
    "import keras"
   ]
  },
  {
   "cell_type": "code",
   "execution_count": null,
   "metadata": {},
   "outputs": [],
   "source": [
    "original_open = hi['시가'].values\n",
    "\n",
    "date = pd.to_datetime(hi['날짜'])"
   ]
  },
  {
   "cell_type": "code",
   "execution_count": null,
   "metadata": {},
   "outputs": [],
   "source": [
    "cols = list(hi)[4:8]\n",
    "\n",
    "hi = hi[cols]. astype(float)"
   ]
  },
  {
   "cell_type": "code",
   "execution_count": null,
   "metadata": {},
   "outputs": [],
   "source": [
    "from sklearn.preprocessing import StandardScaler\n",
    "\n",
    "scaler = StandardScaler()\n",
    "scaler = scaler.fit(hi)\n",
    "stock_data_scaled = scaler.transform(hi)"
   ]
  },
  {
   "cell_type": "code",
   "execution_count": null,
   "metadata": {},
   "outputs": [],
   "source": [
    "# split to train data and test data\n",
    "n_train = int(0.9*stock_data_scaled.shape[0])\n",
    "train_data_scaled = stock_data_scaled[0: n_train]\n",
    "train_dates = '날짜'[0: n_train]\n",
    "\n",
    "test_data_scaled = stock_data_scaled[n_train:]\n",
    "test_dates = '날짜'[n_train:]"
   ]
  },
  {
   "cell_type": "code",
   "execution_count": null,
   "metadata": {},
   "outputs": [],
   "source": [
    "# data reformatting for LSTM\n",
    "pred_days = 1  # prediction period\n",
    "seq_len = 14   # sequence length = past days for future prediction.\n",
    "input_dim = 4  # input_dimension = ['Open', 'High', 'Low', 'Close', 'Volume']\n",
    "\n",
    "trainX = []\n",
    "trainY = []\n",
    "testX = []\n",
    "testY = []\n",
    "\n",
    "for i in range(seq_len, n_train-pred_days +1):\n",
    "    trainX.append(train_data_scaled[i - seq_len:i, 0:train_data_scaled.shape[1]])\n",
    "    trainY.append(train_data_scaled[i + pred_days - 1:i + pred_days, 0])\n",
    "\n",
    "for i in range(seq_len, len(test_data_scaled)-pred_days +1):\n",
    "    testX.append(test_data_scaled[i - seq_len:i, 0:test_data_scaled.shape[1]])\n",
    "    testY.append(test_data_scaled[i + pred_days - 1:i + pred_days, 0])\n",
    "\n",
    "trainX, trainY = np.array(trainX), np.array(trainY)\n",
    "testX, testY = np.array(testX), np.array(testY)"
   ]
  },
  {
   "cell_type": "code",
   "execution_count": null,
   "metadata": {},
   "outputs": [],
   "source": [
    "import numpy as np\n",
    "import pandas as pd\n",
    "from tensorflow.keras.models import Sequential\n",
    "from tensorflow.keras.layers import LSTM, Dense\n",
    "from tensorflow.keras.optimizers import Adam\n",
    "from sklearn.preprocessing import StandardScaler\n",
    "import matplotlib.pyplot as plt"
   ]
  },
  {
   "cell_type": "code",
   "execution_count": null,
   "metadata": {},
   "outputs": [],
   "source": [
    "# LSTM model\n",
    "model = Sequential()\n",
    "model.add(LSTM(64, input_shape=(trainX.shape[1], trainX.shape[2]), # (seq length, input dimension)\n",
    "               return_sequences=True))\n",
    "model.add(LSTM(32, return_sequences=False))\n",
    "model.add(Dense(trainY.shape[1]))\n",
    "list = []\n",
    "\n",
    "model.summary()"
   ]
  },
  {
   "cell_type": "code",
   "execution_count": null,
   "metadata": {},
   "outputs": [],
   "source": [
    "# specify your learning rate\n",
    "learning_rate = 0.01\n",
    "# create an Adam optimizer with the specified learning rate\n",
    "optimizer = Adam(learning_rate=learning_rate)\n",
    "# compile your model using the custom optimizer\n",
    "model.compile(optimizer=optimizer, loss='mse')"
   ]
  },
  {
   "cell_type": "code",
   "execution_count": null,
   "metadata": {},
   "outputs": [],
   "source": []
  },
  {
   "cell_type": "code",
   "execution_count": null,
   "metadata": {},
   "outputs": [],
   "source": []
  },
  {
   "cell_type": "code",
   "execution_count": null,
   "metadata": {},
   "outputs": [],
   "source": []
  },
  {
   "cell_type": "code",
   "execution_count": null,
   "metadata": {},
   "outputs": [],
   "source": [
    "fig = plt.figure(figsize=(20,12))\n",
    "ax = fig.add_subplot(1,1,1)\n",
    "\n",
    "\n",
    "trainX = []\n",
    "trainY = []\n",
    "testX = []\n",
    "testY = []\n",
    "\n",
    "# plt.show()"
   ]
  },
  {
   "cell_type": "code",
   "execution_count": null,
   "metadata": {},
   "outputs": [],
   "source": []
  },
  {
   "cell_type": "code",
   "execution_count": null,
   "metadata": {},
   "outputs": [],
   "source": [
    "import pandas as pd\n",
    "from sklearn.model_selection import train_test_split\n",
    "\n",
    "data = pd.read_csv('../../뉴스 데이터/stock/하이닉스주식.csv', encoding='cp949')\n",
    "X = data.iloc[:, :]\n",
    "y = data.iloc[:, :2]\n",
    "\n",
    "X_train, X_test, y_train, y_test = train_test_split(X, y, test_size=0.2)\n"
   ]
  },
  {
   "cell_type": "code",
   "execution_count": null,
   "metadata": {},
   "outputs": [],
   "source": []
  },
  {
   "cell_type": "code",
   "execution_count": null,
   "metadata": {},
   "outputs": [],
   "source": []
  },
  {
   "cell_type": "code",
   "execution_count": null,
   "metadata": {},
   "outputs": [],
   "source": []
  },
  {
   "cell_type": "code",
   "execution_count": null,
   "metadata": {},
   "outputs": [],
   "source": []
  },
  {
   "cell_type": "code",
   "execution_count": null,
   "metadata": {},
   "outputs": [],
   "source": []
  },
  {
   "cell_type": "code",
   "execution_count": null,
   "metadata": {},
   "outputs": [],
   "source": []
  },
  {
   "cell_type": "code",
   "execution_count": null,
   "metadata": {},
   "outputs": [],
   "source": []
  },
  {
   "cell_type": "code",
   "execution_count": null,
   "metadata": {},
   "outputs": [],
   "source": []
  },
  {
   "cell_type": "code",
   "execution_count": null,
   "metadata": {},
   "outputs": [],
   "source": []
  },
  {
   "cell_type": "code",
   "execution_count": null,
   "metadata": {},
   "outputs": [],
   "source": []
  },
  {
   "cell_type": "code",
   "execution_count": null,
   "metadata": {},
   "outputs": [],
   "source": []
  },
  {
   "cell_type": "code",
   "execution_count": null,
   "metadata": {},
   "outputs": [],
   "source": []
  },
  {
   "cell_type": "code",
   "execution_count": null,
   "metadata": {},
   "outputs": [],
   "source": []
  },
  {
   "cell_type": "code",
   "execution_count": null,
   "metadata": {},
   "outputs": [],
   "source": []
  },
  {
   "cell_type": "code",
   "execution_count": null,
   "metadata": {},
   "outputs": [],
   "source": []
  },
  {
   "cell_type": "code",
   "execution_count": null,
   "metadata": {},
   "outputs": [],
   "source": []
  },
  {
   "cell_type": "code",
   "execution_count": null,
   "metadata": {},
   "outputs": [],
   "source": []
  },
  {
   "cell_type": "code",
   "execution_count": null,
   "metadata": {},
   "outputs": [],
   "source": []
  },
  {
   "cell_type": "code",
   "execution_count": null,
   "metadata": {},
   "outputs": [],
   "source": []
  }
 ],
 "metadata": {
  "kernelspec": {
   "display_name": "pandas-dev",
   "language": "python",
   "name": "python3"
  },
  "language_info": {
   "codemirror_mode": {
    "name": "ipython",
    "version": 3
   },
   "file_extension": ".py",
   "mimetype": "text/x-python",
   "name": "python",
   "nbconvert_exporter": "python",
   "pygments_lexer": "ipython3",
   "version": "3.10.11"
  },
  "orig_nbformat": 4
 },
 "nbformat": 4,
 "nbformat_minor": 2
}
