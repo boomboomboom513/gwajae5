{
 "cells": [
  {
   "cell_type": "code",
   "execution_count": 34,
   "metadata": {},
   "outputs": [
    {
     "name": "stdout",
     "output_type": "stream",
     "text": [
      "<class 'pandas.core.frame.DataFrame'>\n",
      "RangeIndex: 879 entries, 0 to 878\n",
      "Data columns (total 2 columns):\n",
      " #   Column   Non-Null Count  Dtype \n",
      "---  ------   --------------  ----- \n",
      " 0   title    879 non-null    object\n",
      " 1   content  879 non-null    object\n",
      "dtypes: object(2)\n",
      "memory usage: 13.9+ KB\n"
     ]
    }
   ],
   "source": [
    "import pandas as pd\n",
    "\n",
    "train_df = pd.read_csv('하이닉스2.csv', encoding='utf8')\n",
    "train_df.head()\n",
    "\n",
    "# 훈련용 데이터 파일을 데이터 프레임 객체에 저장\n",
    "train_df.info()"
   ]
  },
  {
   "cell_type": "code",
   "execution_count": 35,
   "metadata": {},
   "outputs": [],
   "source": [
    "from sklearn.model_selection import train_test_split"
   ]
  },
  {
   "cell_type": "code",
   "execution_count": 36,
   "metadata": {},
   "outputs": [],
   "source": [
    "import pandas as pd\n",
    "from sklearn.model_selection import train_test_split\n",
    "\n",
    "data = pd.read_csv('하이닉스2.csv')\n",
    "X = data.iloc[:, :]\n",
    "y = data.iloc[:, :]\n",
    "\n",
    "X_train, X_test, y_train, y_test = train_test_split(X, y, test_size=0.2)\n"
   ]
  },
  {
   "cell_type": "code",
   "execution_count": 37,
   "metadata": {},
   "outputs": [
    {
     "name": "stdout",
     "output_type": "stream",
     "text": [
      "<class 'pandas.core.frame.DataFrame'>\n",
      "RangeIndex: 879 entries, 0 to 878\n",
      "Data columns (total 2 columns):\n",
      " #   Column   Non-Null Count  Dtype \n",
      "---  ------   --------------  ----- \n",
      " 0   title    879 non-null    object\n",
      " 1   content  879 non-null    object\n",
      "dtypes: object(2)\n",
      "memory usage: 13.9+ KB\n"
     ]
    }
   ],
   "source": [
    "y.info()"
   ]
  },
  {
   "cell_type": "code",
   "execution_count": 38,
   "metadata": {},
   "outputs": [
    {
     "name": "stdout",
     "output_type": "stream",
     "text": [
      "<class 'pandas.core.frame.DataFrame'>\n",
      "Index: 703 entries, 577 to 494\n",
      "Data columns (total 2 columns):\n",
      " #   Column   Non-Null Count  Dtype \n",
      "---  ------   --------------  ----- \n",
      " 0   title    703 non-null    object\n",
      " 1   content  703 non-null    object\n",
      "dtypes: object(2)\n",
      "memory usage: 16.5+ KB\n",
      "<class 'pandas.core.frame.DataFrame'>\n",
      "Index: 176 entries, 126 to 433\n",
      "Data columns (total 2 columns):\n",
      " #   Column   Non-Null Count  Dtype \n",
      "---  ------   --------------  ----- \n",
      " 0   title    176 non-null    object\n",
      " 1   content  176 non-null    object\n",
      "dtypes: object(2)\n",
      "memory usage: 4.1+ KB\n"
     ]
    },
    {
     "data": {
      "text/plain": [
       "(None, None)"
      ]
     },
     "execution_count": 38,
     "metadata": {},
     "output_type": "execute_result"
    }
   ],
   "source": [
    "X_train.info(), X_test.info() "
   ]
  },
  {
   "cell_type": "code",
   "execution_count": 45,
   "metadata": {},
   "outputs": [],
   "source": [
    "X_train = X_train[X_train['content'].notnull()]"
   ]
  },
  {
   "cell_type": "code",
   "execution_count": 46,
   "metadata": {},
   "outputs": [
    {
     "data": {
      "text/html": [
       "<div>\n",
       "<style scoped>\n",
       "    .dataframe tbody tr th:only-of-type {\n",
       "        vertical-align: middle;\n",
       "    }\n",
       "\n",
       "    .dataframe tbody tr th {\n",
       "        vertical-align: top;\n",
       "    }\n",
       "\n",
       "    .dataframe thead th {\n",
       "        text-align: right;\n",
       "    }\n",
       "</style>\n",
       "<table border=\"1\" class=\"dataframe\">\n",
       "  <thead>\n",
       "    <tr style=\"text-align: right;\">\n",
       "      <th></th>\n",
       "      <th>title</th>\n",
       "      <th>content</th>\n",
       "    </tr>\n",
       "  </thead>\n",
       "  <tbody>\n",
       "    <tr>\n",
       "      <th>577</th>\n",
       "      <td>중국, 마이크론 제재는 삼성·SK하이닉스에 대한 경고</td>\n",
       "      <td>이미지 트위터중국의 마이크론 제품 사용금지 조치는 본보기를 보임으로써 외국기업  ...</td>\n",
       "    </tr>\n",
       "    <tr>\n",
       "      <th>583</th>\n",
       "      <td>미·중 ‘반도체 전쟁’ 격화… 삼성·하이닉스 ‘진퇴양난’</td>\n",
       "      <td>마이크론 판금   에 맞불 는 한국에  공백 메우지 말라 양사  미 중 사이 ...</td>\n",
       "    </tr>\n",
       "    <tr>\n",
       "      <th>570</th>\n",
       "      <td>[이슈진단+] 美의회 \"韓, 마이크론 빈자리 채우지마\"...고래싸움에 낀 삼성·SK...</td>\n",
       "      <td>이슈진단    마이크론 제재 미 중 반도체 전쟁에 진퇴양난중국이 미국 반도체 기업...</td>\n",
       "    </tr>\n",
       "    <tr>\n",
       "      <th>120</th>\n",
       "      <td>코스피 상승 출발‥삼성전자, SK하이닉스 약세</td>\n",
       "      <td>뉴스 지난밤 미국 증시가 일제히 상승세로 마감한 가운데 국내 증시로 오름세로 출발...</td>\n",
       "    </tr>\n",
       "    <tr>\n",
       "      <th>470</th>\n",
       "      <td>“SK하이닉스 상승세 시작에 불과?” 세계서 가장 빠른 ‘신무기’ 예고에 시선 집중...</td>\n",
       "      <td>세계 최초  나노급  세대   데이터센터 검증  초에 풀  영화  편 처리하는 현...</td>\n",
       "    </tr>\n",
       "  </tbody>\n",
       "</table>\n",
       "</div>"
      ],
      "text/plain": [
       "                                                 title   \n",
       "577                      중국, 마이크론 제재는 삼성·SK하이닉스에 대한 경고  \\\n",
       "583                    미·중 ‘반도체 전쟁’ 격화… 삼성·하이닉스 ‘진퇴양난’   \n",
       "570  [이슈진단+] 美의회 \"韓, 마이크론 빈자리 채우지마\"...고래싸움에 낀 삼성·SK...   \n",
       "120                          코스피 상승 출발‥삼성전자, SK하이닉스 약세   \n",
       "470  “SK하이닉스 상승세 시작에 불과?” 세계서 가장 빠른 ‘신무기’ 예고에 시선 집중...   \n",
       "\n",
       "                                               content  \n",
       "577   이미지 트위터중국의 마이크론 제품 사용금지 조치는 본보기를 보임으로써 외국기업  ...  \n",
       "583     마이크론 판금   에 맞불 는 한국에  공백 메우지 말라 양사  미 중 사이 ...  \n",
       "570   이슈진단    마이크론 제재 미 중 반도체 전쟁에 진퇴양난중국이 미국 반도체 기업...  \n",
       "120   뉴스 지난밤 미국 증시가 일제히 상승세로 마감한 가운데 국내 증시로 오름세로 출발...  \n",
       "470   세계 최초  나노급  세대   데이터센터 검증  초에 풀  영화  편 처리하는 현...  "
      ]
     },
     "execution_count": 46,
     "metadata": {},
     "output_type": "execute_result"
    }
   ],
   "source": [
    "import re\n",
    "\n",
    "X_train['content'] = X_train['content'].apply(lambda x : re.sub(r'[^ ㄱ-ㅣ가-힣]+', \" \", x))\n",
    "X_train.head()"
   ]
  },
  {
   "cell_type": "code",
   "execution_count": 47,
   "metadata": {},
   "outputs": [
    {
     "data": {
      "text/html": [
       "<div>\n",
       "<style scoped>\n",
       "    .dataframe tbody tr th:only-of-type {\n",
       "        vertical-align: middle;\n",
       "    }\n",
       "\n",
       "    .dataframe tbody tr th {\n",
       "        vertical-align: top;\n",
       "    }\n",
       "\n",
       "    .dataframe thead th {\n",
       "        text-align: right;\n",
       "    }\n",
       "</style>\n",
       "<table border=\"1\" class=\"dataframe\">\n",
       "  <thead>\n",
       "    <tr style=\"text-align: right;\">\n",
       "      <th></th>\n",
       "      <th>title</th>\n",
       "      <th>content</th>\n",
       "    </tr>\n",
       "  </thead>\n",
       "  <tbody>\n",
       "    <tr>\n",
       "      <th>577</th>\n",
       "      <td>중국  마이크론 제재는 삼성 하이닉스에 대한 경고</td>\n",
       "      <td>이미지 트위터중국의 마이크론 제품 사용금지 조치는 본보기를 보임으로써 외국기업  ...</td>\n",
       "    </tr>\n",
       "    <tr>\n",
       "      <th>583</th>\n",
       "      <td>미 중  반도체 전쟁  격화  삼성 하이닉스  진퇴양난</td>\n",
       "      <td>마이크론 판금   에 맞불 는 한국에  공백 메우지 말라 양사  미 중 사이 ...</td>\n",
       "    </tr>\n",
       "    <tr>\n",
       "      <th>570</th>\n",
       "      <td>이슈진단   의회   마이크론 빈자리 채우지마 고래싸움에 낀 삼성 하이닉스</td>\n",
       "      <td>이슈진단    마이크론 제재 미 중 반도체 전쟁에 진퇴양난중국이 미국 반도체 기업...</td>\n",
       "    </tr>\n",
       "    <tr>\n",
       "      <th>120</th>\n",
       "      <td>코스피 상승 출발 삼성전자   하이닉스 약세</td>\n",
       "      <td>뉴스 지난밤 미국 증시가 일제히 상승세로 마감한 가운데 국내 증시로 오름세로 출발...</td>\n",
       "    </tr>\n",
       "    <tr>\n",
       "      <th>470</th>\n",
       "      <td>하이닉스 상승세 시작에 불과  세계서 가장 빠른  신무기  예고에 시선 집중  비즈</td>\n",
       "      <td>세계 최초  나노급  세대   데이터센터 검증  초에 풀  영화  편 처리하는 현...</td>\n",
       "    </tr>\n",
       "  </tbody>\n",
       "</table>\n",
       "</div>"
      ],
      "text/plain": [
       "                                                title   \n",
       "577                       중국  마이크론 제재는 삼성 하이닉스에 대한 경고  \\\n",
       "583                   미 중  반도체 전쟁  격화  삼성 하이닉스  진퇴양난    \n",
       "570         이슈진단   의회   마이크론 빈자리 채우지마 고래싸움에 낀 삼성 하이닉스   \n",
       "120                          코스피 상승 출발 삼성전자   하이닉스 약세   \n",
       "470   하이닉스 상승세 시작에 불과  세계서 가장 빠른  신무기  예고에 시선 집중  비즈    \n",
       "\n",
       "                                               content  \n",
       "577   이미지 트위터중국의 마이크론 제품 사용금지 조치는 본보기를 보임으로써 외국기업  ...  \n",
       "583     마이크론 판금   에 맞불 는 한국에  공백 메우지 말라 양사  미 중 사이 ...  \n",
       "570   이슈진단    마이크론 제재 미 중 반도체 전쟁에 진퇴양난중국이 미국 반도체 기업...  \n",
       "120   뉴스 지난밤 미국 증시가 일제히 상승세로 마감한 가운데 국내 증시로 오름세로 출발...  \n",
       "470   세계 최초  나노급  세대   데이터센터 검증  초에 풀  영화  편 처리하는 현...  "
      ]
     },
     "execution_count": 47,
     "metadata": {},
     "output_type": "execute_result"
    }
   ],
   "source": [
    "import re\n",
    "\n",
    "X_train['title'] = X_train['title'].apply(lambda x : re.sub(r'[^ ㄱ-ㅣ가-힣]+', \" \", x))\n",
    "X_train.head()"
   ]
  },
  {
   "cell_type": "code",
   "execution_count": 48,
   "metadata": {},
   "outputs": [
    {
     "name": "stderr",
     "output_type": "stream",
     "text": [
      "c:\\Users\\PC\\anaconda3\\envs\\pandas-dev\\lib\\site-packages\\sklearn\\feature_extraction\\text.py:528: UserWarning: The parameter 'token_pattern' will not be used since 'tokenizer' is not None'\n",
      "  warnings.warn(\n"
     ]
    }
   ],
   "source": [
    "from konlpy.tag import Okt\n",
    "okt = Okt()\n",
    "\n",
    "def okt_tokenizer(text):\n",
    "    tokens = okt.morphs(text) # 형태소 단위로 구분 분석\n",
    "    return tokens\n",
    "\n",
    "\n",
    "from sklearn.feature_extraction.text import TfidfVectorizer #TF-idf 기반 벡터화\n",
    "\n",
    "tfidf = TfidfVectorizer(tokenizer = okt_tokenizer, ngram_range=(1,2), min_df=3, max_df=0.9)\n",
    "tfidf.fit(train_df['content'])\n",
    "train_tfidf = tfidf.transform(train_df['content'])\n",
    "\n",
    "#전처리 - 토큰화 , Tf-idf 기반 벡터화\n"
   ]
  },
  {
   "cell_type": "code",
   "execution_count": 49,
   "metadata": {},
   "outputs": [],
   "source": [
    "from konlpy.tag import Okt\n",
    "okt = Okt()\n",
    "\n",
    "def okt_tokenizer(text):\n",
    "    tokens = okt.morphs(text) # 형태소 단위로 구분 분석\n",
    "    return tokens\n",
    "\n",
    "\n",
    "from sklearn.feature_extraction.text import TfidfVectorizer #TF-idf 기반 벡터화\n",
    "\n",
    "tfidf = TfidfVectorizer(tokenizer = okt_tokenizer, ngram_range=(1,2), min_df=3, max_df=0.9)\n",
    "tfidf.fit(train_df['title'])\n",
    "train_tfidf = tfidf.transform(train_df['title'])\n",
    "\n",
    "#전처리 - 토큰화 , Tf-idf 기반 벡터화\n"
   ]
  },
  {
   "attachments": {},
   "cell_type": "markdown",
   "metadata": {},
   "source": [
    "## Xtrain TF-IDF"
   ]
  },
  {
   "cell_type": "code",
   "execution_count": 50,
   "metadata": {},
   "outputs": [],
   "source": [
    "from konlpy.tag import Okt\n",
    "okt = Okt()\n",
    "\n",
    "def okt_tokenizer(text):\n",
    "    tokens = okt.morphs(text) # 형태소 단위로 구분 분석\n",
    "    return tokens\n",
    "\n",
    "\n",
    "from sklearn.feature_extraction.text import TfidfVectorizer #TF-idf 기반 벡터화\n",
    "\n",
    "tfidf = TfidfVectorizer(tokenizer = okt_tokenizer, ngram_range=(1,2), min_df=3, max_df=0.9)\n",
    "tfidf.fit(X_train['content'])\n",
    "train_tfidf = tfidf.transform(X_train['content'])\n",
    "\n",
    "#전처리 - 토큰화 , Tf-idf 기반 벡터화\n"
   ]
  },
  {
   "cell_type": "code",
   "execution_count": 51,
   "metadata": {},
   "outputs": [],
   "source": [
    "from konlpy.tag import Okt\n",
    "okt = Okt()\n",
    "\n",
    "def okt_tokenizer(text):\n",
    "    tokens = okt.morphs(text) # 형태소 단위로 구분 분석\n",
    "    return tokens\n",
    "\n",
    "\n",
    "from sklearn.feature_extraction.text import TfidfVectorizer #TF-idf 기반 벡터화\n",
    "\n",
    "tfidf = TfidfVectorizer(tokenizer = okt_tokenizer, ngram_range=(1,2), min_df=3, max_df=0.9)\n",
    "tfidf.fit(X_train['title'])\n",
    "train_tfidf = tfidf.transform(X_train['title'])\n",
    "\n",
    "#전처리 - 토큰화 , Tf-idf 기반 벡터화\n"
   ]
  },
  {
   "cell_type": "code",
   "execution_count": 55,
   "metadata": {},
   "outputs": [
    {
     "data": {
      "text/html": [
       "<style>#sk-container-id-2 {color: black;background-color: white;}#sk-container-id-2 pre{padding: 0;}#sk-container-id-2 div.sk-toggleable {background-color: white;}#sk-container-id-2 label.sk-toggleable__label {cursor: pointer;display: block;width: 100%;margin-bottom: 0;padding: 0.3em;box-sizing: border-box;text-align: center;}#sk-container-id-2 label.sk-toggleable__label-arrow:before {content: \"▸\";float: left;margin-right: 0.25em;color: #696969;}#sk-container-id-2 label.sk-toggleable__label-arrow:hover:before {color: black;}#sk-container-id-2 div.sk-estimator:hover label.sk-toggleable__label-arrow:before {color: black;}#sk-container-id-2 div.sk-toggleable__content {max-height: 0;max-width: 0;overflow: hidden;text-align: left;background-color: #f0f8ff;}#sk-container-id-2 div.sk-toggleable__content pre {margin: 0.2em;color: black;border-radius: 0.25em;background-color: #f0f8ff;}#sk-container-id-2 input.sk-toggleable__control:checked~div.sk-toggleable__content {max-height: 200px;max-width: 100%;overflow: auto;}#sk-container-id-2 input.sk-toggleable__control:checked~label.sk-toggleable__label-arrow:before {content: \"▾\";}#sk-container-id-2 div.sk-estimator input.sk-toggleable__control:checked~label.sk-toggleable__label {background-color: #d4ebff;}#sk-container-id-2 div.sk-label input.sk-toggleable__control:checked~label.sk-toggleable__label {background-color: #d4ebff;}#sk-container-id-2 input.sk-hidden--visually {border: 0;clip: rect(1px 1px 1px 1px);clip: rect(1px, 1px, 1px, 1px);height: 1px;margin: -1px;overflow: hidden;padding: 0;position: absolute;width: 1px;}#sk-container-id-2 div.sk-estimator {font-family: monospace;background-color: #f0f8ff;border: 1px dotted black;border-radius: 0.25em;box-sizing: border-box;margin-bottom: 0.5em;}#sk-container-id-2 div.sk-estimator:hover {background-color: #d4ebff;}#sk-container-id-2 div.sk-parallel-item::after {content: \"\";width: 100%;border-bottom: 1px solid gray;flex-grow: 1;}#sk-container-id-2 div.sk-label:hover label.sk-toggleable__label {background-color: #d4ebff;}#sk-container-id-2 div.sk-serial::before {content: \"\";position: absolute;border-left: 1px solid gray;box-sizing: border-box;top: 0;bottom: 0;left: 50%;z-index: 0;}#sk-container-id-2 div.sk-serial {display: flex;flex-direction: column;align-items: center;background-color: white;padding-right: 0.2em;padding-left: 0.2em;position: relative;}#sk-container-id-2 div.sk-item {position: relative;z-index: 1;}#sk-container-id-2 div.sk-parallel {display: flex;align-items: stretch;justify-content: center;background-color: white;position: relative;}#sk-container-id-2 div.sk-item::before, #sk-container-id-2 div.sk-parallel-item::before {content: \"\";position: absolute;border-left: 1px solid gray;box-sizing: border-box;top: 0;bottom: 0;left: 50%;z-index: -1;}#sk-container-id-2 div.sk-parallel-item {display: flex;flex-direction: column;z-index: 1;position: relative;background-color: white;}#sk-container-id-2 div.sk-parallel-item:first-child::after {align-self: flex-end;width: 50%;}#sk-container-id-2 div.sk-parallel-item:last-child::after {align-self: flex-start;width: 50%;}#sk-container-id-2 div.sk-parallel-item:only-child::after {width: 0;}#sk-container-id-2 div.sk-dashed-wrapped {border: 1px dashed gray;margin: 0 0.4em 0.5em 0.4em;box-sizing: border-box;padding-bottom: 0.4em;background-color: white;}#sk-container-id-2 div.sk-label label {font-family: monospace;font-weight: bold;display: inline-block;line-height: 1.2em;}#sk-container-id-2 div.sk-label-container {text-align: center;}#sk-container-id-2 div.sk-container {/* jupyter's `normalize.less` sets `[hidden] { display: none; }` but bootstrap.min.css set `[hidden] { display: none !important; }` so we also need the `!important` here to be able to override the default hidden behavior on the sphinx rendered scikit-learn.org. See: https://github.com/scikit-learn/scikit-learn/issues/21755 */display: inline-block !important;position: relative;}#sk-container-id-2 div.sk-text-repr-fallback {display: none;}</style><div id=\"sk-container-id-2\" class=\"sk-top-container\"><div class=\"sk-text-repr-fallback\"><pre>LogisticRegression(random_state=0)</pre><b>In a Jupyter environment, please rerun this cell to show the HTML representation or trust the notebook. <br />On GitHub, the HTML representation is unable to render, please try loading this page with nbviewer.org.</b></div><div class=\"sk-container\" hidden><div class=\"sk-item\"><div class=\"sk-estimator sk-toggleable\"><input class=\"sk-toggleable__control sk-hidden--visually\" id=\"sk-estimator-id-2\" type=\"checkbox\" checked><label for=\"sk-estimator-id-2\" class=\"sk-toggleable__label sk-toggleable__label-arrow\">LogisticRegression</label><div class=\"sk-toggleable__content\"><pre>LogisticRegression(random_state=0)</pre></div></div></div></div></div>"
      ],
      "text/plain": [
       "LogisticRegression(random_state=0)"
      ]
     },
     "execution_count": 55,
     "metadata": {},
     "output_type": "execute_result"
    }
   ],
   "source": [
    "from sklearn.linear_model import LogisticRegression\n",
    "\n",
    "SA_lr = LogisticRegression(random_state = 0)\n",
    "SA_lr.fit(train_tfidf, X_train['content'])\n",
    "\n",
    "#사이킷런: 로지스틱 회귀 실습"
   ]
  },
  {
   "cell_type": "code",
   "execution_count": 54,
   "metadata": {},
   "outputs": [],
   "source": [
    "# from sklearn.model_selection import GridSearchCV\n",
    "\n",
    "# params = {'C': [1, 3, 3.5, 4, 4.5, 5]}\n",
    "# SA_lr_grid_cv = GridSearchCV(SA_lr, param_grid=params, cv=3, scoring='accuracy', verbose=1)\n",
    "\n",
    "# # 그리스서치: 가장 최적의 파라미터 값을 찾는 것\n",
    "# ㅇ# 파라미터는 데이터를 통해 구해지고, 모델 내부적으로 결정되며, 사용자에 의해 조정되지 않지만, 하이퍼 파라민터는 모델링할 때 사용자가 직접 설정한다."
   ]
  },
  {
   "cell_type": "code",
   "execution_count": 59,
   "metadata": {},
   "outputs": [],
   "source": [
    "# 새로운 텍스트를 직접 입력해 감성 예측 수행해봅시다!\n",
    "st = input(\"감성을 분석할 문장을 입력하세요: \")"
   ]
  },
  {
   "cell_type": "code",
   "execution_count": 60,
   "metadata": {},
   "outputs": [
    {
     "name": "stdout",
     "output_type": "stream",
     "text": [
      "[]\n",
      "['']\n"
     ]
    }
   ],
   "source": [
    "st = re.compile(r'[ㄱ-ㅣ가-힣]+').findall(st)\n",
    "print(st)\n",
    "\n",
    "st = [\" \".join(st)]\n",
    "print(st)"
   ]
  },
  {
   "cell_type": "code",
   "execution_count": 61,
   "metadata": {},
   "outputs": [
    {
     "ename": "NameError",
     "evalue": "name 'SA_lr_best' is not defined",
     "output_type": "error",
     "traceback": [
      "\u001b[1;31m---------------------------------------------------------------------------\u001b[0m",
      "\u001b[1;31mNameError\u001b[0m                                 Traceback (most recent call last)",
      "Cell \u001b[1;32mIn[61], line 5\u001b[0m\n\u001b[0;32m      2\u001b[0m st_tfidf \u001b[39m=\u001b[39m tfidf\u001b[39m.\u001b[39mtransform(st)\n\u001b[0;32m      4\u001b[0m \u001b[39m# 감성 분석 모델에 적용하여 예측\u001b[39;00m\n\u001b[1;32m----> 5\u001b[0m st_predict \u001b[39m=\u001b[39m SA_lr_best\u001b[39m.\u001b[39mpredict(st_tfidf)\n",
      "\u001b[1;31mNameError\u001b[0m: name 'SA_lr_best' is not defined"
     ]
    }
   ],
   "source": [
    "# 입력 텍스트의 벡터화\n",
    "st_tfidf = tfidf.transform(st)\n",
    "\n",
    "# 감성 분석 모델에 적용하여 예측\n",
    "st_predict = SA_lr_best.predict(st_tfidf)"
   ]
  },
  {
   "cell_type": "code",
   "execution_count": null,
   "metadata": {},
   "outputs": [],
   "source": [
    "# 예측값 출력\n",
    "if(st_predict ==0):\n",
    "    print(st, \"->> 부정 감성\")\n",
    "else:\n",
    "    print(st, \"->> 긍정 감성\")"
   ]
  },
  {
   "cell_type": "code",
   "execution_count": null,
   "metadata": {},
   "outputs": [],
   "source": []
  },
  {
   "cell_type": "code",
   "execution_count": null,
   "metadata": {},
   "outputs": [],
   "source": []
  },
  {
   "cell_type": "code",
   "execution_count": null,
   "metadata": {},
   "outputs": [],
   "source": []
  },
  {
   "cell_type": "code",
   "execution_count": null,
   "metadata": {},
   "outputs": [],
   "source": []
  },
  {
   "cell_type": "code",
   "execution_count": null,
   "metadata": {},
   "outputs": [],
   "source": []
  },
  {
   "cell_type": "code",
   "execution_count": null,
   "metadata": {},
   "outputs": [],
   "source": []
  },
  {
   "cell_type": "code",
   "execution_count": null,
   "metadata": {},
   "outputs": [],
   "source": []
  },
  {
   "cell_type": "code",
   "execution_count": null,
   "metadata": {},
   "outputs": [],
   "source": []
  },
  {
   "cell_type": "code",
   "execution_count": null,
   "metadata": {},
   "outputs": [],
   "source": []
  },
  {
   "cell_type": "code",
   "execution_count": null,
   "metadata": {},
   "outputs": [],
   "source": []
  }
 ],
 "metadata": {
  "kernelspec": {
   "display_name": "pandas-dev",
   "language": "python",
   "name": "python3"
  },
  "language_info": {
   "codemirror_mode": {
    "name": "ipython",
    "version": 3
   },
   "file_extension": ".py",
   "mimetype": "text/x-python",
   "name": "python",
   "nbconvert_exporter": "python",
   "pygments_lexer": "ipython3",
   "version": "3.10.10"
  },
  "orig_nbformat": 4
 },
 "nbformat": 4,
 "nbformat_minor": 2
}
